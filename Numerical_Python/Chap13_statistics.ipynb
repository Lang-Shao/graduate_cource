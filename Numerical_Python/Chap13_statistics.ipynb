{
 "cells": [
  {
   "cell_type": "code",
   "execution_count": 1,
   "metadata": {},
   "outputs": [],
   "source": [
    "import numpy as np\n",
    "import matplotlib.pyplot as plt\n",
    "from scipy import stats\n",
    "from scipy import optimize\n",
    "import seaborn as sns\n",
    "sns.set(style='whitegrid')"
   ]
  },
  {
   "cell_type": "code",
   "execution_count": 24,
   "metadata": {},
   "outputs": [
    {
     "data": {
      "text/plain": [
       "array([3.5, 1.1, 3.2, 2.8, 6.7, 4.4, 0.9, 2.2])"
      ]
     },
     "execution_count": 24,
     "metadata": {},
     "output_type": "execute_result"
    }
   ],
   "source": [
    "x = np.array([3.5, 1.1, 3.2, 2.8, 6.7, 4.4, 0.9, 2.2]);\n",
    "x"
   ]
  },
  {
   "cell_type": "code",
   "execution_count": 25,
   "metadata": {},
   "outputs": [
    {
     "data": {
      "text/plain": [
       "3.1"
      ]
     },
     "execution_count": 25,
     "metadata": {},
     "output_type": "execute_result"
    }
   ],
   "source": [
    "np.mean(x)"
   ]
  },
  {
   "cell_type": "code",
   "execution_count": 26,
   "metadata": {},
   "outputs": [
    {
     "data": {
      "text/plain": [
       "3.0"
      ]
     },
     "execution_count": 26,
     "metadata": {},
     "output_type": "execute_result"
    }
   ],
   "source": [
    "np.median(x)"
   ]
  },
  {
   "cell_type": "code",
   "execution_count": 27,
   "metadata": {},
   "outputs": [
    {
     "data": {
      "text/plain": [
       "3.1"
      ]
     },
     "execution_count": 27,
     "metadata": {},
     "output_type": "execute_result"
    }
   ],
   "source": [
    "x.mean()"
   ]
  },
  {
   "cell_type": "code",
   "execution_count": 31,
   "metadata": {},
   "outputs": [
    {
     "data": {
      "text/plain": [
       "(0.9, 6.7)"
      ]
     },
     "execution_count": 31,
     "metadata": {},
     "output_type": "execute_result"
    }
   ],
   "source": [
    "(np.min(x),np.max(x))"
   ]
  },
  {
   "cell_type": "code",
   "execution_count": 33,
   "metadata": {},
   "outputs": [
    {
     "data": {
      "text/plain": [
       "3.0700000000000007"
      ]
     },
     "execution_count": 33,
     "metadata": {},
     "output_type": "execute_result"
    }
   ],
   "source": [
    "x.var()"
   ]
  },
  {
   "cell_type": "code",
   "execution_count": 34,
   "metadata": {},
   "outputs": [
    {
     "data": {
      "text/plain": [
       "1.7521415467935233"
      ]
     },
     "execution_count": 34,
     "metadata": {},
     "output_type": "execute_result"
    }
   ],
   "source": [
    "x.std()"
   ]
  },
  {
   "cell_type": "code",
   "execution_count": 35,
   "metadata": {},
   "outputs": [
    {
     "data": {
      "text/plain": [
       "3.0700000000000003"
      ]
     },
     "execution_count": 35,
     "metadata": {},
     "output_type": "execute_result"
    }
   ],
   "source": [
    "_**2.0"
   ]
  },
  {
   "cell_type": "code",
   "execution_count": 39,
   "metadata": {},
   "outputs": [
    {
     "data": {
      "text/plain": [
       "array([[ 0.20812579, -0.10270222,  1.03175673],\n",
       "       [ 2.48024186, -0.69783049,  0.06458723]])"
      ]
     },
     "execution_count": 39,
     "metadata": {},
     "output_type": "execute_result"
    }
   ],
   "source": [
    "np.random.randn(2,3)"
   ]
  },
  {
   "cell_type": "code",
   "execution_count": 40,
   "metadata": {},
   "outputs": [
    {
     "data": {
      "text/plain": [
       "array([7, 3, 1, 7, 7, 4, 5, 5, 2, 6, 5, 5])"
      ]
     },
     "execution_count": 40,
     "metadata": {},
     "output_type": "execute_result"
    }
   ],
   "source": [
    "np.random.randint(8,size=12)"
   ]
  },
  {
   "cell_type": "code",
   "execution_count": 76,
   "metadata": {},
   "outputs": [
    {
     "data": {
      "text/plain": [
       "(array([1141., 1152., 1136., 1114., 1104., 1075., 1072., 1084., 1122.]),\n",
       " array([1.        , 1.88888889, 2.77777778, 3.66666667, 4.55555556,\n",
       "        5.44444444, 6.33333333, 7.22222222, 8.11111111, 9.        ]),\n",
       " <a list of 9 Patch objects>)"
      ]
     },
     "execution_count": 76,
     "metadata": {},
     "output_type": "execute_result"
    },
    {
     "data": {
      "image/png": "[encoded data removed]",
      "text/plain": [
       "<Figure size 864x216 with 3 Axes>"
      ]
     },
     "metadata": {},
     "output_type": "display_data"
    }
   ],
   "source": [
    "fig, axes=plt.subplots(1,3,figsize=(12,3))\n",
    "axes[0].hist(np.random.rand(10000))\n",
    "axes[1].hist(np.random.randn(10))\n",
    "axes[2].hist(np.random.randint(low=1, high=10, size=10000),\n",
    "bins=9, align='left')\n"
   ]
  },
  {
   "cell_type": "code",
   "execution_count": 105,
   "metadata": {},
   "outputs": [
    {
     "data": {
      "text/plain": [
       "array([ 2.21290200e+00,  2.12839780e+00,  1.84171140e+00,  8.23824795e-02,\n",
       "        8.58963680e-01, -8.26016427e-01,  1.15727052e+00,  1.37591514e+00,\n",
       "        9.43028459e-01,  8.47870601e-01,  5.29691421e-01, -5.69404688e-01,\n",
       "        8.31804559e-01,  2.33596392e-01, -8.47670334e-01, -1.67666183e+00,\n",
       "        3.33226186e-02,  3.80444688e-01, -8.02884581e-01, -8.35119016e-01,\n",
       "       -1.06883444e+00,  1.89931152e-01, -5.55370100e-02,  1.06244261e+00,\n",
       "        5.79646759e-01, -3.20221841e-01, -2.69755842e-01,  3.23213921e-01,\n",
       "        1.37433620e+00, -2.04943133e-01,  2.76132222e-01,  1.62559782e-01,\n",
       "       -4.35673450e-01,  9.64208703e-02, -1.88685108e+00,  5.80846484e-01,\n",
       "        3.28724603e+00,  2.08878624e-01, -5.19715499e-01,  2.02425663e+00,\n",
       "        3.19625218e-01, -5.42291951e-01, -4.66349950e-01,  3.69485689e-01,\n",
       "       -3.26578477e-01,  1.13707908e+00, -1.73136278e+00, -1.25268671e+00,\n",
       "       -1.90254672e-02,  8.51220807e-01, -4.30786676e-01, -1.30656051e-01,\n",
       "       -9.71356977e-01, -1.71895239e+00, -7.06840463e-01, -6.36780342e-01,\n",
       "        1.23010587e-01,  6.94191780e-01,  1.05595760e+00,  3.82460875e-01,\n",
       "        3.17723343e-01, -2.93032773e-01,  8.54137382e-01, -5.13024930e-01,\n",
       "       -8.72562384e-01,  1.76642376e-01, -5.59318771e-01, -4.89247211e-01,\n",
       "       -5.62085508e-01, -7.94061686e-01,  8.37395936e-01, -6.23815559e-01,\n",
       "       -5.33780931e-01, -9.07333607e-01,  1.37931333e+00, -1.54748016e-01,\n",
       "       -4.95505236e-01,  5.24769416e-01,  4.61215257e-01, -8.56885317e-01,\n",
       "       -8.18470426e-01,  5.22515456e-01,  6.76882026e-01, -5.08540563e-01,\n",
       "       -1.46185791e-01,  1.35195940e+00,  1.90543285e+00,  4.98425414e-01,\n",
       "        1.86802168e+00, -6.21596180e-02, -5.39934472e-01,  1.76737745e+00,\n",
       "       -3.50113254e-01, -1.35493332e+00,  4.28015629e-01,  3.74754612e-01,\n",
       "       -1.90795152e-01, -1.03639261e+00,  1.21547850e-01,  9.54530910e-01,\n",
       "       -4.74587677e-01, -1.52477188e+00, -1.93927149e+00,  3.45147784e-01,\n",
       "       -6.21523379e-01,  1.11014045e+00,  5.02436861e-01,  9.22323987e-01,\n",
       "       -2.77103070e-01, -2.78233266e-01,  2.22664051e+00, -2.79935876e-01,\n",
       "       -2.05114525e+00,  1.22031205e-01,  4.82488538e-01, -1.03419818e+00,\n",
       "        9.09864981e-01,  1.22098814e+00, -1.56596806e+00,  5.50540092e-01,\n",
       "       -2.83760402e-03, -1.30018077e+00,  4.26169816e-02, -1.19366736e+00,\n",
       "        3.88682724e-02,  8.49344313e-01, -1.40089490e+00,  9.43825767e-01,\n",
       "        5.89135661e-01, -9.72217406e-02, -1.46925684e+00, -8.16351024e-01,\n",
       "       -2.24947937e-01, -1.20298817e-01,  1.34377635e+00,  8.42117986e-01,\n",
       "        6.80830437e-01,  3.96344933e-01,  8.73641277e-02, -2.90214391e-02,\n",
       "       -2.86793206e-01,  3.28699003e-01, -4.22675740e-01, -4.55164720e-02,\n",
       "       -1.71031536e+00, -5.46598165e-01, -1.05612876e+00, -7.19253773e-01,\n",
       "       -1.51573567e+00, -4.67233749e-01, -6.65418695e-01,  1.25116012e+00,\n",
       "        1.45837033e+00, -9.08911426e-01, -1.09209266e+00, -1.15772720e+00,\n",
       "       -6.82914915e-01, -2.31880808e-01, -8.97440113e-01, -5.38419879e-02,\n",
       "       -2.60725473e-01,  1.36218355e-01,  3.76627063e-01, -8.41092996e-01,\n",
       "       -1.28460720e+00, -3.40702927e-01, -8.11717990e-01, -6.05204285e-01,\n",
       "        9.38488348e-01,  1.33419197e+00, -2.12183118e-01, -3.13834333e-01,\n",
       "       -5.24720055e-01,  8.68224104e-01,  1.15287984e-01,  2.54920285e-02,\n",
       "       -4.25046908e-01,  4.36109823e-01,  5.56225357e-01, -5.77900049e-01,\n",
       "       -8.55310689e-02, -1.30979023e-01, -1.39694646e-02, -1.56640032e+00,\n",
       "       -1.31186110e+00,  5.15598348e-01,  1.90220319e-01, -4.53292344e-01,\n",
       "       -1.46823537e+00,  4.85337461e-01, -2.69302884e-01,  2.18338854e-01,\n",
       "       -3.49513406e-01, -1.87520691e+00,  4.04869855e-01,  4.99117474e-01,\n",
       "        5.46823908e-01,  9.23084675e-01, -1.30694348e+00,  1.37776761e-01,\n",
       "       -1.25395186e+00, -2.62160183e-01,  7.05615746e-01, -1.12366196e+00,\n",
       "        1.58987834e+00,  8.62030204e-01,  8.19011410e-01, -1.68752048e+00,\n",
       "       -1.51764168e+00,  9.97380169e-01, -2.04037675e-01,  1.30544373e+00,\n",
       "       -1.21322728e+00, -5.26686158e-01,  1.30189542e+00, -1.37580097e+00,\n",
       "       -7.00212702e-01, -2.50447162e-01,  8.53075370e-01,  1.26632281e+00,\n",
       "       -8.98378942e-01, -2.61125142e-01, -1.85647955e+00, -6.38612229e-01,\n",
       "        6.66151869e-01,  8.92280401e-01,  6.73407413e-01, -2.49957370e-01,\n",
       "       -9.16527628e-01, -5.80860482e-01, -7.47172355e-01, -2.41347646e-01,\n",
       "        2.03207416e-01, -1.46969739e+00, -1.37099619e+00,  7.03219442e-01,\n",
       "        4.05241689e-01, -3.81564949e-01, -1.29978832e+00, -9.46956300e-01,\n",
       "        3.50645880e-02,  2.21107512e-01, -1.80267034e-01,  3.84047900e-01,\n",
       "        4.67753650e-01, -4.55688762e-01, -1.53002752e+00,  6.98870147e-01,\n",
       "        2.81624017e-01,  8.91730629e-01,  1.97542957e-01, -9.35348442e-01,\n",
       "        8.93301983e-01,  9.26077126e-01, -4.16423385e-01,  1.30304758e+00,\n",
       "        1.58271827e-01, -1.41140225e+00, -2.25100629e-01,  2.55324837e+00,\n",
       "       -9.18746771e-01, -9.27081343e-01,  1.44101374e+00, -1.72330234e+00,\n",
       "        5.99286780e-01,  5.52327245e-01, -3.39996495e-01, -3.54428634e-01,\n",
       "       -9.26230929e-01, -5.80031022e-01,  2.84506943e-01,  1.66051356e+00,\n",
       "        2.52308097e-01, -1.15364216e+00,  1.08253167e+00, -5.16243960e-01,\n",
       "       -8.91022658e-01, -9.58971497e-01, -1.18151798e+00, -6.42792675e-01,\n",
       "        5.67714369e-01, -7.02547056e-01, -2.12660608e+00, -3.57803251e-01,\n",
       "       -6.17719658e-01,  1.27015588e+00, -9.87636526e-01, -1.66833109e+00,\n",
       "        1.53984758e+00,  5.70108922e-01, -6.16365718e-01, -1.02806375e+00,\n",
       "       -6.65235644e-01, -5.05974890e-01,  7.32223849e-01, -8.30408640e-01,\n",
       "        2.38008519e+00,  5.04185767e-01,  4.62293486e-01, -4.87713746e-01,\n",
       "       -5.64632809e-01,  5.61904367e-01,  1.22155556e+00, -1.08257084e+00,\n",
       "       -3.55546238e-01, -3.28186355e-01, -2.20928002e+00,  6.57088527e-01,\n",
       "        4.22163506e-01,  4.04916491e-01, -9.02334349e-01, -3.05525068e-01,\n",
       "       -1.54916461e+00, -2.47299652e-01,  1.75250609e+00,  4.66958646e-01,\n",
       "        2.12503509e-02,  1.53201728e+00,  1.14495571e-01,  1.11705028e+00,\n",
       "       -9.62610481e-01, -8.15974784e-01,  1.06011238e+00,  4.15688572e-01,\n",
       "        4.77857350e-01, -1.23846669e+00, -1.90817533e+00,  2.06363725e-01,\n",
       "        3.07578907e-01,  7.58543887e-01,  6.08204956e-01,  1.08634173e+00,\n",
       "       -6.53221863e-01,  4.18201545e-01,  7.38123024e-01,  1.91069709e-03,\n",
       "        1.90657212e-01,  2.08328552e-01,  1.01394794e+00,  3.94969687e-01,\n",
       "       -8.73422546e-01, -6.96915978e-01,  6.68549016e-01,  2.74438831e+00,\n",
       "        1.60145796e+00,  1.24433842e+00, -1.54760432e-01,  6.82729137e-01,\n",
       "        1.53421383e+00,  7.24055426e-01, -2.91909334e-01,  4.49066682e-01,\n",
       "       -1.51854684e+00,  2.18760442e-03, -9.63492542e-01,  4.19153016e-02,\n",
       "        6.89150123e-01, -1.05291831e+00, -6.21410858e-01,  6.71287039e-01,\n",
       "       -2.38221678e-01,  3.25796476e-02, -2.50338315e+00,  4.18840406e-01,\n",
       "       -1.35651972e-01,  2.25689194e-01,  4.51871763e-01, -6.71023763e-01,\n",
       "        6.15749402e-01, -1.33222616e+00,  1.30768813e+00,  9.20913109e-01,\n",
       "        1.61607371e+00, -1.49580413e+00, -1.07219034e+00, -3.86195221e-01,\n",
       "       -1.30593268e+00, -3.96165845e-01, -7.97098091e-01, -8.81525410e-01,\n",
       "       -1.39303786e-01, -2.63977656e+00,  9.71164219e-01,  1.09829697e+00,\n",
       "        4.94382287e-01, -4.06199699e-02, -2.69276184e-01,  9.01290222e-01,\n",
       "        8.56810945e-01,  1.24837211e-01, -1.78581401e+00, -1.06594774e-01,\n",
       "        6.99668672e-01, -2.12244042e+00, -6.41671581e-01, -7.87534645e-01,\n",
       "       -2.14776219e+00,  1.08353324e+00, -2.64828605e-01, -1.86267867e+00,\n",
       "        1.35254763e-01,  3.13061489e-01, -1.97610085e-01, -4.10170956e-01,\n",
       "       -2.32628327e+00, -5.10644942e-01,  6.82436558e-01,  1.08874362e-01,\n",
       "        3.35660632e-02,  6.09225355e-01,  8.54075689e-01,  1.10891829e-03,\n",
       "        3.49294284e-01, -1.34969730e+00, -2.05494739e+00,  3.02055900e-01,\n",
       "       -1.34339429e-01,  6.47496367e-01, -1.73915939e+00, -2.64775212e-01,\n",
       "        7.78599179e-01,  1.52949984e+00, -1.14015811e+00, -1.44481680e+00,\n",
       "        6.15428513e-01,  7.64713851e-01, -3.40050566e-01,  1.11694796e+00,\n",
       "        3.52667600e-01,  1.57975450e+00,  5.51000234e-01, -5.37071868e-01,\n",
       "        4.69103422e-01, -8.58132231e-01,  3.69890218e-01, -2.46509147e-01,\n",
       "        8.97877623e-01, -2.40600484e-01, -7.78323317e-01,  6.39564202e-01,\n",
       "        1.48085774e+00,  7.38841297e-01,  1.86314669e+00,  1.47950705e-01,\n",
       "        1.43128876e+00,  2.92162211e-01, -6.01250406e-01,  4.47353574e-01,\n",
       "       -1.98186471e-01,  1.80141690e-01,  4.21895304e-02,  1.67665438e+00,\n",
       "       -4.39829790e-01, -9.67541171e-01,  4.78283325e-01,  4.00671146e+00,\n",
       "        7.44673401e-02,  3.37084631e-01, -1.98017146e+00, -9.41262571e-03,\n",
       "        6.11228756e-01, -3.73122816e-01,  1.59258451e-03, -4.57555484e-01,\n",
       "        1.15424109e+00,  1.12513968e-02,  2.93285594e-01, -2.02816809e+00,\n",
       "        1.08432944e-01,  1.19471038e+00, -1.72619332e+00, -1.11421445e+00,\n",
       "        4.22410638e-01,  7.06627388e-01, -2.83309674e-01, -8.54469206e-01,\n",
       "       -8.13628928e-01,  3.75375932e-01, -2.71639889e-01,  1.01149032e+00,\n",
       "       -1.77531085e+00, -4.92567977e-01,  7.20566054e-01, -3.40776612e-02,\n",
       "        2.55759453e-01, -1.81063117e+00, -5.29542685e-02,  5.48206451e-01,\n",
       "        5.47313037e-02,  1.01787029e+00,  8.16624154e-01,  5.67842191e-01,\n",
       "        1.81952684e+00,  1.36876332e-01, -8.66024457e-01, -1.79151644e+00,\n",
       "       -1.17839119e+00,  2.93406173e-01,  3.71990270e-01,  3.56899111e-02,\n",
       "       -2.39317825e+00,  1.23230383e-01,  1.70183140e+00, -1.24595556e+00,\n",
       "        2.20507221e+00,  5.32608130e-01, -6.38909150e-01,  7.68222759e-01,\n",
       "        2.77986818e-01,  4.11908332e-01, -1.51177371e+00, -6.06618754e-01,\n",
       "        1.29141704e-01, -2.62447080e-01, -1.74075251e-01, -1.20110472e+00,\n",
       "       -1.12502018e-01,  2.32389471e+00, -1.24521365e+00,  1.08577803e+00,\n",
       "       -1.63121754e+00,  1.87833548e+00, -6.82384874e-01, -8.35372522e-01,\n",
       "       -1.06492127e+00,  4.47393625e-01, -2.19084783e+00, -5.42115340e-01,\n",
       "        1.20558320e+00,  6.34007994e-01, -4.99164859e-01,  6.82445948e-01,\n",
       "        4.61495902e-01,  6.71001263e-01, -1.49614516e+00, -1.84856723e-01,\n",
       "       -6.74998476e-02,  1.05197945e+00,  5.02799453e-01,  1.25605984e+00,\n",
       "       -3.20737218e-01,  4.27445474e-01,  5.19542466e-01, -1.49944366e-01,\n",
       "        1.52070536e-01, -9.78450966e-01,  4.32566085e-01,  1.33184863e+00,\n",
       "       -2.11804544e+00,  7.75154000e-02, -1.13646475e-01, -2.80199794e-02,\n",
       "        1.39336529e-01,  6.81785648e-01,  8.22371357e-01, -2.01035341e-01,\n",
       "        4.68638753e-01,  1.56104041e+00, -8.33500745e-01,  6.30602618e-02,\n",
       "       -8.36155251e-01,  1.36813587e+00,  1.51463398e+00, -8.94239585e-01,\n",
       "       -7.84432566e-02, -8.42787492e-01,  6.51189202e-01, -5.38852532e-01,\n",
       "       -6.47243348e-02, -1.70111518e+00,  2.18298693e-01,  6.51586151e-01,\n",
       "        7.61873098e-02, -3.30526377e-01,  1.71344801e+00,  4.97174909e-01,\n",
       "        2.08026289e-01, -4.42464916e-01, -1.18491601e-01, -6.55397875e-01,\n",
       "        2.75749948e-01,  5.78052977e-01,  1.10616928e+00, -8.61093559e-01,\n",
       "        8.83913559e-01,  1.31157365e+00, -1.23428262e+00, -4.23574137e-01,\n",
       "       -8.28703994e-01,  1.52560876e-01, -8.53658707e-01,  1.82954165e+00,\n",
       "        5.27253605e-01, -1.19417701e+00,  1.40811909e-01,  8.63326658e-01,\n",
       "       -7.72282140e-01,  8.28893742e-01,  8.03184546e-01, -5.16508801e-01,\n",
       "        3.54546677e-01,  7.01638488e-02, -9.84554615e-01, -5.70987959e-01,\n",
       "        1.00957025e-01,  3.12294065e-01,  1.31498788e+00, -4.04212115e-02,\n",
       "        1.13857569e-01,  1.58037206e-01, -1.29496635e+00, -4.73600037e-01,\n",
       "       -1.08028266e+00, -2.46114799e+00, -1.55960140e+00,  1.22517969e+00,\n",
       "       -7.19816158e-01,  9.96660667e-01, -6.17657831e-01, -3.90374747e-01,\n",
       "       -5.48695546e-02, -2.40139485e-01, -6.11717710e-01, -1.27877020e+00,\n",
       "        3.78336982e-01,  1.26987604e+00,  3.99755342e-02,  2.29728956e-01,\n",
       "       -8.10021516e-02,  8.66615837e-01, -1.79843297e+00, -5.03207680e-01,\n",
       "       -3.96378904e-01, -6.87825776e-01, -3.55165958e-01, -4.75219237e-01,\n",
       "        5.97337170e-01,  1.60839161e+00, -7.68336109e-02, -2.18056792e-01,\n",
       "        9.19539928e-01, -3.82892895e-02, -1.59917603e+00,  5.74907129e-01,\n",
       "       -5.26348345e-01, -5.31376460e-01, -1.96170910e+00,  2.73463659e+00,\n",
       "        2.36247632e+00,  1.86023761e+00,  3.06605935e-01,  2.85808285e-01,\n",
       "        1.19104615e+00, -6.67369749e-02,  4.77506401e-01,  2.61301304e+00,\n",
       "        5.29516452e-01,  5.04853143e-02,  5.59574612e-01, -4.90187435e-01,\n",
       "       -9.09070542e-01, -1.45165892e-01,  6.88838935e-01, -1.74028776e-01,\n",
       "       -1.08623947e+00, -3.26724918e-01, -2.20452046e+00,  3.05462656e-01,\n",
       "       -4.67878327e-01,  6.15566176e-01, -4.54484429e-01, -8.80542348e-01,\n",
       "        1.30181108e-01, -1.72239434e+00,  3.24697674e-01, -2.06011247e+00,\n",
       "        9.85397611e-01,  4.70271410e-01, -8.36102066e-01, -4.27475708e-01,\n",
       "        9.27151638e-01, -2.08139780e+00, -1.51203207e+00,  1.43737197e+00,\n",
       "       -9.09649238e-01,  1.33162417e+00, -1.78531440e-01,  8.85353618e-01,\n",
       "       -8.53250837e-01,  8.99908114e-01,  3.47014731e-01,  7.16436527e-01,\n",
       "        2.84049352e-01,  1.94374853e+00,  2.06677915e+00,  1.36457215e+00,\n",
       "       -1.04121603e-02,  1.04409528e+00, -1.20379683e+00, -8.36302422e-01,\n",
       "        7.07360377e-01,  4.29885728e-01,  1.57057891e+00,  2.91375896e-01,\n",
       "       -1.17791904e+00, -7.68334601e-01, -2.14121828e+00, -1.44360164e+00,\n",
       "       -1.36074733e+00, -6.96966590e-01,  1.06425012e+00, -5.49491512e-01,\n",
       "        4.52994382e-01, -1.15246968e+00, -6.41530909e-01, -2.80840546e-03,\n",
       "        1.68927076e+00,  1.13408334e+00, -1.36988242e+00, -8.93044363e-01,\n",
       "        2.23735533e-01,  3.13775076e-01,  6.88871175e-01, -1.41922763e-01,\n",
       "       -1.50236657e-01,  9.91513441e-01, -3.68405444e-01,  1.04296956e+00,\n",
       "       -2.98496682e-01, -1.97915933e-01, -2.22351571e-01, -5.14019624e-02,\n",
       "        2.23818857e-01,  4.62808774e-01, -1.25558673e-01, -2.41767901e-01,\n",
       "        3.43490707e-01, -2.69603760e-01, -1.67656822e+00,  6.53768044e-01,\n",
       "       -1.29392726e-01,  1.36431383e+00,  6.43515288e-02, -1.00043006e+00,\n",
       "        3.52761939e-01, -7.41458624e-01,  1.91298606e+00, -2.24953413e-02,\n",
       "        1.63602314e+00, -1.69691849e+00,  5.06274739e-01,  2.85033390e-01,\n",
       "       -1.56021895e+00, -3.83200824e-03,  1.11662094e-01, -7.90519323e-01,\n",
       "       -2.12588291e+00,  1.07712714e+00, -6.33105463e-01,  5.04468007e-01,\n",
       "       -2.28483182e+00,  1.01539168e+00,  4.88554773e-01,  1.97627402e-02,\n",
       "        1.09891385e+00, -1.03153396e-01,  2.99590088e-01,  6.85593383e-01,\n",
       "        1.20605078e+00,  3.45780930e-01,  6.16740104e-01, -5.48876455e-02,\n",
       "        1.44898431e+00, -2.86082924e-01,  1.01525736e+00,  9.42045433e-02,\n",
       "        1.29108580e+00,  6.35432689e-01,  6.01918880e-01,  1.22955299e+00,\n",
       "       -3.97242713e-01, -1.12529627e-01, -7.37789050e-02,  9.64698869e-01,\n",
       "        4.80200087e-01,  7.33919588e-01,  3.01177103e-01,  2.85954195e-01,\n",
       "       -1.71370078e+00,  2.00508381e+00, -4.68259967e-01, -1.20802332e+00,\n",
       "        3.51499713e-02, -4.96788114e-01, -2.92827418e-01, -4.78612010e-01,\n",
       "       -1.05186772e+00, -6.47850409e-01,  2.19341737e-01, -3.68870204e-01,\n",
       "        1.65423636e-01,  3.59766879e-01,  2.20964741e-01, -1.08623281e+00,\n",
       "        5.89503277e-01, -7.55597178e-01, -1.02466487e+00,  6.24032505e-02,\n",
       "        3.84639669e-01, -2.87683288e-01,  1.57755729e+00,  4.64295945e-01,\n",
       "       -3.16220757e-01,  3.18769379e-01, -2.81258472e-01,  6.39339459e-01,\n",
       "       -6.36474760e-01,  3.41379549e-01, -1.50295116e+00, -9.01061580e-01,\n",
       "        6.00802474e-01, -1.04380501e+00,  4.19301665e-01, -6.39973238e-01,\n",
       "       -1.32190783e+00,  2.28676754e+00, -6.68844762e-01, -3.68119325e-01,\n",
       "       -1.80916665e+00,  7.30798430e-01,  3.99556592e-01,  1.12648338e-01,\n",
       "        5.70547451e-01, -1.20434493e+00, -2.95060854e-01,  6.19949319e-01,\n",
       "        8.60913782e-01,  1.71373039e+00,  1.35675029e+00,  8.26939394e-01,\n",
       "       -4.67656234e-01, -7.93512245e-01, -6.16141373e-01, -3.24003481e-01,\n",
       "        6.04655879e-02, -3.31836209e-01, -8.83811817e-01,  6.41168368e-01,\n",
       "        1.31523898e-01,  1.38221432e+00, -6.71622111e-01, -5.67231484e-01,\n",
       "        7.78048717e-01,  2.61638143e+00,  7.02628234e-01, -1.52597501e+00,\n",
       "        7.03110578e-02,  4.76626408e-01, -1.56084358e+00, -1.97665363e-01,\n",
       "       -7.90171507e-02, -9.57241646e-01, -8.87952821e-01,  1.81900535e+00,\n",
       "        1.51329426e-01, -7.72834323e-01,  7.28540216e-01, -3.60975771e-01,\n",
       "       -9.19546010e-02,  7.04900752e-01, -5.44766072e-01, -1.01574748e+00,\n",
       "        1.68802135e+00,  2.85905859e-01,  3.23758806e+00, -1.24838217e+00,\n",
       "       -6.38051142e-03,  2.32671979e-01,  5.40173306e-01, -4.23980546e-02,\n",
       "       -5.39274806e-01, -1.16275134e+00, -1.26965430e+00, -7.50872330e-01,\n",
       "       -3.07361592e-01, -5.19659649e-01,  2.84547178e-02, -1.00597058e+00,\n",
       "       -8.96280411e-01,  1.21034542e+00, -4.93305161e-01, -1.73323091e+00,\n",
       "        2.58048043e-01,  4.95799335e-02,  1.10823461e+00,  3.47722296e-01,\n",
       "       -1.33191591e-01, -9.42121929e-01,  4.86886478e-01,  1.58563951e-02,\n",
       "       -3.08577010e-01,  6.72783263e-01, -9.24520808e-01, -2.35067594e-01,\n",
       "       -5.31279394e-01, -1.02202696e+00, -7.77898180e-01, -2.36497918e-01,\n",
       "        1.37398403e+00, -5.87596972e-02, -7.57229499e-01, -1.37709672e+00,\n",
       "       -1.34849054e+00, -1.66909007e-01, -2.81406039e-01,  7.42680111e-01,\n",
       "        2.49695162e-01,  8.16490078e-01,  9.79014109e-01, -9.77372756e-01,\n",
       "       -7.11460543e-01,  3.86415403e-01,  3.62422697e-01,  9.81526568e-01,\n",
       "        1.09455947e+00, -1.07504392e+00, -1.80534269e+00,  1.23497044e+00,\n",
       "       -8.37144850e-01,  1.20695261e+00,  1.69704967e+00,  5.49004274e-01,\n",
       "        6.54185436e-01, -1.09048704e+00, -9.36956201e-01, -6.26887141e-01,\n",
       "       -1.11160705e-01, -1.45889743e+00, -1.35028973e-01,  8.76087097e-01,\n",
       "       -9.29917487e-02,  5.67076815e-02, -8.45914500e-02, -7.62010264e-01,\n",
       "        4.30510386e-02, -8.26410545e-02, -1.28841875e-01,  7.83359176e-01,\n",
       "        1.02476524e-01, -2.00536807e-01,  2.68467759e-01, -1.06599100e+00,\n",
       "       -1.73828785e-01,  1.42851413e+00, -7.03339202e-01, -3.63327006e-01,\n",
       "       -2.75501260e-01,  1.24230917e+00,  2.17598827e+00, -6.24523258e-01,\n",
       "        5.76423984e-01,  6.94959914e-01,  1.01794740e+00,  7.73803717e-01,\n",
       "        3.64617694e-01, -9.10865109e-01, -2.42180128e+00,  1.08918912e+00,\n",
       "       -3.60907085e-01,  1.38585237e-02, -4.11115476e-01, -3.87243129e-01,\n",
       "        3.19741645e-01, -1.24217243e+00, -5.91358628e-01, -7.37750528e-01,\n",
       "        2.13569160e-01, -6.67531618e-01,  1.30400565e+00,  1.29256905e-01,\n",
       "        1.47610486e-01, -6.56949728e-01,  8.16114342e-01, -5.93962239e-01,\n",
       "        1.01506441e+00,  1.61129027e+00,  1.36165723e+00, -1.91501339e-01,\n",
       "       -8.34193630e-01,  8.42100685e-01,  2.03180438e+00,  6.29536965e-01,\n",
       "       -1.62715234e+00,  7.86549350e-01,  4.89666527e-01, -8.95103227e-01,\n",
       "        7.84706918e-01, -1.48538670e-02, -4.96140730e-01, -2.58785207e+00])"
      ]
     },
     "execution_count": 105,
     "metadata": {},
     "output_type": "execute_result"
    }
   ],
   "source": [
    "np.random.seed(123456789)\n",
    "np.random.randn(1000)"
   ]
  },
  {
   "cell_type": "code",
   "execution_count": 18,
   "metadata": {},
   "outputs": [],
   "source": [
    "a=np.random.randn(1000)"
   ]
  },
  {
   "cell_type": "code",
   "execution_count": 7,
   "metadata": {},
   "outputs": [
    {
     "data": {
      "text/plain": [
       "array([ 1.04076738,  3.11954929, -0.98605028, -1.09534126, -3.11620077,\n",
       "        0.78842676, -1.29630296,  0.6875481 , -0.69064354,  0.48671018])"
      ]
     },
     "execution_count": 7,
     "metadata": {},
     "output_type": "execute_result"
    }
   ],
   "source": [
    "a"
   ]
  },
  {
   "cell_type": "code",
   "execution_count": 10,
   "metadata": {},
   "outputs": [
    {
     "data": {
      "image/png": "[encoded data removed]",
      "text/plain": [
       "<Figure size 720x432 with 1 Axes>"
      ]
     },
     "metadata": {},
     "output_type": "display_data"
    }
   ],
   "source": [
    "fig, axes=plt.subplots(1,1,figsize=(10,6))"
   ]
  },
  {
   "cell_type": "code",
   "execution_count": 19,
   "metadata": {},
   "outputs": [
    {
     "data": {
      "text/plain": [
       "array([-1.03262284e+00, -1.76848814e-01,  4.71221728e-01, -2.95605619e-01,\n",
       "       -9.88841677e-01,  1.65820178e+00, -1.56136600e+00,  2.16928239e-01,\n",
       "        1.77633011e-01, -3.42746005e-02,  4.84052001e-01,  1.58668403e+00,\n",
       "        6.13353124e-01,  9.23621520e-01,  1.32957835e+00,  1.45026677e-01,\n",
       "        6.13519165e-01, -9.07466861e-01, -8.71576670e-01, -1.55233462e+00,\n",
       "       -5.95246624e-01, -1.96979412e+00, -6.80676636e-01,  3.88347619e-01,\n",
       "       -7.29210721e-01, -4.73125818e-01,  2.80913392e-02, -4.33622309e-01,\n",
       "        3.07532405e-01,  1.24172519e+00,  1.15440492e+00, -1.72892787e+00,\n",
       "        3.77826059e-01, -6.32954434e-01,  1.82356544e+00,  4.27938157e-02,\n",
       "        1.86199002e+00,  8.93296804e-01,  3.26562915e-01, -3.81701277e-02,\n",
       "        4.31041684e-02, -1.05169240e+00,  6.80048413e-01, -7.80986177e-01,\n",
       "       -1.06049194e-01, -6.46161585e-01, -1.20586345e+00,  6.02236172e-03,\n",
       "        7.00763387e-01, -1.02873007e+00,  7.88875658e-01, -2.28916635e-01,\n",
       "        6.87495060e-01, -8.69582177e-01,  5.60840623e-01, -5.54557752e-01,\n",
       "        3.64778825e-01,  1.27418609e-01,  9.18618080e-01, -1.34868621e+00,\n",
       "        5.20765259e-01,  7.44991366e-01,  9.76440937e-01,  4.58735188e-01,\n",
       "        6.68914945e-01, -1.32168055e+00,  9.31795074e-01,  7.46808715e-01,\n",
       "       -6.14513071e-01,  1.35381643e+00,  4.63449767e-01,  7.11135307e-01,\n",
       "        1.02269372e+00, -2.34241874e-01,  1.90295471e+00,  7.69855117e-01,\n",
       "        2.40955441e-01,  2.19867100e+00, -3.47095039e-01, -5.01954374e-01,\n",
       "        6.91362320e-01,  3.58615933e-01, -4.55853104e-01,  2.93940707e+00,\n",
       "       -1.17590155e+00,  1.62665839e+00, -1.41795841e+00,  1.07314618e+00,\n",
       "        4.74863306e-01,  1.02689014e+00,  6.17188821e-02,  7.51685644e-01,\n",
       "        1.49545807e+00,  3.13907773e-01, -7.08955315e-01, -1.21588953e-01,\n",
       "       -7.77604906e-01, -7.44695721e-01, -1.22222889e+00, -8.27973825e-01,\n",
       "        8.44972295e-01, -8.62213660e-01,  4.18408647e-01,  1.57583721e-01,\n",
       "       -5.11033628e-01,  3.98254986e-01, -4.09062876e-01, -4.65181990e-01,\n",
       "        7.63454629e-02, -1.50509888e-01,  1.86616153e+00,  1.11425209e+00,\n",
       "        9.71322713e-01, -7.48684676e-01,  5.37130575e-01,  6.38242276e-01,\n",
       "        4.12561878e-01, -5.87782263e-02, -9.97481196e-01, -9.69170181e-01,\n",
       "        1.53405224e+00,  1.95585309e-01, -6.64412305e-01, -7.40623520e-01,\n",
       "        6.11388299e-01,  1.02442213e+00, -1.00496032e+00, -2.29959464e+00,\n",
       "        5.68641023e-01, -1.26781016e+00, -1.79659000e+00,  1.59953281e-02,\n",
       "        6.80470162e-01, -1.25709293e+00,  2.36099568e-01,  8.36385003e-02,\n",
       "       -6.80291771e-01, -1.25815511e+00, -3.06539102e-01, -6.40539396e-01,\n",
       "       -2.03499586e-01, -1.54906753e+00, -2.84072537e+00,  1.46552598e-02,\n",
       "        7.21424700e-01,  1.13216933e-01,  2.36890766e-02, -9.63339913e-02,\n",
       "       -3.87430220e-02,  7.15893361e-01,  1.77830184e+00,  9.48371597e-01,\n",
       "       -1.13958298e-02, -1.60603318e+00,  5.30663802e-01, -1.16160988e-01,\n",
       "        1.84481258e+00, -9.42695661e-01, -1.92169938e+00,  1.88783519e+00,\n",
       "       -1.73045034e-01,  4.68356977e-01,  6.51922207e-01,  1.74509340e-01,\n",
       "        4.92221907e-01,  1.15529112e-01,  1.15350933e+00,  1.75751399e+00,\n",
       "       -8.17367111e-01, -1.34760771e+00, -1.08547588e+00, -1.22278443e+00,\n",
       "        1.37422957e+00, -3.85187260e-01, -6.21296726e-01,  4.32584965e-01,\n",
       "        1.78281247e+00, -6.66155519e-01, -1.29819108e+00, -8.51605657e-01,\n",
       "       -3.02823663e-01,  3.94901534e-01, -1.43203142e+00,  1.38639831e+00,\n",
       "        3.43766706e-01,  3.21392390e+00,  1.49341305e+00,  2.46865177e-01,\n",
       "       -6.90966174e-02, -1.19932120e+00,  1.28083862e+00,  4.46894569e-01,\n",
       "        1.48106901e+00, -1.60435836e+00,  2.57264716e-02, -1.54528898e+00,\n",
       "        4.99513316e-02,  7.19816741e-01,  4.34914223e-01, -2.00023542e-01,\n",
       "        9.17223851e-02, -3.89911057e-01, -2.66620808e-01, -3.94304936e-01,\n",
       "       -6.50709869e-01, -1.54562894e+00, -1.02003541e-02, -2.41663873e+00,\n",
       "       -1.22443534e+00, -5.27545850e-02,  2.71718226e-01, -8.03735529e-01,\n",
       "       -1.36598682e+00, -8.99501707e-01, -1.37821758e+00, -1.37697926e-01,\n",
       "       -6.97224572e-02, -2.75864052e-01,  7.55802429e-03, -1.23055517e+00,\n",
       "       -8.03468052e-01,  1.89028374e+00,  2.23154169e+00,  2.67356593e-01,\n",
       "        6.26847678e-01, -1.46900098e+00, -6.43232410e-01, -4.74587082e-01,\n",
       "        4.89598313e-01, -8.09674599e-01,  3.02801178e-01, -8.04298988e-01,\n",
       "       -9.19223786e-01, -1.45885756e+00,  2.65599236e-01, -6.81493066e-01,\n",
       "       -4.75041445e-01,  5.83023661e-01, -4.65579715e-01,  1.99368737e-01,\n",
       "        1.16394902e+00,  3.62109657e-03,  1.23049667e-01, -1.23271557e+00,\n",
       "       -8.98996599e-01, -1.21815207e+00, -1.81142049e+00, -3.44760306e-01,\n",
       "       -1.98818565e+00, -5.02972897e-01,  6.61283084e-01, -6.00272387e-01,\n",
       "       -1.60643182e-01, -4.55763608e-02,  1.08918656e+00, -8.51110527e-01,\n",
       "       -1.60687993e+00,  1.27129339e+00, -6.05036679e-01,  1.41965579e+00,\n",
       "        4.49556655e-01,  1.40709607e+00,  1.78697123e-01,  2.49086057e-02,\n",
       "       -2.44554683e-01,  9.34188086e-02,  4.33007784e-01, -5.36918491e-01,\n",
       "       -2.47189827e+00,  7.53764238e-01,  2.84386371e-01, -2.69730130e-01,\n",
       "        3.29241030e-01,  1.84510948e+00, -9.57373559e-01, -7.50380640e-01,\n",
       "       -1.34594330e+00,  4.37807261e-01,  1.08182164e+00, -1.03578299e+00,\n",
       "       -6.65750983e-01,  5.92017889e-01,  9.08351618e-01, -1.24985885e+00,\n",
       "        1.23607924e+00,  3.29322837e-01,  5.53739274e-01, -7.09617433e-01,\n",
       "       -1.19746988e+00,  1.02250775e-01,  2.63863528e-01, -8.05042121e-01,\n",
       "        6.50146193e-01,  1.40709466e+00,  1.09779354e+00,  3.31062003e-01,\n",
       "       -8.25949122e-01, -9.64541376e-02,  1.18270072e+00,  1.89677626e+00,\n",
       "       -4.32471125e-01,  3.79397737e-01, -8.44513372e-01, -1.64450116e+00,\n",
       "       -3.27365620e-01,  9.53697249e-01,  5.61620314e-01,  7.50999481e-02,\n",
       "        1.13195781e+00, -1.11040858e-01,  1.74197053e-01, -3.61844632e-01,\n",
       "        1.74969965e-01, -5.48079590e-01,  5.55304205e-01,  3.06886962e+00,\n",
       "        1.62949889e+00, -3.73950095e-01,  7.01258196e-01,  3.09781331e-01,\n",
       "        2.51004526e-01, -1.82451923e-01, -4.40606326e-02,  1.06943824e+00,\n",
       "       -5.22164936e-01,  6.18158126e-01, -3.31004303e-01,  5.38081986e-01,\n",
       "        9.60356663e-01, -1.57769354e-01, -1.21133889e+00,  1.33217074e+00,\n",
       "        1.41877439e-01, -1.43258082e+00, -5.73886636e-01,  2.20833628e+00,\n",
       "        1.01454657e-01, -3.16536116e-01, -2.19963057e-01, -2.45255510e-02,\n",
       "        1.71917532e+00, -3.71693021e-01, -4.20671756e-01, -1.25331527e+00,\n",
       "       -9.42182103e-01, -2.41740511e-01, -6.90910534e-01,  6.03273756e-01,\n",
       "       -3.76107322e-01, -9.45180178e-01,  9.15507604e-01, -1.85676176e+00,\n",
       "        1.62585991e+00, -7.43986911e-01,  2.22482838e-01, -3.12429810e-01,\n",
       "       -5.82776285e-01,  3.10751861e+00, -1.05043446e+00,  6.10352384e-01,\n",
       "        1.84502211e+00,  9.34190519e-01,  6.78571681e-01,  4.90737883e-03,\n",
       "        1.91954699e-01,  1.27308844e+00, -8.08794796e-01,  1.70509504e+00,\n",
       "        9.53975073e-01,  2.05269727e-01,  1.56653724e+00,  5.32074603e-01,\n",
       "       -1.20185418e+00, -3.92754469e-01, -3.13332598e-02,  9.34362500e-01,\n",
       "        1.40504209e+00,  4.40359257e-01,  1.50295591e+00, -1.07020952e+00,\n",
       "        9.17816111e-02, -1.34437142e+00,  1.57389896e-02,  2.26825959e-01,\n",
       "       -5.06607169e-01, -2.65641962e+00, -6.51489933e-01,  1.65723606e+00,\n",
       "        5.52152182e-01, -3.56732276e-01, -2.65494034e-01, -4.77316037e-01,\n",
       "        3.60455672e-01, -2.37881971e-01, -3.09879853e-01,  4.29597818e-02,\n",
       "        9.11269874e-01,  1.60765840e-01,  7.28387336e-01,  5.97336824e-01,\n",
       "       -1.11758206e+00,  2.72319258e-01, -7.73107440e-01, -6.98027408e-01,\n",
       "        1.01234944e+00, -1.20654079e+00,  7.30514732e-01, -1.32415982e+00,\n",
       "        2.98364937e-01, -1.06424878e+00, -7.39329416e-01, -7.19023020e-01,\n",
       "       -1.18264288e+00,  1.98043602e+00,  1.69556835e-01,  1.23290057e+00,\n",
       "        1.45799576e+00,  4.51184452e-01, -7.95149971e-01, -2.23442820e-01,\n",
       "        1.96416209e+00,  1.64260580e-01, -1.57480018e+00, -1.79647013e-01,\n",
       "        9.28791457e-01,  4.15720337e-01, -4.37321269e-01, -7.28572517e-01,\n",
       "        1.36205882e+00, -1.27598068e+00, -7.38830916e-01,  1.87844630e-01,\n",
       "        1.11532293e+00, -1.97980753e+00,  1.14084532e+00, -6.95851387e-01,\n",
       "       -3.44037491e-01,  3.08698530e-01,  1.91200109e+00, -9.17480831e-01,\n",
       "       -1.24569637e+00, -2.27344463e+00,  1.47968723e+00,  1.46116125e-01,\n",
       "        1.61510739e+00,  5.36348965e-01, -2.51854817e-01,  1.02917368e+00,\n",
       "        1.58201636e-01,  6.17073622e-01, -6.83735787e-01, -3.02631472e-01,\n",
       "       -5.95835688e-01,  8.88024226e-01, -2.24765194e+00,  3.22517681e-01,\n",
       "        2.20798769e+00,  2.16668206e+00, -2.75827051e-01,  8.41757231e-01,\n",
       "       -8.74544789e-01, -8.33328944e-01, -4.56270269e-01, -8.71689107e-01,\n",
       "        5.99672128e-01,  1.32978158e+00, -1.26257445e+00,  4.10409630e-01,\n",
       "       -4.18648135e-01,  1.25385911e+00,  2.28814831e-01, -1.88396420e-01,\n",
       "       -1.55000513e+00, -1.40440418e+00,  2.31022270e+00,  2.13224764e-01,\n",
       "        1.07013909e+00, -1.23102468e+00,  2.07829562e-01, -1.08486599e-01,\n",
       "        1.64166675e-01,  4.33545301e-01, -8.28076390e-01, -7.92596201e-01,\n",
       "        5.30566790e-01,  1.24346465e+00, -1.22825250e+00, -8.81637690e-02,\n",
       "       -1.06910079e+00,  5.51310360e-01,  2.75194789e-01,  3.35566342e-01,\n",
       "       -4.39788351e-01,  6.84175776e-01,  3.39925095e-01, -3.60586298e-02,\n",
       "        4.87162541e-01,  3.37170398e-01, -8.96722695e-01,  2.49570932e+00,\n",
       "        6.86380159e-01,  3.54391066e-01,  2.25922295e-01,  3.80265586e-01,\n",
       "       -6.51187052e-02,  1.08449571e+00, -1.29625337e-01,  4.33220740e-01,\n",
       "        1.61833735e-01, -4.91519511e-01,  4.08742652e-01,  3.80470474e-01,\n",
       "       -3.13412996e-01, -1.22227146e+00,  2.25055763e-01, -1.34335406e+00,\n",
       "        4.97524210e-01,  2.44367016e-01,  1.97807606e-02, -6.95876692e-01,\n",
       "        3.07564746e-01,  1.86359657e+00, -3.94785813e-01, -6.41898029e-01,\n",
       "        1.06114094e+00,  5.12908437e-02,  4.25586423e-02, -4.73161250e-02,\n",
       "        7.56229038e-01, -2.55787439e-01, -1.47844564e+00, -4.34605651e-01,\n",
       "       -3.55173351e-01,  3.49990663e-01, -7.77133811e-01,  5.37736986e-01,\n",
       "        7.38901972e-01, -4.36861959e-01,  5.97852798e-01, -5.09517933e-01,\n",
       "       -9.47450182e-01,  1.35244151e+00,  5.69998004e-01,  6.37607547e-01,\n",
       "        1.55747498e+00,  2.17923888e+00, -1.72985803e-01, -4.20362122e-01,\n",
       "       -1.11519421e+00,  8.72722066e-02, -1.13830016e+00, -2.39289863e-01,\n",
       "        4.31010634e-02,  2.32380929e-01,  6.51361267e-01,  1.47171451e-01,\n",
       "       -7.58327191e-01,  2.96393825e-01,  9.82503232e-01,  5.65663702e-02,\n",
       "       -6.87930045e-01, -6.05966196e-01, -5.48510975e-02, -8.20054240e-01,\n",
       "       -1.75116369e+00,  1.25477329e+00, -2.71460559e-01,  7.30347481e-01,\n",
       "        3.60204250e-01,  1.47455742e+00,  4.09383436e-01,  6.40708814e-01,\n",
       "        8.31325886e-01,  1.40149281e+00,  9.55674864e-01,  8.45429612e-01,\n",
       "       -6.83205279e-01, -1.54323624e+00, -1.24632058e-02,  6.80056539e-01,\n",
       "       -1.07316575e-01, -1.29983189e+00,  9.27568578e-01, -1.21221458e+00,\n",
       "        8.92500456e-01, -6.23118578e-01, -9.17440651e-01,  5.36565449e-02,\n",
       "       -3.32941736e-01, -2.41488978e-01, -1.44444748e+00,  1.71419529e+00,\n",
       "       -1.40693021e+00, -9.55297346e-01, -2.39170314e-01,  1.35252627e+00,\n",
       "        3.10125013e-01,  1.03182741e-01,  8.75358086e-01,  1.18974854e-01,\n",
       "        7.16355625e-01,  1.74393216e-01, -8.06666917e-01,  7.62456554e-01,\n",
       "       -1.15184247e+00,  6.83651194e-01,  4.39191102e-01,  1.60579384e+00,\n",
       "       -6.23077809e-02, -7.49823708e-01,  6.56385921e-01, -5.56508554e-01,\n",
       "       -2.23221586e+00, -6.35109567e-01,  1.89862464e+00, -1.03481484e+00,\n",
       "       -2.60688290e+00, -1.99942681e+00,  1.09270358e+00, -2.21820481e-01,\n",
       "        9.69651227e-01, -1.08211579e+00, -5.20611371e-01, -5.96871162e-01,\n",
       "        1.44515013e+00,  2.59592734e-01,  1.43557182e-01,  1.00135255e+00,\n",
       "        1.09055517e+00, -1.65553777e+00,  2.00399099e+00, -8.02778455e-02,\n",
       "        3.71367262e-02,  7.90654121e-01, -9.75832151e-02, -3.26072428e-01,\n",
       "        3.57865630e-01,  2.20276746e+00,  5.26169484e-01, -2.75514146e-01,\n",
       "       -1.12295591e-01, -2.02333464e-01,  6.35868327e-01,  5.45234278e-01,\n",
       "       -9.80178937e-01,  3.71599478e-02,  7.01176945e-01, -2.43461019e-01,\n",
       "        8.66565063e-01,  1.61017011e-01, -1.74564222e+00, -3.77102877e-01,\n",
       "        1.11911593e+00, -2.83084564e-01,  5.78167576e-01, -8.40320847e-01,\n",
       "        2.57495757e-01, -9.40304571e-02,  6.93251142e-01, -9.90666316e-01,\n",
       "       -1.80527543e+00,  8.50800432e-02, -6.43840755e-01, -2.60385412e-02,\n",
       "        1.36466388e+00, -1.82398535e+00,  2.65078012e-01,  1.95388420e+00,\n",
       "        6.38509048e-03, -5.10188631e-01,  5.46961720e-01, -1.28956938e+00,\n",
       "        5.58599425e-01,  1.38388180e+00,  9.48996636e-01,  3.47343619e-01,\n",
       "       -3.62917421e-01,  3.83096462e-01, -1.27133376e-01, -7.92257108e-01,\n",
       "        2.04600680e+00, -7.64556739e-01, -1.36939075e-01,  1.94252368e-02,\n",
       "        1.37853658e-01,  3.76568230e-01, -4.74350598e-01,  1.05294036e-01,\n",
       "        1.02942612e-01,  3.37209460e-01, -2.18692900e+00,  5.80005103e-01,\n",
       "        2.10409906e+00,  1.98245116e-01, -8.18027466e-02,  1.73175017e-01,\n",
       "        4.97802732e-01,  1.26944334e+00,  1.14510361e+00,  1.19602494e-01,\n",
       "       -5.01768599e-01, -2.18486931e+00,  1.94554917e-01, -8.74249891e-01,\n",
       "       -2.64475824e+00, -7.36762363e-01,  1.11444718e+00, -6.66049994e-01,\n",
       "        3.04989160e-02, -1.07509000e+00, -9.36545228e-02, -2.07248833e+00,\n",
       "        7.95370472e-01, -5.25054100e-01, -1.86466493e+00,  1.47085048e+00,\n",
       "        2.67467978e-01, -3.75819105e-02, -1.26953444e+00, -1.58454129e-01,\n",
       "        3.49327905e-01, -2.56109049e-02, -7.85130455e-01, -1.12753669e+00,\n",
       "        2.20123835e-01,  9.33992135e-02, -4.14407472e-01, -9.17315049e-01,\n",
       "       -9.93164389e-02,  8.88160364e-01,  2.43556276e-01,  5.60766762e-01,\n",
       "        4.47102864e-01, -2.29606499e-01, -8.23419056e-01, -1.25817752e+00,\n",
       "        3.42000134e-01, -6.46119995e-01,  7.93888960e-01,  5.58832911e-01,\n",
       "        4.41141997e-01,  5.70178427e-01, -3.48146460e-01,  6.71509491e-01,\n",
       "       -1.07176089e+00, -1.49804832e+00, -7.01474984e-01, -5.07878289e-01,\n",
       "       -8.41815656e-01, -4.35918466e-01,  3.77417734e-01, -4.22157134e-01,\n",
       "       -1.42045904e+00, -3.93977814e-01, -4.59314194e-01,  1.07827027e+00,\n",
       "       -1.36352694e+00,  1.05848944e+00,  5.24768337e-01,  4.18829806e-01,\n",
       "        2.79293400e+00, -6.45208766e-01, -1.46841933e+00, -5.04543658e-01,\n",
       "       -3.55975306e-01, -8.30767063e-01,  9.99070606e-01, -1.64482804e+00,\n",
       "       -1.41695590e-01, -1.00939602e+00,  1.55711455e-01,  7.40140325e-01,\n",
       "       -4.93444402e-02, -8.09298133e-01,  2.03627281e-01,  7.70573477e-01,\n",
       "       -1.63004528e-01,  6.35656904e-01,  3.87258796e-01,  2.08506768e-01,\n",
       "       -4.51600617e-01,  4.46484352e-01, -3.12946604e+00, -1.34732558e+00,\n",
       "       -3.04134920e-01,  1.83880958e+00, -8.56771180e-01, -4.69073019e-01,\n",
       "        6.35639713e-01,  2.04244384e+00, -7.36639808e-01,  2.70744423e-01,\n",
       "       -1.01555507e+00, -2.96800445e-01,  4.39180425e-01, -2.73976486e+00,\n",
       "        1.19223831e+00, -5.64508546e-02, -2.00962175e-02,  1.58445381e+00,\n",
       "        1.94371732e-01,  1.64032901e-02,  1.68397765e-01,  1.00772641e+00,\n",
       "       -8.51396590e-01,  2.00642429e+00, -2.14203866e+00,  2.19381202e-01,\n",
       "        9.88561980e-01,  8.93004119e-01,  6.56593473e-01,  1.47043636e+00,\n",
       "        1.76907160e+00, -9.21919523e-01,  1.88271025e+00,  1.43433916e+00,\n",
       "       -9.98838583e-01,  3.20747146e-02,  1.27371009e-01,  1.16445163e+00,\n",
       "       -2.77943351e-01, -1.11773891e+00, -1.41061278e+00,  7.33399889e-01,\n",
       "        2.71087160e-01,  9.37533371e-01, -8.12305841e-01,  4.04477078e-01,\n",
       "       -1.07280437e+00,  4.41490182e-01, -1.34297827e+00, -1.06330313e+00,\n",
       "        2.58089245e-01,  1.13597732e+00,  1.35511799e-01, -4.99659211e-01,\n",
       "        1.25829225e-01, -9.98536786e-01,  3.49537930e-01, -5.33168342e-01,\n",
       "        7.92245312e-01, -3.24749957e-01, -1.78729432e+00,  4.34608036e-01,\n",
       "       -1.39077032e+00,  7.45239029e-01, -7.90665333e-01, -6.69145972e-01,\n",
       "        1.59719250e+00,  9.04165773e-01, -1.21795674e+00, -4.60678289e-01,\n",
       "       -1.24380015e-01,  4.42659297e-01,  4.07227878e-01,  7.11948213e-01,\n",
       "        3.16452058e-01,  2.06071519e-01, -2.96381641e-03, -6.08429639e-01,\n",
       "        7.68967493e-01,  8.30088810e-01, -5.94124460e-01, -1.06358867e+00,\n",
       "       -7.28448509e-01, -3.80560510e-01,  4.15703689e-01, -7.06833726e-01,\n",
       "       -1.12975471e+00, -1.38034685e-01,  1.50092866e-01,  4.62391507e-01,\n",
       "        2.73659706e-01,  1.15477571e+00, -1.27489349e+00,  1.39759398e+00,\n",
       "        2.11477832e-01, -1.33220792e+00, -6.41256896e-01, -2.33854596e+00,\n",
       "       -8.95818142e-01, -1.63740220e+00, -1.93316053e+00,  3.03770101e-01,\n",
       "       -1.93868567e+00,  1.99332355e+00,  1.12499613e+00, -1.28265551e-01,\n",
       "        1.43696046e+00, -1.12164333e+00, -3.40115969e-01,  6.51467036e-02,\n",
       "       -1.19799686e+00,  2.21527521e+00, -1.01254378e+00, -6.57846965e-01,\n",
       "       -4.70355508e-02,  8.45964656e-01,  7.66622334e-01,  1.25217847e+00,\n",
       "        1.64732601e+00,  3.17563866e-01, -9.37493022e-01, -1.35872385e-01,\n",
       "       -4.31271060e-01, -5.58216242e-01,  4.58159148e-01,  4.50727676e-01,\n",
       "        4.43358141e-01,  2.12628244e+00, -9.54926322e-01,  5.51224400e-02,\n",
       "       -5.93966502e-01, -2.71825982e-01,  5.26889431e-01, -2.56527546e-01,\n",
       "       -1.12012453e+00, -1.10073817e-01,  1.04438141e+00, -9.76043236e-01,\n",
       "       -7.23053557e-01, -8.14845806e-01,  4.37585508e-01,  2.11976796e+00,\n",
       "       -4.17613105e-02,  3.07540893e-01, -5.90365006e-01,  2.41138928e+00,\n",
       "        1.69288441e-01,  1.86598327e+00, -3.54014326e-01, -9.16498083e-01,\n",
       "        7.51347759e-02,  5.03132955e-01,  3.91146435e-01, -1.31363737e+00,\n",
       "        1.42020796e+00,  7.76211552e-01, -9.81503402e-02,  2.20593799e-01,\n",
       "       -1.20246645e+00, -4.24667122e-01, -7.14267529e-01,  7.47649907e-01,\n",
       "       -9.18388952e-01, -2.79536326e+00, -4.38068265e-01,  1.43505048e+00,\n",
       "        2.05156802e-02, -1.70223688e+00,  1.34636917e+00,  1.39660088e+00,\n",
       "        2.03733367e-01,  1.37443632e+00,  6.31245425e-02,  1.34717959e+00,\n",
       "       -4.22672908e-01,  9.55953255e-01, -7.82862074e-01,  2.24533017e-01,\n",
       "        2.01584108e-01, -1.25357415e+00, -4.01447234e-01,  4.16774531e-01,\n",
       "       -1.56734694e+00, -2.75646277e-01, -3.64967574e-01,  6.33977504e-01,\n",
       "       -1.96140994e-01,  1.00706314e+00, -1.99132577e-01, -9.20799299e-01,\n",
       "        1.44206401e+00, -5.06039442e-01,  1.31615182e+00,  1.29181808e-01,\n",
       "       -4.76509740e-01,  2.00085247e+00, -7.63930000e-01, -1.66485475e-01,\n",
       "        1.20452393e-01, -4.38131866e-01, -7.08387295e-01, -1.94779933e+00,\n",
       "       -4.57049252e-01,  9.93980934e-01,  6.09275955e-01,  8.54602034e-02,\n",
       "       -5.09857544e-01,  2.92682955e-01, -5.99706325e-01, -2.92682562e-01,\n",
       "       -1.10265140e+00,  1.15303573e+00, -8.78179168e-02,  1.00673918e+00,\n",
       "       -1.51158750e+00, -7.40918252e-01, -9.53189506e-01, -7.82585081e-01])"
      ]
     },
     "execution_count": 19,
     "metadata": {},
     "output_type": "execute_result"
    }
   ],
   "source": [
    "a"
   ]
  },
  {
   "cell_type": "code",
   "execution_count": 22,
   "metadata": {},
   "outputs": [
    {
     "data": {
      "text/plain": [
       "(array([  2.,   5.,   9.,  11.,  25.,  49.,  72., 113., 104., 114., 145.,\n",
       "        117.,  80.,  52.,  47.,  27.,  20.,   3.,   1.,   4.]),\n",
       " array([-3.12946604, -2.81229654, -2.49512705, -2.17795755, -1.86078805,\n",
       "        -1.54361855, -1.22644906, -0.90927956, -0.59211006, -0.27494057,\n",
       "         0.04222893,  0.35939843,  0.67656793,  0.99373742,  1.31090692,\n",
       "         1.62807642,  1.94524591,  2.26241541,  2.57958491,  2.89675441,\n",
       "         3.2139239 ]),\n",
       " <a list of 20 Patch objects>)"
      ]
     },
     "execution_count": 22,
     "metadata": {},
     "output_type": "execute_result"
    },
    {
     "data": {
      "image/png": "[encoded data removed]",
      "text/plain": [
       "<Figure size 432x288 with 1 Axes>"
      ]
     },
     "metadata": {},
     "output_type": "display_data"
    }
   ],
   "source": [
    "plt.hist(a,20)"
   ]
  },
  {
   "cell_type": "code",
   "execution_count": 51,
   "metadata": {},
   "outputs": [
    {
     "data": {
      "text/plain": [
       "<matplotlib.collections.PathCollection at 0x7fe5ee3c9e48>"
      ]
     },
     "execution_count": 51,
     "metadata": {},
     "output_type": "execute_result"
    },
    {
     "data": {
      "image/png": "[encoded data removed]",
      "text/plain": [
       "<Figure size 432x288 with 1 Axes>"
      ]
     },
     "metadata": {},
     "output_type": "display_data"
    }
   ],
   "source": [
    "a = np.random.randn(10000)\n",
    "histvalue, histbin = np.histogram(a,bins=100)\n",
    "plt.scatter(histbin[:-1],histvalue)"
   ]
  },
  {
   "cell_type": "code",
   "execution_count": 55,
   "metadata": {},
   "outputs": [],
   "source": [
    "histvalue = np.concatenate(([histvalue[0]],histvalue))"
   ]
  },
  {
   "cell_type": "code",
   "execution_count": 58,
   "metadata": {},
   "outputs": [
    {
     "data": {
      "text/plain": [
       "[<matplotlib.lines.Line2D at 0x7fe5ee297e80>]"
      ]
     },
     "execution_count": 58,
     "metadata": {},
     "output_type": "execute_result"
    },
    {
     "data": {
      "image/png": "[encoded data removed]",
      "text/plain": [
       "<Figure size 432x288 with 1 Axes>"
      ]
     },
     "metadata": {},
     "output_type": "display_data"
    }
   ],
   "source": [
    "plt.plot(histbin,histvalue,ls='steps')"
   ]
  },
  {
   "cell_type": "code",
   "execution_count": 37,
   "metadata": {},
   "outputs": [
    {
     "data": {
      "text/plain": [
       "7"
      ]
     },
     "execution_count": 37,
     "metadata": {},
     "output_type": "execute_result"
    }
   ],
   "source": [
    "len(histbin)"
   ]
  },
  {
   "cell_type": "code",
   "execution_count": 38,
   "metadata": {},
   "outputs": [
    {
     "data": {
      "text/plain": [
       "6"
      ]
     },
     "execution_count": 38,
     "metadata": {},
     "output_type": "execute_result"
    }
   ],
   "source": [
    "len(histvalue)"
   ]
  },
  {
   "cell_type": "code",
   "execution_count": 49,
   "metadata": {},
   "outputs": [
    {
     "data": {
      "text/plain": [
       "[<matplotlib.lines.Line2D at 0x7fe5ee487c18>]"
      ]
     },
     "execution_count": 49,
     "metadata": {},
     "output_type": "execute_result"
    },
    {
     "data": {
      "image/png": "[encoded data removed]",
      "text/plain": [
       "<Figure size 432x288 with 1 Axes>"
      ]
     },
     "metadata": {},
     "output_type": "display_data"
    }
   ],
   "source": []
  },
  {
   "cell_type": "code",
   "execution_count": null,
   "metadata": {},
   "outputs": [],
   "source": []
  }
 ],
 "metadata": {
  "kernelspec": {
   "display_name": "Python 3",
   "language": "python",
   "name": "python3"
  },
  "language_info": {
   "codemirror_mode": {
    "name": "ipython",
    "version": 3
   },
   "file_extension": ".py",
   "mimetype": "text/x-python",
   "name": "python",
   "nbconvert_exporter": "python",
   "pygments_lexer": "ipython3",
   "version": "3.6.7"
  }
 },
 "nbformat": 4,
 "nbformat_minor": 2
}
