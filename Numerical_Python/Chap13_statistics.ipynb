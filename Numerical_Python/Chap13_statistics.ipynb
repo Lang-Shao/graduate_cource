{
 "cells": [
  {
   "cell_type": "code",
   "execution_count": 22,
   "metadata": {},
   "outputs": [],
   "source": [
    "import numpy as np\n",
    "import matplotlib.pyplot as plt\n",
    "from scipy import stats\n",
    "from scipy import optimize\n",
    "import seaborn as sns\n",
    "sns.set(style='whitegrid')"
   ]
  },
  {
   "cell_type": "code",
   "execution_count": 24,
   "metadata": {},
   "outputs": [
    {
     "data": {
      "text/plain": [
       "array([3.5, 1.1, 3.2, 2.8, 6.7, 4.4, 0.9, 2.2])"
      ]
     },
     "execution_count": 24,
     "metadata": {},
     "output_type": "execute_result"
    }
   ],
   "source": [
    "x = np.array([3.5, 1.1, 3.2, 2.8, 6.7, 4.4, 0.9, 2.2]);\n",
    "x"
   ]
  },
  {
   "cell_type": "code",
   "execution_count": 25,
   "metadata": {},
   "outputs": [
    {
     "data": {
      "text/plain": [
       "3.1"
      ]
     },
     "execution_count": 25,
     "metadata": {},
     "output_type": "execute_result"
    }
   ],
   "source": [
    "np.mean(x)"
   ]
  },
  {
   "cell_type": "code",
   "execution_count": 26,
   "metadata": {},
   "outputs": [
    {
     "data": {
      "text/plain": [
       "3.0"
      ]
     },
     "execution_count": 26,
     "metadata": {},
     "output_type": "execute_result"
    }
   ],
   "source": [
    "np.median(x)"
   ]
  },
  {
   "cell_type": "code",
   "execution_count": 27,
   "metadata": {},
   "outputs": [
    {
     "data": {
      "text/plain": [
       "3.1"
      ]
     },
     "execution_count": 27,
     "metadata": {},
     "output_type": "execute_result"
    }
   ],
   "source": [
    "x.mean()"
   ]
  },
  {
   "cell_type": "code",
   "execution_count": 31,
   "metadata": {},
   "outputs": [
    {
     "data": {
      "text/plain": [
       "(0.9, 6.7)"
      ]
     },
     "execution_count": 31,
     "metadata": {},
     "output_type": "execute_result"
    }
   ],
   "source": [
    "(np.min(x),np.max(x))"
   ]
  },
  {
   "cell_type": "code",
   "execution_count": 33,
   "metadata": {},
   "outputs": [
    {
     "data": {
      "text/plain": [
       "3.0700000000000007"
      ]
     },
     "execution_count": 33,
     "metadata": {},
     "output_type": "execute_result"
    }
   ],
   "source": [
    "x.var()"
   ]
  },
  {
   "cell_type": "code",
   "execution_count": 34,
   "metadata": {},
   "outputs": [
    {
     "data": {
      "text/plain": [
       "1.7521415467935233"
      ]
     },
     "execution_count": 34,
     "metadata": {},
     "output_type": "execute_result"
    }
   ],
   "source": [
    "x.std()"
   ]
  },
  {
   "cell_type": "code",
   "execution_count": 35,
   "metadata": {},
   "outputs": [
    {
     "data": {
      "text/plain": [
       "3.0700000000000003"
      ]
     },
     "execution_count": 35,
     "metadata": {},
     "output_type": "execute_result"
    }
   ],
   "source": [
    "_**2.0"
   ]
  },
  {
   "cell_type": "code",
   "execution_count": 39,
   "metadata": {},
   "outputs": [
    {
     "data": {
      "text/plain": [
       "array([[ 0.20812579, -0.10270222,  1.03175673],\n",
       "       [ 2.48024186, -0.69783049,  0.06458723]])"
      ]
     },
     "execution_count": 39,
     "metadata": {},
     "output_type": "execute_result"
    }
   ],
   "source": [
    "np.random.randn(2,3)"
   ]
  },
  {
   "cell_type": "code",
   "execution_count": 40,
   "metadata": {},
   "outputs": [
    {
     "data": {
      "text/plain": [
       "array([7, 3, 1, 7, 7, 4, 5, 5, 2, 6, 5, 5])"
      ]
     },
     "execution_count": 40,
     "metadata": {},
     "output_type": "execute_result"
    }
   ],
   "source": [
    "np.random.randint(8,size=12)"
   ]
  },
  {
   "cell_type": "code",
   "execution_count": 76,
   "metadata": {},
   "outputs": [
    {
     "data": {
      "text/plain": [
       "(array([1141., 1152., 1136., 1114., 1104., 1075., 1072., 1084., 1122.]),\n",
       " array([1.        , 1.88888889, 2.77777778, 3.66666667, 4.55555556,\n",
       "        5.44444444, 6.33333333, 7.22222222, 8.11111111, 9.        ]),\n",
       " <a list of 9 Patch objects>)"
      ]
     },
     "execution_count": 76,
     "metadata": {},
     "output_type": "execute_result"
    },
    {
     "data": {
      "image/png": "[encoded data removed]",
      "text/plain": [
       "<Figure size 864x216 with 3 Axes>"
      ]
     },
     "metadata": {},
     "output_type": "display_data"
    }
   ],
   "source": [
    "fig, axes=plt.subplots(1,3,figsize=(12,3))\n",
    "axes[0].hist(np.random.rand(10000))\n",
    "axes[1].hist(np.random.randn(10))\n",
    "axes[2].hist(np.random.randint(low=1, high=10, size=10000),\n",
    "bins=9, align='left')\n"
   ]
  },
  {
   "cell_type": "code",
   "execution_count": 105,
   "metadata": {},
   "outputs": [
    {
     "data": {
      "text/plain": [
       "array([ 2.21290200e+00,  2.12839780e+00,  1.84171140e+00,  8.23824795e-02,\n",
       "        8.58963680e-01, -8.26016427e-01,  1.15727052e+00,  1.37591514e+00,\n",
       "        9.43028459e-01,  8.47870601e-01,  5.29691421e-01, -5.69404688e-01,\n",
       "        8.31804559e-01,  2.33596392e-01, -8.47670334e-01, -1.67666183e+00,\n",
       "        3.33226186e-02,  3.80444688e-01, -8.02884581e-01, -8.35119016e-01,\n",
       "       -1.06883444e+00,  1.89931152e-01, -5.55370100e-02,  1.06244261e+00,\n",
       "        5.79646759e-01, -3.20221841e-01, -2.69755842e-01,  3.23213921e-01,\n",
       "        1.37433620e+00, -2.04943133e-01,  2.76132222e-01,  1.62559782e-01,\n",
       "       -4.35673450e-01,  9.64208703e-02, -1.88685108e+00,  5.80846484e-01,\n",
       "        3.28724603e+00,  2.08878624e-01, -5.19715499e-01,  2.02425663e+00,\n",
       "        3.19625218e-01, -5.42291951e-01, -4.66349950e-01,  3.69485689e-01,\n",
       "       -3.26578477e-01,  1.13707908e+00, -1.73136278e+00, -1.25268671e+00,\n",
       "       -1.90254672e-02,  8.51220807e-01, -4.30786676e-01, -1.30656051e-01,\n",
       "       -9.71356977e-01, -1.71895239e+00, -7.06840463e-01, -6.36780342e-01,\n",
       "        1.23010587e-01,  6.94191780e-01,  1.05595760e+00,  3.82460875e-01,\n",
       "        3.17723343e-01, -2.93032773e-01,  8.54137382e-01, -5.13024930e-01,\n",
       "       -8.72562384e-01,  1.76642376e-01, -5.59318771e-01, -4.89247211e-01,\n",
       "       -5.62085508e-01, -7.94061686e-01,  8.37395936e-01, -6.23815559e-01,\n",
       "       -5.33780931e-01, -9.07333607e-01,  1.37931333e+00, -1.54748016e-01,\n",
       "       -4.95505236e-01,  5.24769416e-01,  4.61215257e-01, -8.56885317e-01,\n",
       "       -8.18470426e-01,  5.22515456e-01,  6.76882026e-01, -5.08540563e-01,\n",
       "       -1.46185791e-01,  1.35195940e+00,  1.90543285e+00,  4.98425414e-01,\n",
       "        1.86802168e+00, -6.21596180e-02, -5.39934472e-01,  1.76737745e+00,\n",
       "       -3.50113254e-01, -1.35493332e+00,  4.28015629e-01,  3.74754612e-01,\n",
       "       -1.90795152e-01, -1.03639261e+00,  1.21547850e-01,  9.54530910e-01,\n",
       "       -4.74587677e-01, -1.52477188e+00, -1.93927149e+00,  3.45147784e-01,\n",
       "       -6.21523379e-01,  1.11014045e+00,  5.02436861e-01,  9.22323987e-01,\n",
       "       -2.77103070e-01, -2.78233266e-01,  2.22664051e+00, -2.79935876e-01,\n",
       "       -2.05114525e+00,  1.22031205e-01,  4.82488538e-01, -1.03419818e+00,\n",
       "        9.09864981e-01,  1.22098814e+00, -1.56596806e+00,  5.50540092e-01,\n",
       "       -2.83760402e-03, -1.30018077e+00,  4.26169816e-02, -1.19366736e+00,\n",
       "        3.88682724e-02,  8.49344313e-01, -1.40089490e+00,  9.43825767e-01,\n",
       "        5.89135661e-01, -9.72217406e-02, -1.46925684e+00, -8.16351024e-01,\n",
       "       -2.24947937e-01, -1.20298817e-01,  1.34377635e+00,  8.42117986e-01,\n",
       "        6.80830437e-01,  3.96344933e-01,  8.73641277e-02, -2.90214391e-02,\n",
       "       -2.86793206e-01,  3.28699003e-01, -4.22675740e-01, -4.55164720e-02,\n",
       "       -1.71031536e+00, -5.46598165e-01, -1.05612876e+00, -7.19253773e-01,\n",
       "       -1.51573567e+00, -4.67233749e-01, -6.65418695e-01,  1.25116012e+00,\n",
       "        1.45837033e+00, -9.08911426e-01, -1.09209266e+00, -1.15772720e+00,\n",
       "       -6.82914915e-01, -2.31880808e-01, -8.97440113e-01, -5.38419879e-02,\n",
       "       -2.60725473e-01,  1.36218355e-01,  3.76627063e-01, -8.41092996e-01,\n",
       "       -1.28460720e+00, -3.40702927e-01, -8.11717990e-01, -6.05204285e-01,\n",
       "        9.38488348e-01,  1.33419197e+00, -2.12183118e-01, -3.13834333e-01,\n",
       "       -5.24720055e-01,  8.68224104e-01,  1.15287984e-01,  2.54920285e-02,\n",
       "       -4.25046908e-01,  4.36109823e-01,  5.56225357e-01, -5.77900049e-01,\n",
       "       -8.55310689e-02, -1.30979023e-01, -1.39694646e-02, -1.56640032e+00,\n",
       "       -1.31186110e+00,  5.15598348e-01,  1.90220319e-01, -4.53292344e-01,\n",
       "       -1.46823537e+00,  4.85337461e-01, -2.69302884e-01,  2.18338854e-01,\n",
       "       -3.49513406e-01, -1.87520691e+00,  4.04869855e-01,  4.99117474e-01,\n",
       "        5.46823908e-01,  9.23084675e-01, -1.30694348e+00,  1.37776761e-01,\n",
       "       -1.25395186e+00, -2.62160183e-01,  7.05615746e-01, -1.12366196e+00,\n",
       "        1.58987834e+00,  8.62030204e-01,  8.19011410e-01, -1.68752048e+00,\n",
       "       -1.51764168e+00,  9.97380169e-01, -2.04037675e-01,  1.30544373e+00,\n",
       "       -1.21322728e+00, -5.26686158e-01,  1.30189542e+00, -1.37580097e+00,\n",
       "       -7.00212702e-01, -2.50447162e-01,  8.53075370e-01,  1.26632281e+00,\n",
       "       -8.98378942e-01, -2.61125142e-01, -1.85647955e+00, -6.38612229e-01,\n",
       "        6.66151869e-01,  8.92280401e-01,  6.73407413e-01, -2.49957370e-01,\n",
       "       -9.16527628e-01, -5.80860482e-01, -7.47172355e-01, -2.41347646e-01,\n",
       "        2.03207416e-01, -1.46969739e+00, -1.37099619e+00,  7.03219442e-01,\n",
       "        4.05241689e-01, -3.81564949e-01, -1.29978832e+00, -9.46956300e-01,\n",
       "        3.50645880e-02,  2.21107512e-01, -1.80267034e-01,  3.84047900e-01,\n",
       "        4.67753650e-01, -4.55688762e-01, -1.53002752e+00,  6.98870147e-01,\n",
       "        2.81624017e-01,  8.91730629e-01,  1.97542957e-01, -9.35348442e-01,\n",
       "        8.93301983e-01,  9.26077126e-01, -4.16423385e-01,  1.30304758e+00,\n",
       "        1.58271827e-01, -1.41140225e+00, -2.25100629e-01,  2.55324837e+00,\n",
       "       -9.18746771e-01, -9.27081343e-01,  1.44101374e+00, -1.72330234e+00,\n",
       "        5.99286780e-01,  5.52327245e-01, -3.39996495e-01, -3.54428634e-01,\n",
       "       -9.26230929e-01, -5.80031022e-01,  2.84506943e-01,  1.66051356e+00,\n",
       "        2.52308097e-01, -1.15364216e+00,  1.08253167e+00, -5.16243960e-01,\n",
       "       -8.91022658e-01, -9.58971497e-01, -1.18151798e+00, -6.42792675e-01,\n",
       "        5.67714369e-01, -7.02547056e-01, -2.12660608e+00, -3.57803251e-01,\n",
       "       -6.17719658e-01,  1.27015588e+00, -9.87636526e-01, -1.66833109e+00,\n",
       "        1.53984758e+00,  5.70108922e-01, -6.16365718e-01, -1.02806375e+00,\n",
       "       -6.65235644e-01, -5.05974890e-01,  7.32223849e-01, -8.30408640e-01,\n",
       "        2.38008519e+00,  5.04185767e-01,  4.62293486e-01, -4.87713746e-01,\n",
       "       -5.64632809e-01,  5.61904367e-01,  1.22155556e+00, -1.08257084e+00,\n",
       "       -3.55546238e-01, -3.28186355e-01, -2.20928002e+00,  6.57088527e-01,\n",
       "        4.22163506e-01,  4.04916491e-01, -9.02334349e-01, -3.05525068e-01,\n",
       "       -1.54916461e+00, -2.47299652e-01,  1.75250609e+00,  4.66958646e-01,\n",
       "        2.12503509e-02,  1.53201728e+00,  1.14495571e-01,  1.11705028e+00,\n",
       "       -9.62610481e-01, -8.15974784e-01,  1.06011238e+00,  4.15688572e-01,\n",
       "        4.77857350e-01, -1.23846669e+00, -1.90817533e+00,  2.06363725e-01,\n",
       "        3.07578907e-01,  7.58543887e-01,  6.08204956e-01,  1.08634173e+00,\n",
       "       -6.53221863e-01,  4.18201545e-01,  7.38123024e-01,  1.91069709e-03,\n",
       "        1.90657212e-01,  2.08328552e-01,  1.01394794e+00,  3.94969687e-01,\n",
       "       -8.73422546e-01, -6.96915978e-01,  6.68549016e-01,  2.74438831e+00,\n",
       "        1.60145796e+00,  1.24433842e+00, -1.54760432e-01,  6.82729137e-01,\n",
       "        1.53421383e+00,  7.24055426e-01, -2.91909334e-01,  4.49066682e-01,\n",
       "       -1.51854684e+00,  2.18760442e-03, -9.63492542e-01,  4.19153016e-02,\n",
       "        6.89150123e-01, -1.05291831e+00, -6.21410858e-01,  6.71287039e-01,\n",
       "       -2.38221678e-01,  3.25796476e-02, -2.50338315e+00,  4.18840406e-01,\n",
       "       -1.35651972e-01,  2.25689194e-01,  4.51871763e-01, -6.71023763e-01,\n",
       "        6.15749402e-01, -1.33222616e+00,  1.30768813e+00,  9.20913109e-01,\n",
       "        1.61607371e+00, -1.49580413e+00, -1.07219034e+00, -3.86195221e-01,\n",
       "       -1.30593268e+00, -3.96165845e-01, -7.97098091e-01, -8.81525410e-01,\n",
       "       -1.39303786e-01, -2.63977656e+00,  9.71164219e-01,  1.09829697e+00,\n",
       "        4.94382287e-01, -4.06199699e-02, -2.69276184e-01,  9.01290222e-01,\n",
       "        8.56810945e-01,  1.24837211e-01, -1.78581401e+00, -1.06594774e-01,\n",
       "        6.99668672e-01, -2.12244042e+00, -6.41671581e-01, -7.87534645e-01,\n",
       "       -2.14776219e+00,  1.08353324e+00, -2.64828605e-01, -1.86267867e+00,\n",
       "        1.35254763e-01,  3.13061489e-01, -1.97610085e-01, -4.10170956e-01,\n",
       "       -2.32628327e+00, -5.10644942e-01,  6.82436558e-01,  1.08874362e-01,\n",
       "        3.35660632e-02,  6.09225355e-01,  8.54075689e-01,  1.10891829e-03,\n",
       "        3.49294284e-01, -1.34969730e+00, -2.05494739e+00,  3.02055900e-01,\n",
       "       -1.34339429e-01,  6.47496367e-01, -1.73915939e+00, -2.64775212e-01,\n",
       "        7.78599179e-01,  1.52949984e+00, -1.14015811e+00, -1.44481680e+00,\n",
       "        6.15428513e-01,  7.64713851e-01, -3.40050566e-01,  1.11694796e+00,\n",
       "        3.52667600e-01,  1.57975450e+00,  5.51000234e-01, -5.37071868e-01,\n",
       "        4.69103422e-01, -8.58132231e-01,  3.69890218e-01, -2.46509147e-01,\n",
       "        8.97877623e-01, -2.40600484e-01, -7.78323317e-01,  6.39564202e-01,\n",
       "        1.48085774e+00,  7.38841297e-01,  1.86314669e+00,  1.47950705e-01,\n",
       "        1.43128876e+00,  2.92162211e-01, -6.01250406e-01,  4.47353574e-01,\n",
       "       -1.98186471e-01,  1.80141690e-01,  4.21895304e-02,  1.67665438e+00,\n",
       "       -4.39829790e-01, -9.67541171e-01,  4.78283325e-01,  4.00671146e+00,\n",
       "        7.44673401e-02,  3.37084631e-01, -1.98017146e+00, -9.41262571e-03,\n",
       "        6.11228756e-01, -3.73122816e-01,  1.59258451e-03, -4.57555484e-01,\n",
       "        1.15424109e+00,  1.12513968e-02,  2.93285594e-01, -2.02816809e+00,\n",
       "        1.08432944e-01,  1.19471038e+00, -1.72619332e+00, -1.11421445e+00,\n",
       "        4.22410638e-01,  7.06627388e-01, -2.83309674e-01, -8.54469206e-01,\n",
       "       -8.13628928e-01,  3.75375932e-01, -2.71639889e-01,  1.01149032e+00,\n",
       "       -1.77531085e+00, -4.92567977e-01,  7.20566054e-01, -3.40776612e-02,\n",
       "        2.55759453e-01, -1.81063117e+00, -5.29542685e-02,  5.48206451e-01,\n",
       "        5.47313037e-02,  1.01787029e+00,  8.16624154e-01,  5.67842191e-01,\n",
       "        1.81952684e+00,  1.36876332e-01, -8.66024457e-01, -1.79151644e+00,\n",
       "       -1.17839119e+00,  2.93406173e-01,  3.71990270e-01,  3.56899111e-02,\n",
       "       -2.39317825e+00,  1.23230383e-01,  1.70183140e+00, -1.24595556e+00,\n",
       "        2.20507221e+00,  5.32608130e-01, -6.38909150e-01,  7.68222759e-01,\n",
       "        2.77986818e-01,  4.11908332e-01, -1.51177371e+00, -6.06618754e-01,\n",
       "        1.29141704e-01, -2.62447080e-01, -1.74075251e-01, -1.20110472e+00,\n",
       "       -1.12502018e-01,  2.32389471e+00, -1.24521365e+00,  1.08577803e+00,\n",
       "       -1.63121754e+00,  1.87833548e+00, -6.82384874e-01, -8.35372522e-01,\n",
       "       -1.06492127e+00,  4.47393625e-01, -2.19084783e+00, -5.42115340e-01,\n",
       "        1.20558320e+00,  6.34007994e-01, -4.99164859e-01,  6.82445948e-01,\n",
       "        4.61495902e-01,  6.71001263e-01, -1.49614516e+00, -1.84856723e-01,\n",
       "       -6.74998476e-02,  1.05197945e+00,  5.02799453e-01,  1.25605984e+00,\n",
       "       -3.20737218e-01,  4.27445474e-01,  5.19542466e-01, -1.49944366e-01,\n",
       "        1.52070536e-01, -9.78450966e-01,  4.32566085e-01,  1.33184863e+00,\n",
       "       -2.11804544e+00,  7.75154000e-02, -1.13646475e-01, -2.80199794e-02,\n",
       "        1.39336529e-01,  6.81785648e-01,  8.22371357e-01, -2.01035341e-01,\n",
       "        4.68638753e-01,  1.56104041e+00, -8.33500745e-01,  6.30602618e-02,\n",
       "       -8.36155251e-01,  1.36813587e+00,  1.51463398e+00, -8.94239585e-01,\n",
       "       -7.84432566e-02, -8.42787492e-01,  6.51189202e-01, -5.38852532e-01,\n",
       "       -6.47243348e-02, -1.70111518e+00,  2.18298693e-01,  6.51586151e-01,\n",
       "        7.61873098e-02, -3.30526377e-01,  1.71344801e+00,  4.97174909e-01,\n",
       "        2.08026289e-01, -4.42464916e-01, -1.18491601e-01, -6.55397875e-01,\n",
       "        2.75749948e-01,  5.78052977e-01,  1.10616928e+00, -8.61093559e-01,\n",
       "        8.83913559e-01,  1.31157365e+00, -1.23428262e+00, -4.23574137e-01,\n",
       "       -8.28703994e-01,  1.52560876e-01, -8.53658707e-01,  1.82954165e+00,\n",
       "        5.27253605e-01, -1.19417701e+00,  1.40811909e-01,  8.63326658e-01,\n",
       "       -7.72282140e-01,  8.28893742e-01,  8.03184546e-01, -5.16508801e-01,\n",
       "        3.54546677e-01,  7.01638488e-02, -9.84554615e-01, -5.70987959e-01,\n",
       "        1.00957025e-01,  3.12294065e-01,  1.31498788e+00, -4.04212115e-02,\n",
       "        1.13857569e-01,  1.58037206e-01, -1.29496635e+00, -4.73600037e-01,\n",
       "       -1.08028266e+00, -2.46114799e+00, -1.55960140e+00,  1.22517969e+00,\n",
       "       -7.19816158e-01,  9.96660667e-01, -6.17657831e-01, -3.90374747e-01,\n",
       "       -5.48695546e-02, -2.40139485e-01, -6.11717710e-01, -1.27877020e+00,\n",
       "        3.78336982e-01,  1.26987604e+00,  3.99755342e-02,  2.29728956e-01,\n",
       "       -8.10021516e-02,  8.66615837e-01, -1.79843297e+00, -5.03207680e-01,\n",
       "       -3.96378904e-01, -6.87825776e-01, -3.55165958e-01, -4.75219237e-01,\n",
       "        5.97337170e-01,  1.60839161e+00, -7.68336109e-02, -2.18056792e-01,\n",
       "        9.19539928e-01, -3.82892895e-02, -1.59917603e+00,  5.74907129e-01,\n",
       "       -5.26348345e-01, -5.31376460e-01, -1.96170910e+00,  2.73463659e+00,\n",
       "        2.36247632e+00,  1.86023761e+00,  3.06605935e-01,  2.85808285e-01,\n",
       "        1.19104615e+00, -6.67369749e-02,  4.77506401e-01,  2.61301304e+00,\n",
       "        5.29516452e-01,  5.04853143e-02,  5.59574612e-01, -4.90187435e-01,\n",
       "       -9.09070542e-01, -1.45165892e-01,  6.88838935e-01, -1.74028776e-01,\n",
       "       -1.08623947e+00, -3.26724918e-01, -2.20452046e+00,  3.05462656e-01,\n",
       "       -4.67878327e-01,  6.15566176e-01, -4.54484429e-01, -8.80542348e-01,\n",
       "        1.30181108e-01, -1.72239434e+00,  3.24697674e-01, -2.06011247e+00,\n",
       "        9.85397611e-01,  4.70271410e-01, -8.36102066e-01, -4.27475708e-01,\n",
       "        9.27151638e-01, -2.08139780e+00, -1.51203207e+00,  1.43737197e+00,\n",
       "       -9.09649238e-01,  1.33162417e+00, -1.78531440e-01,  8.85353618e-01,\n",
       "       -8.53250837e-01,  8.99908114e-01,  3.47014731e-01,  7.16436527e-01,\n",
       "        2.84049352e-01,  1.94374853e+00,  2.06677915e+00,  1.36457215e+00,\n",
       "       -1.04121603e-02,  1.04409528e+00, -1.20379683e+00, -8.36302422e-01,\n",
       "        7.07360377e-01,  4.29885728e-01,  1.57057891e+00,  2.91375896e-01,\n",
       "       -1.17791904e+00, -7.68334601e-01, -2.14121828e+00, -1.44360164e+00,\n",
       "       -1.36074733e+00, -6.96966590e-01,  1.06425012e+00, -5.49491512e-01,\n",
       "        4.52994382e-01, -1.15246968e+00, -6.41530909e-01, -2.80840546e-03,\n",
       "        1.68927076e+00,  1.13408334e+00, -1.36988242e+00, -8.93044363e-01,\n",
       "        2.23735533e-01,  3.13775076e-01,  6.88871175e-01, -1.41922763e-01,\n",
       "       -1.50236657e-01,  9.91513441e-01, -3.68405444e-01,  1.04296956e+00,\n",
       "       -2.98496682e-01, -1.97915933e-01, -2.22351571e-01, -5.14019624e-02,\n",
       "        2.23818857e-01,  4.62808774e-01, -1.25558673e-01, -2.41767901e-01,\n",
       "        3.43490707e-01, -2.69603760e-01, -1.67656822e+00,  6.53768044e-01,\n",
       "       -1.29392726e-01,  1.36431383e+00,  6.43515288e-02, -1.00043006e+00,\n",
       "        3.52761939e-01, -7.41458624e-01,  1.91298606e+00, -2.24953413e-02,\n",
       "        1.63602314e+00, -1.69691849e+00,  5.06274739e-01,  2.85033390e-01,\n",
       "       -1.56021895e+00, -3.83200824e-03,  1.11662094e-01, -7.90519323e-01,\n",
       "       -2.12588291e+00,  1.07712714e+00, -6.33105463e-01,  5.04468007e-01,\n",
       "       -2.28483182e+00,  1.01539168e+00,  4.88554773e-01,  1.97627402e-02,\n",
       "        1.09891385e+00, -1.03153396e-01,  2.99590088e-01,  6.85593383e-01,\n",
       "        1.20605078e+00,  3.45780930e-01,  6.16740104e-01, -5.48876455e-02,\n",
       "        1.44898431e+00, -2.86082924e-01,  1.01525736e+00,  9.42045433e-02,\n",
       "        1.29108580e+00,  6.35432689e-01,  6.01918880e-01,  1.22955299e+00,\n",
       "       -3.97242713e-01, -1.12529627e-01, -7.37789050e-02,  9.64698869e-01,\n",
       "        4.80200087e-01,  7.33919588e-01,  3.01177103e-01,  2.85954195e-01,\n",
       "       -1.71370078e+00,  2.00508381e+00, -4.68259967e-01, -1.20802332e+00,\n",
       "        3.51499713e-02, -4.96788114e-01, -2.92827418e-01, -4.78612010e-01,\n",
       "       -1.05186772e+00, -6.47850409e-01,  2.19341737e-01, -3.68870204e-01,\n",
       "        1.65423636e-01,  3.59766879e-01,  2.20964741e-01, -1.08623281e+00,\n",
       "        5.89503277e-01, -7.55597178e-01, -1.02466487e+00,  6.24032505e-02,\n",
       "        3.84639669e-01, -2.87683288e-01,  1.57755729e+00,  4.64295945e-01,\n",
       "       -3.16220757e-01,  3.18769379e-01, -2.81258472e-01,  6.39339459e-01,\n",
       "       -6.36474760e-01,  3.41379549e-01, -1.50295116e+00, -9.01061580e-01,\n",
       "        6.00802474e-01, -1.04380501e+00,  4.19301665e-01, -6.39973238e-01,\n",
       "       -1.32190783e+00,  2.28676754e+00, -6.68844762e-01, -3.68119325e-01,\n",
       "       -1.80916665e+00,  7.30798430e-01,  3.99556592e-01,  1.12648338e-01,\n",
       "        5.70547451e-01, -1.20434493e+00, -2.95060854e-01,  6.19949319e-01,\n",
       "        8.60913782e-01,  1.71373039e+00,  1.35675029e+00,  8.26939394e-01,\n",
       "       -4.67656234e-01, -7.93512245e-01, -6.16141373e-01, -3.24003481e-01,\n",
       "        6.04655879e-02, -3.31836209e-01, -8.83811817e-01,  6.41168368e-01,\n",
       "        1.31523898e-01,  1.38221432e+00, -6.71622111e-01, -5.67231484e-01,\n",
       "        7.78048717e-01,  2.61638143e+00,  7.02628234e-01, -1.52597501e+00,\n",
       "        7.03110578e-02,  4.76626408e-01, -1.56084358e+00, -1.97665363e-01,\n",
       "       -7.90171507e-02, -9.57241646e-01, -8.87952821e-01,  1.81900535e+00,\n",
       "        1.51329426e-01, -7.72834323e-01,  7.28540216e-01, -3.60975771e-01,\n",
       "       -9.19546010e-02,  7.04900752e-01, -5.44766072e-01, -1.01574748e+00,\n",
       "        1.68802135e+00,  2.85905859e-01,  3.23758806e+00, -1.24838217e+00,\n",
       "       -6.38051142e-03,  2.32671979e-01,  5.40173306e-01, -4.23980546e-02,\n",
       "       -5.39274806e-01, -1.16275134e+00, -1.26965430e+00, -7.50872330e-01,\n",
       "       -3.07361592e-01, -5.19659649e-01,  2.84547178e-02, -1.00597058e+00,\n",
       "       -8.96280411e-01,  1.21034542e+00, -4.93305161e-01, -1.73323091e+00,\n",
       "        2.58048043e-01,  4.95799335e-02,  1.10823461e+00,  3.47722296e-01,\n",
       "       -1.33191591e-01, -9.42121929e-01,  4.86886478e-01,  1.58563951e-02,\n",
       "       -3.08577010e-01,  6.72783263e-01, -9.24520808e-01, -2.35067594e-01,\n",
       "       -5.31279394e-01, -1.02202696e+00, -7.77898180e-01, -2.36497918e-01,\n",
       "        1.37398403e+00, -5.87596972e-02, -7.57229499e-01, -1.37709672e+00,\n",
       "       -1.34849054e+00, -1.66909007e-01, -2.81406039e-01,  7.42680111e-01,\n",
       "        2.49695162e-01,  8.16490078e-01,  9.79014109e-01, -9.77372756e-01,\n",
       "       -7.11460543e-01,  3.86415403e-01,  3.62422697e-01,  9.81526568e-01,\n",
       "        1.09455947e+00, -1.07504392e+00, -1.80534269e+00,  1.23497044e+00,\n",
       "       -8.37144850e-01,  1.20695261e+00,  1.69704967e+00,  5.49004274e-01,\n",
       "        6.54185436e-01, -1.09048704e+00, -9.36956201e-01, -6.26887141e-01,\n",
       "       -1.11160705e-01, -1.45889743e+00, -1.35028973e-01,  8.76087097e-01,\n",
       "       -9.29917487e-02,  5.67076815e-02, -8.45914500e-02, -7.62010264e-01,\n",
       "        4.30510386e-02, -8.26410545e-02, -1.28841875e-01,  7.83359176e-01,\n",
       "        1.02476524e-01, -2.00536807e-01,  2.68467759e-01, -1.06599100e+00,\n",
       "       -1.73828785e-01,  1.42851413e+00, -7.03339202e-01, -3.63327006e-01,\n",
       "       -2.75501260e-01,  1.24230917e+00,  2.17598827e+00, -6.24523258e-01,\n",
       "        5.76423984e-01,  6.94959914e-01,  1.01794740e+00,  7.73803717e-01,\n",
       "        3.64617694e-01, -9.10865109e-01, -2.42180128e+00,  1.08918912e+00,\n",
       "       -3.60907085e-01,  1.38585237e-02, -4.11115476e-01, -3.87243129e-01,\n",
       "        3.19741645e-01, -1.24217243e+00, -5.91358628e-01, -7.37750528e-01,\n",
       "        2.13569160e-01, -6.67531618e-01,  1.30400565e+00,  1.29256905e-01,\n",
       "        1.47610486e-01, -6.56949728e-01,  8.16114342e-01, -5.93962239e-01,\n",
       "        1.01506441e+00,  1.61129027e+00,  1.36165723e+00, -1.91501339e-01,\n",
       "       -8.34193630e-01,  8.42100685e-01,  2.03180438e+00,  6.29536965e-01,\n",
       "       -1.62715234e+00,  7.86549350e-01,  4.89666527e-01, -8.95103227e-01,\n",
       "        7.84706918e-01, -1.48538670e-02, -4.96140730e-01, -2.58785207e+00])"
      ]
     },
     "execution_count": 105,
     "metadata": {},
     "output_type": "execute_result"
    }
   ],
   "source": [
    "np.random.seed(123456789)\n",
    "np.random.randn(1000)"
   ]
  },
  {
   "cell_type": "code",
   "execution_count": null,
   "metadata": {},
   "outputs": [],
   "source": [
    "np.histogram"
   ]
  }
 ],
 "metadata": {
  "kernelspec": {
   "display_name": "Python 3",
   "language": "python",
   "name": "python3"
  },
  "language_info": {
   "codemirror_mode": {
    "name": "ipython",
    "version": 3
   },
   "file_extension": ".py",
   "mimetype": "text/x-python",
   "name": "python",
   "nbconvert_exporter": "python",
   "pygments_lexer": "ipython3",
   "version": "3.6.7"
  }
 },
 "nbformat": 4,
 "nbformat_minor": 2
}
