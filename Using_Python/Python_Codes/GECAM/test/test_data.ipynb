{
 "cells": [
  {
   "cell_type": "code",
   "execution_count": 1,
   "metadata": {},
   "outputs": [],
   "source": [
    "import numpy as np\n",
    "import matplotlib.pyplot as plt\n",
    "from glob import glob\n",
    "from astropy.io import fits\n",
    "from astropy.time import Time\n",
    "def utc2met(myUTCstring):\n",
    "    UTC0=Time('2019-01-01',format='iso',scale='utc')\n",
    "    datastart='2020-12-07 03:35:44.0' # valid data since when the mission starts\n",
    "    datastartUTC=Time(datastart,format='iso',scale='utc')\n",
    "    if isinstance(myUTCstring,(list,tuple,np.ndarray)):\n",
    "        myUTC=Time(np.array(myUTCstring),format='iso',scale='utc')\n",
    "        for anymyUTC in myUTC:\n",
    "            assert anymyUTC>=datastartUTC,'**** ERROR: One of the UTC TIME is not valid!!! ****: '+str(anymyUTC)\n",
    "        return myUTC.gps-UTC0.gps\n",
    "    elif isinstance(myUTCstring,str):\n",
    "        myUTC=Time(myUTCstring,format='iso',scale='utc')\n",
    "        assert myUTC>=datastartUTC,'**** ERROR: One of the UTC TIME is not valid!!! ****: '+myUTCstring\n",
    "        return myUTC.gps-UTC0.gps\n",
    "    else:\n",
    "        print('Check your input format!')\n",
    "        return None        \n",
    "\n",
    "def met2utc(myMET):\n",
    "    UTC0=Time('2019-01-01',format='iso',scale='utc')\n",
    "    if isinstance(myMET,(list,tuple,np.ndarray)):\n",
    "        myTimeGPS=Time(np.array(myMET)+UTC0.gps,format='gps',scale='utc')\n",
    "        return myTimeGPS.iso\n",
    "    elif np.isscalar(myMET):\n",
    "        myTimeGPS=Time(myMET+UTC0.gps,format='gps',scale='utc')\n",
    "        return myTimeGPS.iso\n",
    "    else:\n",
    "        print('Check your input format!')\n",
    "        return None\n",
    "\n",
    "'''\n",
    "def met2utc_old(myMET):\n",
    "    UTC0=Time('2019-01-01',format='iso',scale='utc')\n",
    "    if isinstance(myMET,(list,tuple,np.ndarray)):\n",
    "        myMETsize=len(myMET)\n",
    "        utc_tt_diff=np.zeros(myMETsize)+37.0\n",
    "        myTimeGPS=Time(np.array(myMET)+UTC0.gps-utc_tt_diff,format='gps')\n",
    "        return myTimeGPS.iso\n",
    "    elif np.isscalar(myMET):\n",
    "        utc_tt_diff=37.0\n",
    "        myTimeGPS=Time(myMET+UTC0.gps-utc_tt_diff,format='gps')\n",
    "        return myTimeGPS.iso\n",
    "    else:\n",
    "        print('Check your input format!')\n",
    "        return None\n",
    "'''\n",
    "\n",
    "seqs = [f'{i:02}' for i in np.arange(1,26)]\n",
    "CH1 = 0 # good channel\n",
    "CH2 = 447\n",
    "\n",
    "    \n",
    "test_data_dir = \"/ws/FormalWork/GECAM_test/data/\"\n",
    "daily_data_A_dir = test_data_dir+\"/GECAM_A/\"\n",
    "daily_data_B_dir = test_data_dir+\"/GECAM_B/\"\n",
    "trigger_data_dir = test_data_dir+\"/triggers/\"\n",
    "burst_data_dir = test_data_dir+\"/bursts/\""
   ]
  },
  {
   "cell_type": "code",
   "execution_count": 2,
   "metadata": {},
   "outputs": [],
   "source": [
    "# burst data\n",
    "viewt1 = -50\n",
    "viewt2 = 100\n",
    "binwidth = 0.064\n",
    "\n",
    "tbins = np.arange(viewt1,viewt2+binwidth,binwidth)\n",
    "bns = ['bn201209_213202','bn201209_221321','bn201209_221742']\n",
    "for bn in bns:\n",
    "    burst_A_data_dir = burst_data_dir + '/' + bn + '/GECAM_A/'\n",
    "    burst_B_data_dir = burst_data_dir + '/' + bn + '/GECAM_B/'\n",
    "    gag_evt_file = glob(burst_A_data_dir+'/gag_evt_'+bn+'_*.fits')\n",
    "    gac_evt_file = glob(burst_A_data_dir+'/gac_evt_'+bn+'_*.fits')\n",
    "    gbg_evt_file = glob(burst_B_data_dir+'/gbg_evt_'+bn+'_*.fits')\n",
    "    gbc_evt_file = glob(burst_B_data_dir+'/gbc_evt_'+bn+'_*.fits')\n",
    "    assert len(gag_evt_file) == 1\n",
    "    assert len(gac_evt_file) == 1\n",
    "    assert len(gbg_evt_file) == 1\n",
    "    assert len(gbc_evt_file) == 1\n",
    "    for j in range(2):\n",
    "        grdfile = [gag_evt_file[0],gbg_evt_file[0]][j]\n",
    "        fig, axes = plt.subplots(5,5,figsize=(50, 30),\n",
    "                            sharex=True,sharey=False)\n",
    "        hdu = fits.open(grdfile)\n",
    "        trigtime = hdu['Primary'].header['BST_TIME']\n",
    "        ebound = hdu['EBOUNDS'].data\n",
    "        emin = ebound.field(1)\n",
    "        emin = emin[CH1:CH2+1]\n",
    "        emax = ebound.field(2)\n",
    "        emax = emax[CH1:CH2+1]\n",
    "        for i in range(25): \n",
    "            data = hdu['EVENTS'+seqs[i]].data\n",
    "            t = data.field(0) -trigtime\n",
    "            ch = data.field(1)\n",
    "            goodindex = (ch >= CH1) & (ch <= CH2)\n",
    "            t = t[goodindex]\n",
    "            histvalue, histbin = np.histogram(t,bins=tbins)\n",
    "            plotrate = histvalue/binwidth\n",
    "            plotrate = np.concatenate(([plotrate[0]],plotrate))\n",
    "            axes[i//5,i%5].plot(histbin,plotrate,drawstyle='steps')\n",
    "            axes[i//5,i%5].set_xlim([viewt1,viewt2])\n",
    "            axes[i//5,i%5].tick_params(labelsize=25)\n",
    "            axes[i//5,i%5].text(0.05,0.85,seqs[i],fontsize=25,\n",
    "                                transform=axes[i//5,i%5].transAxes)\n",
    "            axes[i//5,i%5].text(0.3,0.80,(str(round(emin[0],1))\n",
    "                        +'-'+str(round(emax[-1],1))+' keV'),\n",
    "                        transform=axes[i//5,i%5].transAxes,fontsize=25)  \n",
    "        plt.savefig('./'+bn+str(j)+'lc.png')\n",
    "        plt.close()"
   ]
  },
  {
   "cell_type": "code",
   "execution_count": 3,
   "metadata": {},
   "outputs": [
    {
     "data": {
      "text/plain": [
       "61248722.0"
      ]
     },
     "execution_count": 3,
     "metadata": {},
     "output_type": "execute_result"
    }
   ],
   "source": [
    "utc2met('2020-12-09 21:32:02')"
   ]
  },
  {
   "cell_type": "code",
   "execution_count": 4,
   "metadata": {},
   "outputs": [
    {
     "name": "stdout",
     "output_type": "stream",
     "text": [
      "Check your input format!\n"
     ]
    }
   ],
   "source": [
    "utc2met(1)"
   ]
  },
  {
   "cell_type": "code",
   "execution_count": 5,
   "metadata": {},
   "outputs": [
    {
     "data": {
      "text/plain": [
       "array(['2020-11-09 21:32:02', '2020-12-09 21:30:02'], dtype='<U19')"
      ]
     },
     "execution_count": 5,
     "metadata": {},
     "output_type": "execute_result"
    }
   ],
   "source": [
    "np.array(['2020-11-09 21:32:02','2020-12-09 21:30:02'])"
   ]
  },
  {
   "cell_type": "code",
   "execution_count": 6,
   "metadata": {},
   "outputs": [
    {
     "data": {
      "text/plain": [
       "'2020-12-09 21:32:02.000'"
      ]
     },
     "execution_count": 6,
     "metadata": {},
     "output_type": "execute_result"
    }
   ],
   "source": [
    "met2utc(61248722.0)"
   ]
  },
  {
   "cell_type": "code",
   "execution_count": 7,
   "metadata": {},
   "outputs": [
    {
     "data": {
      "text/plain": [
       "array(['2020-12-09 21:32:02.000', '2020-12-09 21:32:00.000'], dtype='<U23')"
      ]
     },
     "execution_count": 7,
     "metadata": {},
     "output_type": "execute_result"
    }
   ],
   "source": [
    "met2utc([61248722.0,61248720.0])"
   ]
  },
  {
   "cell_type": "code",
   "execution_count": 8,
   "metadata": {},
   "outputs": [
    {
     "data": {
      "text/plain": [
       "'2019-01-01 02:46:40.000'"
      ]
     },
     "execution_count": 8,
     "metadata": {},
     "output_type": "execute_result"
    }
   ],
   "source": [
    "met2utc(10000.0)"
   ]
  },
  {
   "cell_type": "code",
   "execution_count": null,
   "metadata": {},
   "outputs": [],
   "source": []
  }
 ],
 "metadata": {
  "kernelspec": {
   "display_name": "Python 3",
   "language": "python",
   "name": "python3"
  },
  "language_info": {
   "codemirror_mode": {
    "name": "ipython",
    "version": 3
   },
   "file_extension": ".py",
   "mimetype": "text/x-python",
   "name": "python",
   "nbconvert_exporter": "python",
   "pygments_lexer": "ipython3",
   "version": "3.7.7"
  }
 },
 "nbformat": 4,
 "nbformat_minor": 4
}
