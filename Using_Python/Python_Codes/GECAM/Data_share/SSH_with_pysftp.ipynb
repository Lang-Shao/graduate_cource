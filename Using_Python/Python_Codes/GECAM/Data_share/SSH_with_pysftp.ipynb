{
 "cells": [
  {
   "cell_type": "code",
   "execution_count": 2,
   "metadata": {},
   "outputs": [
    {
     "name": "stdout",
     "output_type": "stream",
     "text": [
      "Connection successfully established with server... \n",
      ".autorelabel -rw-r--r--   1 0        0               0 04 Aug 2020  .autorelabel\n",
      ".readahead -rw-r--r--   1 0        0          208496 15 Mar 09:31 .readahead\n",
      "afs drwxrwxrwx   1 0        0            2048 24 Aug 2004  afs\n",
      "atlas drwxr-xr-x   1 0        0              25 04 Aug 2020  atlas\n",
      "bes drwxr-xr-x   1 0        0               6 04 Aug 2020  bes\n",
      "bes3fs drwxr-xr-x   1 0        0            4096 05 Apr 10:12 bes3fs\n",
      "besfs drwxr-xr-x   1 0        0            4096 25 Feb 08:55 besfs\n",
      "besfs2 lrwxrwxrwx   1 0        0              27 04 Aug 2020  besfs2\n",
      "besfs3 drwxr-xr-x   1 0        0            4096 11 May 2020  besfs3\n",
      "besfs4 drwxr-xr-x   1 0        0            4096 17 Mar 16:33 besfs4\n",
      "besfs5 drwxr-xr-x   1 0        0            4096 04 Feb 12:10 besfs5\n",
      "bin lrwxrwxrwx   1 0        0               7 04 Aug 2020  bin\n",
      "bio drwxr-xr-x   1 0        0              18 04 Aug 2020  bio\n",
      "boot dr-xr-xr-x   1 0        0            4096 06 Jan 09:38 boot\n",
      "cac drwxr-xr-x   1 0        0              18 04 Aug 2020  cac\n",
      "cefs drwxr-xr-x   1 0        0            4096 13 Nov 11:57 cefs\n",
      "cms drwxr-xr-x   1 0        0              18 04 Aug 2020  cms\n",
      "cvmfs drwxr-xr-x   1 0        0               0 08 Apr 10:29 cvmfs\n",
      "dcache drwxr-xr-x   1 0        0               6 04 Aug 2020  dcache\n",
      "dev drwxr-xr-x   1 0        0            4020 06 Apr 10:34 dev\n",
      "dyb drwxr-xr-x   1 0        0             136 04 Aug 2020  dyb\n",
      "dybfs drwxr-xr-x   1 10178    208          4096 16 Jul 2020  dybfs\n",
      "dybfs2 drwxr-xr-x   1 0        0            4096 06 Jul 2020  dybfs2\n",
      "eos drwxr-xr-x   1 0        0               0 15 Mar 09:30 eos\n",
      "etc drwxr-xr-x   1 0        0           12288 09 Apr 09:34 etc\n",
      "gecamfs drwxr-xr-x   1 0        0            4096 05 Feb 20:17 gecamfs\n",
      "home drwxr-xr-x   1 0        0              62 07 Apr 17:34 home\n",
      "hpcfs drwxr-xr-x   1 0        0            4096 30 Oct 08:51 hpcfs\n",
      "hxmt drwxr-xr-x   1 0        0              54 24 Aug 2020  hxmt\n",
      "hxmtfs drwxr-xr-x   1 0        0            4096 14 Aug 2020  hxmtfs\n",
      "ihepbatch drwxr-xr-x   1 0        0               0 15 Mar 09:30 ihepbatch\n",
      "junofs drwxr-xr-x   1 0        0            4096 11 Sep 2019  junofs\n",
      "lhaasofs drwxr-xr-x   1 0        0            4096 23 Dec 17:02 lhaasofs\n",
      "lhcb drwxr-xr-x   1 0        0              30 04 Aug 2020  lhcb\n",
      "lib lrwxrwxrwx   1 0        0               7 04 Aug 2020  lib\n",
      "lib64 lrwxrwxrwx   1 0        0               9 04 Aug 2020  lib64\n",
      "map drwxr-xr-x   1 0        0              18 04 Aug 2020  map\n",
      "mbh drwxr-xr-x   1 0        0              20 04 Aug 2020  mbh\n",
      "media drwxr-xr-x   1 0        0               6 11 Apr 2018  media\n",
      "misc drwxr-xr-x   1 0        0               0 15 Mar 09:30 misc\n",
      "mnt drwxr-xr-x   1 0        0              18 25 Aug 2020  mnt\n",
      "nano drwxr-xr-x   1 0        0              18 04 Aug 2020  nano\n",
      "net drwxr-xr-x   1 0        0               0 15 Mar 09:30 net\n",
      "opt drwxr-xr-x   1 0        0              72 05 Aug 2020  opt\n",
      "pnfs drwxr-xr-x   1 0        0               6 04 Aug 2020  pnfs\n",
      "proc dr-xr-xr-x   1 0        0               0 15 Mar 09:29 proc\n",
      "publicfs drwxr-xr-x   1 0        0            4096 29 Apr 2019  publicfs\n",
      "root dr-xr-x---   1 0        0            4096 08 Apr 23:04 root\n",
      "run drwxr-xr-x   1 0        0            1740 09 Apr 10:07 run\n",
      "sbin lrwxrwxrwx   1 0        0               8 04 Aug 2020  sbin\n",
      "scratch lrwxrwxrwx   1 0        0               4 04 Aug 2020  scratch\n",
      "scratchfs drwxr-xr-x   1 0        0            4096 24 Feb 11:14 scratchfs\n",
      "sharefs drwxr-xr-x   1 0        0            4096 20 Jan 17:20 sharefs\n",
      "srv drwxr-xr-x   1 0        0               6 11 Apr 2018  srv\n",
      "sys dr-xr-xr-x   1 0        0               0 01 Apr 16:04 sys\n",
      "testfs -rw-r--r--   1 0        0               0 09 Apr 10:03 testfs\n",
      "tmp drwxrwxrwt   1 0        0           45056 09 Apr 10:08 tmp\n",
      "usr drwxr-xr-x   1 0        0             205 09 Dec 20:52 usr\n",
      "var drwxr-xr-x   1 0        0            4096 04 Aug 2020  var\n",
      "workfs drwxr-xr-x   1 0        0               6 07 Aug 2020  workfs\n",
      "workfs2 drwxr-xr-x   1 0        0            4096 24 Mar 14:12 workfs2\n",
      "ybj drwxr-xr-x   1 0        0               6 04 Aug 2020  ybj\n",
      "*******************************\n",
      "daily drwxr-xr-x   1 12695    1021         4096 01 Mar 13:25 daily\n",
      "triggers drwxr-xr-x   1 12695    1021         4096 08 Apr 10:51 triggers\n"
     ]
    }
   ],
   "source": [
    "import pysftp\n",
    "HOSTNAME = 'lxslc7.ihep.ac.cn'\n",
    "PORT = 22\n",
    "def sftp_getfiles(username, password,hostname=HOSTNAME,port=PORT):\n",
    "    cnopts = pysftp.CnOpts()\n",
    "    cnopts.hostkeys = None\n",
    "    with pysftp.Connection(host=hostname, username=username,password=password,cnopts=cnopts) as sftp:\n",
    "        print(\"Connection successfully established with server... \")\n",
    "        sftp.cwd('/')\n",
    "        list_directory = sftp.listdir_attr()\n",
    "        for directory in list_directory:\n",
    "            print(directory.filename, directory)\n",
    "        print('*******************************')\n",
    "        sftp.cwd('/gecamfs/Data_share/LEVEL1')\n",
    "        list_directory = sftp.listdir_attr()\n",
    "        for directory in list_directory:\n",
    "            print(directory.filename, directory)\n",
    "            \n",
    "if __name__ == '__main__':\n",
    "    with open('./user.txt','r') as user:\n",
    "        USERNAME = user.readline().rstrip('\\n')\n",
    "    with open('./password.txt','r') as password:\n",
    "        PASSWORD = password.readline().rstrip('\\n')\n",
    "    HOSTNAME = 'lxslc7.ihep.ac.cn'\n",
    "    PORT = 22\n",
    "    sftp_getfiles(USERNAME, PASSWORD, HOSTNAME, PORT)"
   ]
  },
  {
   "cell_type": "code",
   "execution_count": 1,
   "metadata": {},
   "outputs": [
    {
     "name": "stdout",
     "output_type": "stream",
     "text": [
      "Connection successfully established with server... \n",
      "LEVEL1 drwxr-xr-x   1 12695    1021         4096 01 Mar 13:25 LEVEL1\n",
      "*** Download complete! ***\n"
     ]
    }
   ],
   "source": [
    "import pysftp\n",
    "\n",
    "HOSTNAME = 'lxslc7.ihep.ac.cn'\n",
    "PORT = 22\n",
    "with open('./user.txt','r') as user:\n",
    "    USERNAME = user.readline().rstrip('\\n')\n",
    "with open('./password.txt','r') as password:\n",
    "    PASSWORD = password.readline().rstrip('\\n')\n",
    "DATA_SHARE_DIRECTORY = '/gecamfs/Data_share/'\n",
    "LOCAL_DATA_DIRECTORY = '/db/Data/GECAM/Data_share/'\n",
    "\n",
    "cnopts = pysftp.CnOpts()\n",
    "cnopts.hostkeys = None\n",
    "with pysftp.Connection(host=HOSTNAME, username=USERNAME,password=PASSWORD,cnopts=cnopts) as sftp:\n",
    "    print(\"Connection successfully established with server... \")\n",
    "    sftp.cwd(DATA_SHARE_DIRECTORY)\n",
    "    list_directory = sftp.listdir_attr()\n",
    "    for directory in list_directory:\n",
    "        print(directory.filename, directory)\n",
    "    sftp.get_r(DATA_SHARE_DIRECTORY,LOCAL_DATA_DIRECTORY,preserve_mtime=False)\n",
    "    print('*** Download complete! ***')"
   ]
  },
  {
   "cell_type": "code",
   "execution_count": null,
   "metadata": {},
   "outputs": [],
   "source": []
  }
 ],
 "metadata": {
  "kernelspec": {
   "display_name": "Python 3",
   "language": "python",
   "name": "python3"
  },
  "language_info": {
   "codemirror_mode": {
    "name": "ipython",
    "version": 3
   },
   "file_extension": ".py",
   "mimetype": "text/x-python",
   "name": "python",
   "nbconvert_exporter": "python",
   "pygments_lexer": "ipython3",
   "version": "3.7.7"
  }
 },
 "nbformat": 4,
 "nbformat_minor": 5
}
