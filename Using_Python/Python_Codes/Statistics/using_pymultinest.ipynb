{
 "cells": [
  {
   "cell_type": "code",
   "execution_count": 25,
   "metadata": {},
   "outputs": [
    {
     "data": {
      "image/png": "[encoded data removed]",
      "text/plain": [
       "<Figure size 432x288 with 1 Axes>"
      ]
     },
     "metadata": {
      "needs_background": "light"
     },
     "output_type": "display_data"
    }
   ],
   "source": [
    "import numpy as np\n",
    "import matplotlib.pyplot as plt\n",
    "\n",
    "N_data = 10\n",
    "noise = np.random.randn(N_data)\n",
    "data = [np.arange(N_data),1.5*np.arange(N_data)+1.0+noise]\n",
    "plt.errorbar(data[0],data[1],yerr=np.random.randn(N_data),fmt='.')\n",
    "\n",
    "x = data[0]\n",
    "ydata = data[1]"
   ]
  },
  {
   "cell_type": "code",
   "execution_count": 46,
   "metadata": {
    "scrolled": true
   },
   "outputs": [
    {
     "data": {
      "image/png": "[encoded data removed]",
      "text/plain": [
       "<Figure size 432x288 with 1 Axes>"
      ]
     },
     "metadata": {
      "needs_background": "light"
     },
     "output_type": "display_data"
    }
   ],
   "source": [
    "import numpy as np\n",
    "import matplotlib.pyplot as plt\n",
    "import pymultinest\n",
    "\n",
    "N_data = 10\n",
    "noise = np.random.randn(N_data)\n",
    "data = [np.arange(N_data),1.5*np.arange(N_data)+1.0+noise]\n",
    "plt.errorbar(data[0],data[1],yerr=np.random.randn(N_data),fmt='.')\n",
    "\n",
    "x = data[0]\n",
    "ydata = data[1]\n",
    "\n",
    "def model(a, b):\n",
    "    return  a*x+b\n",
    "\n",
    "def prior(cube, ndim, nparams):\n",
    "    cube[0] = 20*cube[0] - 10 # log-uniform prior between 10^-4 and 10^4\n",
    "    cube[1] = 20*cube[1] - 10  # log-uniform prior between 10^-4 and 1\n",
    "\n",
    "\n",
    "def loglike(cube, ndim, nparams):\n",
    "    a, b = cube[0], cube[1]\n",
    "    ymodel = model(a, b)\n",
    "    loglikelihood = (-0.5 * ((ymodel - ydata) / noise)**2).sum()\n",
    "    return loglikelihood"
   ]
  },
  {
   "cell_type": "code",
   "execution_count": 28,
   "metadata": {},
   "outputs": [],
   "source": [
    "pymultinest.run(loglike, prior, 2, \n",
    "                outputfiles_basename='test_1_', resume = False, verbose = True)"
   ]
  },
  {
   "cell_type": "code",
   "execution_count": 33,
   "metadata": {},
   "outputs": [
    {
     "name": "stdout",
     "output_type": "stream",
     "text": [
      "  analysing data from test_1_.txt\n"
     ]
    }
   ],
   "source": [
    "a = pymultinest.Analyzer(outputfiles_basename='test_1_', n_params = 2)"
   ]
  },
  {
   "cell_type": "code",
   "execution_count": 40,
   "metadata": {},
   "outputs": [
    {
     "data": {
      "text/plain": [
       "{'modes': [{'index': 0,\n",
       "   'strictly local log-evidence': -14.030610026602519,\n",
       "   'strictly local log-evidence error': 0.022930425345745194,\n",
       "   'local log-evidence': -14.030610026602519,\n",
       "   'local log-evidence error': 0.022930425345745194,\n",
       "   'mean': [1.5265093311867284, 0.8352852203530132],\n",
       "   'sigma': [0.0501965721562175, 0.2510580632945374],\n",
       "   'maximum': [1.5276057400123193, 0.8230807657772026],\n",
       "   'maximum a posterior': [1.5274084662643972, 1.0152403467595477]}],\n",
       " 'nested sampling global log-evidence': -14.152918561244382,\n",
       " 'nested sampling global log-evidence error': 0.14477375201120113,\n",
       " 'global evidence': -14.030610026602519,\n",
       " 'global evidence error': 0.022930425345745194,\n",
       " 'nested importance sampling global log-evidence': -14.030610026602519,\n",
       " 'nested importance sampling global log-evidence error': 0.022930425345745194,\n",
       " 'marginals': [{'median': 1.5257294894062041,\n",
       "   'sigma': 0.05074280866115555,\n",
       "   '1sigma': [1.477149721978014, 1.5786353393003252],\n",
       "   '2sigma': [1.4313873751597326, 1.6227893116856802],\n",
       "   '3sigma': [1.3774603137424681, 1.6820357149994234],\n",
       "   '5sigma': [1.2757254747318336, 1.7815905607290003],\n",
       "   'q75%': 1.5605397765575229,\n",
       "   'q25%': 1.4907943339860183,\n",
       "   'q99%': 1.6450357833803173,\n",
       "   'q01%': 1.407501829997249,\n",
       "   'q90%': 1.5921298798722479,\n",
       "   'q10%': 1.463641078840996},\n",
       "  {'median': 0.832061108085102,\n",
       "   'sigma': 0.2563025214650831,\n",
       "   '1sigma': [0.5823479848431775, 1.0949530277733437],\n",
       "   '2sigma': [0.33535175017167557, 1.3434538472122253],\n",
       "   '3sigma': [0.07433350198026406, 1.5852412980890558],\n",
       "   '5sigma': [-0.4171042785515227, 2.064503023554242],\n",
       "   'q75%': 1.0048350243609638,\n",
       "   'q25%': 0.6679978528632301,\n",
       "   'q99%': 1.4183772263278411,\n",
       "   'q01%': 0.24186577236836831,\n",
       "   'q90%': 1.1466923666272577,\n",
       "   'q10%': 0.5169250666340796}]}"
      ]
     },
     "execution_count": 40,
     "metadata": {},
     "output_type": "execute_result"
    }
   ],
   "source": [
    "a.get_stats()"
   ]
  },
  {
   "cell_type": "code",
   "execution_count": 44,
   "metadata": {},
   "outputs": [],
   "source": [
    "params = a.get_stats()['modes'][0]['mean']"
   ]
  },
  {
   "cell_type": "code",
   "execution_count": 48,
   "metadata": {},
   "outputs": [
    {
     "data": {
      "text/plain": [
       "[<matplotlib.lines.Line2D at 0x7f26adb944d0>]"
      ]
     },
     "execution_count": 48,
     "metadata": {},
     "output_type": "execute_result"
    },
    {
     "data": {
      "image/png": "[encoded data removed]",
      "text/plain": [
       "<Figure size 432x288 with 1 Axes>"
      ]
     },
     "metadata": {
      "needs_background": "light"
     },
     "output_type": "display_data"
    }
   ],
   "source": [
    "plt.errorbar(data[0],data[1],yerr=np.random.randn(N_data),fmt='.')\n",
    "plt.plot(x,model(params[0],params[1]))"
   ]
  },
  {
   "cell_type": "code",
   "execution_count": null,
   "metadata": {},
   "outputs": [],
   "source": []
  }
 ],
 "metadata": {
  "kernelspec": {
   "display_name": "Python 3",
   "language": "python",
   "name": "python3"
  },
  "language_info": {
   "codemirror_mode": {
    "name": "ipython",
    "version": 3
   },
   "file_extension": ".py",
   "mimetype": "text/x-python",
   "name": "python",
   "nbconvert_exporter": "python",
   "pygments_lexer": "ipython3",
   "version": "3.7.7"
  }
 },
 "nbformat": 4,
 "nbformat_minor": 4
}
