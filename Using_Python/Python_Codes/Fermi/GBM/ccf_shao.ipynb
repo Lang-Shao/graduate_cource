{
 "cells": [
  {
   "cell_type": "code",
   "execution_count": 1,
   "metadata": {},
   "outputs": [],
   "source": [
    "from glob import glob\n",
    "import numpy as np\n",
    "import matplotlib.pyplot as plt\n",
    "from scipy import stats\n",
    "from astropy.io import fits\n",
    "\n",
    "bn = '150314205'\n",
    "det = 'n9'\n",
    "binwidth = 0.064\n",
    "viewt1 = -10\n",
    "viewt2 = 20\n",
    "\n",
    "\n",
    "databasedir = '/db/Data/Fermi_GBM_burst/data/'\n",
    "year = '20'+bn[0:2]\n",
    "datadir = databasedir+'/'+year+'/bn'+bn\n",
    "ttefile = glob(datadir+'/'+'glg_tte_'+det+'_bn'+bn+'_v*.fit')\n",
    "assert len(ttefile) == 1\n",
    "hdu = fits.open(ttefile[0])\n",
    "trigtime = hdu['Primary'].header['TRIGTIME']\n",
    "data = hdu['EVENTS'].data\n",
    "time = data.field(0)-trigtime\n",
    "ch = data.field(1)\n",
    "\n",
    "time1 =  time[(ch >= 20) & (ch <= 40)]\n",
    "time2 =  time[(ch >= 40) & (ch <= 80)]\n",
    "tbins = np.arange(viewt1,viewt2+binwidth,binwidth)\n",
    "counts1, _ = np.histogram(time1,bins=tbins)\n",
    "counts2, _ = np.histogram(time2,bins=tbins)\n",
    "counts_forplot1 = np.concatenate(([counts1[0]],counts1))\n",
    "counts_forplot2 = np.concatenate(([counts2[0]],counts2))\n",
    "\n",
    "fig, axes = plt.subplots(2,1,figsize=(10, 12),sharex=True,sharey=False)\n",
    "axes[0].plot(tbins,counts_forplot1,drawstyle='steps')\n",
    "axes[1].plot(tbins,counts_forplot2,drawstyle='steps')\n",
    "plt.savefig('./lc.png')\n",
    "plt.close()"
   ]
  },
  {
   "cell_type": "code",
   "execution_count": 3,
   "metadata": {},
   "outputs": [
    {
     "name": "stdout",
     "output_type": "stream",
     "text": [
      "0.9552520130876286 3.453785968096523e-249\n",
      "0.8310278839876554 4.7984927529075e-121\n",
      "0.6636877792522149 4.3355749984866485e-98\n"
     ]
    }
   ],
   "source": [
    "r, r_p_value = stats.pearsonr(counts1, counts2); print(r, r_p_value)\n",
    "rho, rho_p_value = stats.spearmanr(counts1, counts2); print(rho, rho_p_value)\n",
    "tau, tau_p_value = stats.kendalltau(counts1, counts2); print(tau, tau_p_value)"
   ]
  },
  {
   "cell_type": "code",
   "execution_count": 4,
   "metadata": {},
   "outputs": [
    {
     "ename": "NameError",
     "evalue": "name 'counts' is not defined",
     "output_type": "error",
     "traceback": [
      "\u001b[0;31m---------------------------------------------------------------------------\u001b[0m",
      "\u001b[0;31mNameError\u001b[0m                                 Traceback (most recent call last)",
      "\u001b[0;32m<ipython-input-4-90483b08c5ac>\u001b[0m in \u001b[0;36m<module>\u001b[0;34m\u001b[0m\n\u001b[1;32m      9\u001b[0m     ]\n\u001b[1;32m     10\u001b[0m     \u001b[0;32mreturn\u001b[0m \u001b[0mccf\u001b[0m\u001b[0;34m\u001b[0m\u001b[0;34m\u001b[0m\u001b[0m\n\u001b[0;32m---> 11\u001b[0;31m \u001b[0mplot_ccf\u001b[0m\u001b[0;34m(\u001b[0m\u001b[0mcounts1\u001b[0m\u001b[0;34m,\u001b[0m \u001b[0mcounts2\u001b[0m\u001b[0;34m)\u001b[0m\u001b[0;34m\u001b[0m\u001b[0;34m\u001b[0m\u001b[0m\n\u001b[0m",
      "\u001b[0;32m<ipython-input-4-90483b08c5ac>\u001b[0m in \u001b[0;36mplot_ccf\u001b[0;34m(counts1, counts2)\u001b[0m\n\u001b[1;32m      1\u001b[0m \u001b[0;32mdef\u001b[0m \u001b[0mplot_ccf\u001b[0m\u001b[0;34m(\u001b[0m\u001b[0mcounts1\u001b[0m\u001b[0;34m,\u001b[0m \u001b[0mcounts2\u001b[0m\u001b[0;34m)\u001b[0m\u001b[0;34m:\u001b[0m\u001b[0;34m\u001b[0m\u001b[0;34m\u001b[0m\u001b[0m\n\u001b[1;32m      2\u001b[0m     \u001b[0;32massert\u001b[0m \u001b[0mlen\u001b[0m\u001b[0;34m(\u001b[0m\u001b[0mcounts1\u001b[0m\u001b[0;34m)\u001b[0m \u001b[0;34m==\u001b[0m \u001b[0mlen\u001b[0m\u001b[0;34m(\u001b[0m\u001b[0mcounts2\u001b[0m\u001b[0;34m)\u001b[0m\u001b[0;34m\u001b[0m\u001b[0;34m\u001b[0m\u001b[0m\n\u001b[0;32m----> 3\u001b[0;31m     \u001b[0mN_halfwindow\u001b[0m \u001b[0;34m=\u001b[0m \u001b[0mround\u001b[0m\u001b[0;34m(\u001b[0m\u001b[0mlen\u001b[0m\u001b[0;34m(\u001b[0m\u001b[0mcounts\u001b[0m\u001b[0;34m)\u001b[0m\u001b[0;34m*\u001b[0m\u001b[0;36m0.25\u001b[0m\u001b[0;34m)\u001b[0m\u001b[0;34m\u001b[0m\u001b[0;34m\u001b[0m\u001b[0m\n\u001b[0m\u001b[1;32m      4\u001b[0m     \u001b[0mi_Center\u001b[0m \u001b[0;34m=\u001b[0m  \u001b[0mround\u001b[0m\u001b[0;34m(\u001b[0m\u001b[0mlen\u001b[0m\u001b[0;34m(\u001b[0m\u001b[0mcounts\u001b[0m\u001b[0;34m)\u001b[0m\u001b[0;34m*\u001b[0m\u001b[0;36m0.5\u001b[0m\u001b[0;34m)\u001b[0m\u001b[0;34m\u001b[0m\u001b[0;34m\u001b[0m\u001b[0m\n\u001b[1;32m      5\u001b[0m     ccf = [\n",
      "\u001b[0;31mNameError\u001b[0m: name 'counts' is not defined"
     ]
    }
   ],
   "source": [
    "def plot_ccf(counts1, counts2):\n",
    "    assert len(counts1) == len(counts2)\n",
    "    N_halfwindow = round(len(counts)*0.25)\n",
    "    i_Center =  round(len(counts)*0.5)\n",
    "    ccf = [\n",
    "        [j,stats.kendalltau(counts1[i_Center-N_halfwindow:i_Center+N_halfwindow], \n",
    "                         counts2[i_Center-N_halfwindow+j:i_Center+N_halfwindow+j])[0]] \n",
    "                                     for j in np.arange[-N_halfwindow,N_halfwindow]\n",
    "    ]\n",
    "    return ccf\n",
    "plot_ccf(counts1, counts2)"
   ]
  },
  {
   "cell_type": "code",
   "execution_count": null,
   "metadata": {},
   "outputs": [],
   "source": []
  }
 ],
 "metadata": {
  "kernelspec": {
   "display_name": "Python 3",
   "language": "python",
   "name": "python3"
  },
  "language_info": {
   "codemirror_mode": {
    "name": "ipython",
    "version": 3
   },
   "file_extension": ".py",
   "mimetype": "text/x-python",
   "name": "python",
   "nbconvert_exporter": "python",
   "pygments_lexer": "ipython3",
   "version": "3.8.3"
  }
 },
 "nbformat": 4,
 "nbformat_minor": 4
}
