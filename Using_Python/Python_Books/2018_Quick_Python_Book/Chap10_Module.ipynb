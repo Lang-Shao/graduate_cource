{
 "cells": [
  {
   "cell_type": "code",
   "execution_count": 1,
   "metadata": {},
   "outputs": [],
   "source": [
    "import sys"
   ]
  },
  {
   "cell_type": "code",
   "execution_count": 4,
   "metadata": {},
   "outputs": [
    {
     "data": {
      "text/plain": [
       "['F:\\\\mypython',\n",
       " 'C:\\\\Users\\\\Lang\\\\Miniconda3\\\\python37.zip',\n",
       " 'C:\\\\Users\\\\Lang\\\\Miniconda3\\\\DLLs',\n",
       " 'C:\\\\Users\\\\Lang\\\\Miniconda3\\\\lib',\n",
       " 'C:\\\\Users\\\\Lang\\\\Miniconda3',\n",
       " '',\n",
       " 'C:\\\\Users\\\\Lang\\\\Miniconda3\\\\lib\\\\site-packages',\n",
       " 'C:\\\\Users\\\\Lang\\\\Miniconda3\\\\lib\\\\site-packages\\\\win32',\n",
       " 'C:\\\\Users\\\\Lang\\\\Miniconda3\\\\lib\\\\site-packages\\\\win32\\\\lib',\n",
       " 'C:\\\\Users\\\\Lang\\\\Miniconda3\\\\lib\\\\site-packages\\\\Pythonwin',\n",
       " 'C:\\\\Users\\\\Lang\\\\Miniconda3\\\\lib\\\\site-packages\\\\IPython\\\\extensions',\n",
       " 'C:\\\\Users\\\\Lang\\\\.ipython']"
      ]
     },
     "execution_count": 4,
     "metadata": {},
     "output_type": "execute_result"
    }
   ],
   "source": [
    "sys.path"
   ]
  },
  {
   "cell_type": "code",
   "execution_count": 12,
   "metadata": {},
   "outputs": [],
   "source": [
    "_a_12 = 1"
   ]
  },
  {
   "cell_type": "code",
   "execution_count": 14,
   "metadata": {},
   "outputs": [
    {
     "data": {
      "text/plain": [
       "1"
      ]
     },
     "execution_count": 14,
     "metadata": {},
     "output_type": "execute_result"
    }
   ],
   "source": [
    "_a_12"
   ]
  },
  {
   "cell_type": "code",
   "execution_count": 15,
   "metadata": {},
   "outputs": [],
   "source": [
    "_ = 1"
   ]
  },
  {
   "cell_type": "code",
   "execution_count": 17,
   "metadata": {},
   "outputs": [],
   "source": [
    "a = [1,2,3]"
   ]
  },
  {
   "cell_type": "code",
   "execution_count": 18,
   "metadata": {},
   "outputs": [],
   "source": [
    "a1, a2, _ = a"
   ]
  },
  {
   "cell_type": "code",
   "execution_count": 19,
   "metadata": {},
   "outputs": [
    {
     "data": {
      "text/plain": [
       "1"
      ]
     },
     "execution_count": 19,
     "metadata": {},
     "output_type": "execute_result"
    }
   ],
   "source": [
    "a1"
   ]
  },
  {
   "cell_type": "code",
   "execution_count": 20,
   "metadata": {},
   "outputs": [
    {
     "data": {
      "text/plain": [
       "2"
      ]
     },
     "execution_count": 20,
     "metadata": {},
     "output_type": "execute_result"
    }
   ],
   "source": [
    "a2"
   ]
  },
  {
   "cell_type": "code",
   "execution_count": 21,
   "metadata": {},
   "outputs": [
    {
     "data": {
      "text/plain": [
       "3"
      ]
     },
     "execution_count": 21,
     "metadata": {},
     "output_type": "execute_result"
    }
   ],
   "source": [
    "_"
   ]
  },
  {
   "cell_type": "code",
   "execution_count": 26,
   "metadata": {},
   "outputs": [],
   "source": [
    "a1, a2, *_ = a*2"
   ]
  },
  {
   "cell_type": "code",
   "execution_count": 23,
   "metadata": {},
   "outputs": [
    {
     "data": {
      "text/plain": [
       "1"
      ]
     },
     "execution_count": 23,
     "metadata": {},
     "output_type": "execute_result"
    }
   ],
   "source": [
    "a1"
   ]
  },
  {
   "cell_type": "code",
   "execution_count": 24,
   "metadata": {},
   "outputs": [
    {
     "data": {
      "text/plain": [
       "2"
      ]
     },
     "execution_count": 24,
     "metadata": {},
     "output_type": "execute_result"
    }
   ],
   "source": [
    "a2"
   ]
  },
  {
   "cell_type": "code",
   "execution_count": 27,
   "metadata": {},
   "outputs": [
    {
     "data": {
      "text/plain": [
       "'1.18.1'"
      ]
     },
     "execution_count": 27,
     "metadata": {},
     "output_type": "execute_result"
    }
   ],
   "source": [
    "import numpy as np\n",
    "np.__version__"
   ]
  },
  {
   "cell_type": "code",
   "execution_count": null,
   "metadata": {},
   "outputs": [],
   "source": [
    "chmod +x filename"
   ]
  },
  {
   "cell_type": "code",
   "execution_count": 28,
   "metadata": {},
   "outputs": [
    {
     "data": {
      "text/plain": [
       "'F:\\\\mypython'"
      ]
     },
     "execution_count": 28,
     "metadata": {},
     "output_type": "execute_result"
    }
   ],
   "source": [
    "import os\n",
    "os.getcwd()"
   ]
  },
  {
   "cell_type": "code",
   "execution_count": 33,
   "metadata": {},
   "outputs": [],
   "source": [
    "a = os.listdir('.')"
   ]
  },
  {
   "cell_type": "code",
   "execution_count": 32,
   "metadata": {},
   "outputs": [
    {
     "data": {
      "text/plain": [
       "['.ipynb_checkpoints',\n",
       " 'Chap04_Absolute_basics.ipynb',\n",
       " 'Chap05_List_tuples_sets.ipynb',\n",
       " 'Chap06_Strings.ipynb',\n",
       " 'Chap07_Dictionaries.ipynb',\n",
       " 'Chap10_Module.ipynb',\n",
       " 'first_module.py',\n",
       " 'gra2020',\n",
       " '__pycache__']"
      ]
     },
     "execution_count": 32,
     "metadata": {},
     "output_type": "execute_result"
    }
   ],
   "source": [
    "a"
   ]
  },
  {
   "cell_type": "code",
   "execution_count": 40,
   "metadata": {},
   "outputs": [
    {
     "name": "stdout",
     "output_type": "stream",
     "text": [
      "import sys\n",
      "\n"
     ]
    }
   ],
   "source": [
    "with open('first_module.py', 'r') as file_object:\n",
    "    line = file_object.readline()\n",
    "    print(line)"
   ]
  },
  {
   "cell_type": "code",
   "execution_count": 73,
   "metadata": {},
   "outputs": [
    {
     "name": "stdout",
     "output_type": "stream",
     "text": [
      "['import sys\\n', '\\n', 'def myfun():\\n', '\\tsfas\\n', '\\n', 'def main():\\n', '\\tpi = 3.14159\\n', '\\tdef area(r):\\n', '    \\t\\t\"\"\"area(r): return the area of a circle with radius r.\"\"\"\\n', '    \\t\\tglobal pi\\n', '    \\t\\treturn(pi * r * r)\\n', \"\\tprint('pi=',pi)\\n\", '\\tprint(sys.path)\\n', '\\n', '\\n', '\\n', 'main()']\n",
      "['import sys\\n', '\\n', 'def myfun():\\n', '\\tsfas\\n', '\\n', 'def main():\\n', '\\tpi = 3.14159\\n', '\\tdef area(r):\\n', '    \\t\\t\"\"\"area(r): return the area of a circle with radius r.\"\"\"\\n', '    \\t\\tglobal pi\\n', '    \\t\\treturn(pi * r * r)\\n', \"\\tprint('pi=',pi)\\n\", '\\tprint(sys.path)\\n', '\\n', '\\n', '\\n', 'main()', \"LIu's A\"]\n",
      "import sys\n",
      " \n",
      " def myfun():\n",
      " \tsfas\n",
      " \n",
      " def main():\n",
      " \tpi = 3.14159\n",
      " \tdef area(r):\n",
      "     \t\t\"\"\"area(r): return the area of a circle with radius r.\"\"\"\n",
      "     \t\tglobal pi\n",
      "     \t\treturn(pi * r * r)\n",
      " \tprint('pi=',pi)\n",
      " \tprint(sys.path)\n",
      " \n",
      " \n",
      " \n",
      " main() LIu's A\n",
      "LIu's B\n",
      "\n",
      "**** Liangwei Zhang *****\n",
      "['import sys\\n', '\\n', 'def myfun():\\n', '\\tsfas\\n', '\\n', 'def main():\\n', '\\tpi = 3.14159\\n', '\\tdef area(r):\\n', '    \\t\\t\"\"\"area(r): return the area of a circle with radius r.\"\"\"\\n', '    \\t\\tglobal pi\\n', '    \\t\\treturn(pi * r * r)\\n', \"\\tprint('pi=',pi)\\n\", '\\tprint(sys.path)\\n', '\\n', '\\n', '\\n', 'main()']\n",
      "\n",
      "**** Haiyuan Sun *****\n",
      "18 is even number!\n",
      "\n",
      "**** Kui Cao *****\n",
      "['import sys\\n', '\\n', 'def myfun():\\n', '\\tsfas\\n', '\\n', 'def main():\\n', '\\tpi = 3.14159\\n', '\\tdef area(r):\\n', '    \\t\\t\"\"\"area(r): return the area of a circle with radius r.\"\"\"\\n', '    \\t\\tglobal pi\\n', '    \\t\\treturn(pi * r * r)\\n', \"\\tprint('pi=',pi)\\n\", '\\tprint(sys.path)\\n', '\\n', '\\n', '\\n', 'main()', \"LIu's A\", 'import sys\\n', '\\n', 'def myfun():\\n', '\\tsfas\\n', '\\n', 'def main():\\n', '\\tpi = 3.14159\\n', '\\tdef area(r):\\n', '    \\t\\t\"\"\"area(r): return the area of a circle with radius r.\"\"\"\\n', '    \\t\\tglobal pi\\n', '    \\t\\treturn(pi * r * r)\\n', \"\\tprint('pi=',pi)\\n\", '\\tprint(sys.path)\\n', '\\n', '\\n', '\\n', 'main()', \"LIu's A\"]\n"
     ]
    }
   ],
   "source": [
    "with open('first_module.py', 'r') as file_object:\n",
    "    lines = file_object.readlines()\n",
    "    print(lines)\n",
    "    \n",
    "    liustring = \"LIu's A\"\n",
    "    lines.append(liustring)  # method \n",
    "    print(lines)\n",
    "    \n",
    "    print(\" \".join(lines)) # Xubo Wu\n",
    "    \n",
    "    table = liustring.maketrans(\"A\", \"B\")\n",
    "    print(liustring.translate(table)) #Chengzhi Si\n",
    "    \n",
    "    \n",
    "    print(\"\\n**** Liangwei Zhang *****\")\n",
    "    def open_file():\n",
    "        lines=open(\"first_module.py\",\"r\")\n",
    "        read_lines = lines.readlines()\n",
    "        lines.close() # not necessary\n",
    "        return read_lines# Liangwei Zhang ??\n",
    "    mylines = open_file()\n",
    "    print(mylines)\n",
    "    \n",
    "    print(\"\\n**** Haiyuan Sun *****\")\n",
    "    x = len(lines)\n",
    "    if x % 2 == 0:\n",
    "        print(f\"{x} is even number!\")\n",
    "    else:\n",
    "        print(f\"{x} is odd number\") #Haiyuan Sun\n",
    "        \n",
    "    print(\"\\n**** Kui Cao *****\")\n",
    "    print(lines*2)   \n",
    "    \n",
    "    print(\"\\n**** Fuyang Chen *****\")\n",
    "    while \n",
    "    \n",
    " "
   ]
  },
  {
   "cell_type": "code",
   "execution_count": 43,
   "metadata": {},
   "outputs": [
    {
     "name": "stdout",
     "output_type": "stream",
     "text": [
      "number of line =  17\n"
     ]
    }
   ],
   "source": [
    "with open('first_module.py', 'r') as file_object:\n",
    "    lines = file_object.readlines()\n",
    "    #print(lines)\n",
    "    i = 0\n",
    "    for _line in lines:\n",
    "        i = i+1\n",
    "    print('number of line = ',i)"
   ]
  },
  {
   "cell_type": "code",
   "execution_count": 45,
   "metadata": {},
   "outputs": [
    {
     "name": "stdout",
     "output_type": "stream",
     "text": [
      "number of line =  17\n"
     ]
    }
   ],
   "source": [
    "with open('first_module.py', 'r') as file_object:\n",
    "    lines = file_object.readlines()\n",
    "    #print(lines)\n",
    "    print('number of line = ',len(lines))"
   ]
  },
  {
   "cell_type": "code",
   "execution_count": 48,
   "metadata": {},
   "outputs": [
    {
     "name": "stdout",
     "output_type": "stream",
     "text": [
      "type of lines =  <class 'list'>\n"
     ]
    }
   ],
   "source": [
    "with open('first_module.py', 'r') as file_object:\n",
    "    lines = file_object.readlines()\n",
    "    #print(lines)\n",
    "    print('type of lines = ',type(lines))"
   ]
  },
  {
   "cell_type": "code",
   "execution_count": 58,
   "metadata": {},
   "outputs": [
    {
     "name": "stdout",
     "output_type": "stream",
     "text": [
      "hello world!\n"
     ]
    }
   ],
   "source": [
    "a = [\"hello\", \"world!\"]\n",
    "print(\" \".join(a))"
   ]
  },
  {
   "cell_type": "code",
   "execution_count": 55,
   "metadata": {},
   "outputs": [
    {
     "name": "stdout",
     "output_type": "stream",
     "text": [
      "hellow world!\n"
     ]
    }
   ],
   "source": [
    "print(\"hellow world!\")"
   ]
  },
  {
   "cell_type": "code",
   "execution_count": null,
   "metadata": {},
   "outputs": [],
   "source": [
    "x = "
   ]
  },
  {
   "cell_type": "code",
   "execution_count": null,
   "metadata": {},
   "outputs": [],
   "source": [
    "x = 1"
   ]
  },
  {
   "cell_type": "code",
   "execution_count": null,
   "metadata": {},
   "outputs": [],
   "source": []
  },
  {
   "cell_type": "code",
   "execution_count": 83,
   "metadata": {},
   "outputs": [
    {
     "name": "stdout",
     "output_type": "stream",
     "text": [
      "['mjsb.bxj', '22.n', 's.jk/mxk.']\n",
      "mjsb.bxj 22.n s.jk/mxk.\n",
      "['mjsb', 'bxj,22', 'n,s', 'jk/mxk', '']\n",
      "mjsb bxj,22 n,s jk/mxk \n",
      "['mjsb.bxj,22.n,s.jk/mxk.']\n",
      "mjsb.bxj,22.n,s.jk/mxk.\n",
      "['mjsb.bxj,22.n,s.jk', 'mxk.']\n",
      "mjsb.bxj,22.n,s.jk mxk.\n"
     ]
    }
   ],
   "source": [
    "x = \"mjsb.bxj,22.n,s.jk/mxk.\"\n",
    "for char in ',.;/':\n",
    "        print(x.split(char))\n",
    "        print(\" \".join(x.split(char)))\n",
    "        #print(x) \n",
    "        #print(\" \".join(x.split(char)))"
   ]
  },
  {
   "cell_type": "code",
   "execution_count": 79,
   "metadata": {},
   "outputs": [
    {
     "data": {
      "text/plain": [
       "'1 2'"
      ]
     },
     "execution_count": 79,
     "metadata": {},
     "output_type": "execute_result"
    }
   ],
   "source": [
    "\" \".join([\"1\",\"2\"])"
   ]
  },
  {
   "cell_type": "code",
   "execution_count": null,
   "metadata": {},
   "outputs": [],
   "source": [
    "AI.answer('Liu')"
   ]
  },
  {
   "cell_type": "code",
   "execution_count": 89,
   "metadata": {},
   "outputs": [
    {
     "name": "stdout",
     "output_type": "stream",
     "text": [
      "name 'aa' is not defined\n"
     ]
    }
   ],
   "source": [
    "try:\n",
    "    print(aa)\n",
    "except:\n",
    "    print(\"name 'aa' is not defined\")"
   ]
  },
  {
   "cell_type": "code",
   "execution_count": 85,
   "metadata": {},
   "outputs": [
    {
     "data": {
      "text/plain": [
       "['hello', 'world!']"
      ]
     },
     "execution_count": 85,
     "metadata": {},
     "output_type": "execute_result"
    }
   ],
   "source": [
    "a"
   ]
  },
  {
   "cell_type": "code",
   "execution_count": 86,
   "metadata": {},
   "outputs": [
    {
     "data": {
      "text/plain": [
       "[3, 1, 2, 3]"
      ]
     },
     "execution_count": 86,
     "metadata": {},
     "output_type": "execute_result"
    }
   ],
   "source": [
    "b"
   ]
  },
  {
   "cell_type": "code",
   "execution_count": 87,
   "metadata": {},
   "outputs": [
    {
     "ename": "NameError",
     "evalue": "name 'aa' is not defined",
     "output_type": "error",
     "traceback": [
      "\u001b[1;31m---------------------------------------------------------------------------\u001b[0m",
      "\u001b[1;31mNameError\u001b[0m                                 Traceback (most recent call last)",
      "\u001b[1;32m<ipython-input-87-312382290f4f>\u001b[0m in \u001b[0;36m<module>\u001b[1;34m\u001b[0m\n\u001b[1;32m----> 1\u001b[1;33m \u001b[0maa\u001b[0m\u001b[1;33m\u001b[0m\u001b[1;33m\u001b[0m\u001b[0m\n\u001b[0m",
      "\u001b[1;31mNameError\u001b[0m: name 'aa' is not defined"
     ]
    }
   ],
   "source": [
    "aa"
   ]
  },
  {
   "cell_type": "code",
   "execution_count": null,
   "metadata": {},
   "outputs": [],
   "source": []
  }
 ],
 "metadata": {
  "kernelspec": {
   "display_name": "Python 3",
   "language": "python",
   "name": "python3"
  },
  "language_info": {
   "codemirror_mode": {
    "name": "ipython",
    "version": 3
   },
   "file_extension": ".py",
   "mimetype": "text/x-python",
   "name": "python",
   "nbconvert_exporter": "python",
   "pygments_lexer": "ipython3",
   "version": "3.7.4"
  }
 },
 "nbformat": 4,
 "nbformat_minor": 4
}
