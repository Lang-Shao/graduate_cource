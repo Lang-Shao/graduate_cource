{
 "cells": [
  {
   "cell_type": "code",
   "execution_count": 5,
   "metadata": {},
   "outputs": [],
   "source": [
    "import imageio\n",
    "import scipy.ndimage as nd\n",
    "\n",
    "''' This applies the rotate function. There are four inputs\n",
    "to this function. The first is the input image, and the second is the angle (in degrees) of rotation.\n",
    "The next two arguments are optional. The rotate function will resize the frame to accommodate all\n",
    "pixels in the rotated image. The reshape=False throws a switch that forces the output frame to\n",
    "be the same size as the input frame. Thus, corners of the original image will be lost since they are\n",
    "outside the output frame. The cval==255 sets the pixels that are not defined in the output to white.\n",
    "'''\n",
    "amg = imageio.imread('data/face.jpg' )\n",
    "bmg = nd.rotate(amg,20,reshape=False,cval=255)\n",
    "imageio.imsave('data/grayface1.jpg', bmg )\n",
    "\n",
    "\n",
    "'''The Shift operator is applied. The second argument is the tuple (250,100,0). The color\n",
    "image has three dimensions: vertical, horizontal, and color. Thus, there are three shift values. This\n",
    "image is shifted 25 pixels in the vertical direction, 10 pixels in the horizontal direction, and it is not\n",
    "shifted in the color dimension.'''\n",
    "\n",
    "cmg = nd.shift(bmg, (250,100,0))\n",
    "imageio.imsave('data/grayface2.jpg', cmg )\n"
   ]
  },
  {
   "cell_type": "code",
   "execution_count": null,
   "metadata": {},
   "outputs": [],
   "source": []
  }
 ],
 "metadata": {
  "kernelspec": {
   "display_name": "Python 3",
   "language": "python",
   "name": "python3"
  },
  "language_info": {
   "codemirror_mode": {
    "name": "ipython",
    "version": 3
   },
   "file_extension": ".py",
   "mimetype": "text/x-python",
   "name": "python",
   "nbconvert_exporter": "python",
   "pygments_lexer": "ipython3",
   "version": "3.7.3"
  }
 },
 "nbformat": 4,
 "nbformat_minor": 2
}
