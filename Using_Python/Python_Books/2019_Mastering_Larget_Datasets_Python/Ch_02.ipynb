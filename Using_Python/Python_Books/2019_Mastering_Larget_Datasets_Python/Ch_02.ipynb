{
 "cells": [
  {
   "cell_type": "code",
   "execution_count": 6,
   "metadata": {},
   "outputs": [
    {
     "name": "stdout",
     "output_type": "stream",
     "text": [
      "['(123) 456-7890', '(123) 456-7890', '(123) 456-7890', '(123) 456-7890']\n"
     ]
    }
   ],
   "source": [
    "import re\n",
    "\n",
    "phone_numbers = [\n",
    "    \"(123) 456-7890\",\n",
    "    \"1234567890\",\n",
    "    \"123.456.7890\",\n",
    "    \"+1 123 456-7890\"\n",
    "]\n",
    "\n",
    "new_numbers = []\n",
    "\n",
    "R = re.compile(r\"\\d\")\n",
    "\n",
    "for number in phone_numbers:\n",
    "    digits = R.findall(number)\n",
    "\n",
    "\n",
    "    area_code = \"\".join(digits[-10:-7])\n",
    "    first_3 = \"\".join(digits[-7:-4])\n",
    "    last_4 = \"\".join(digits[-4:len(digits)])\n",
    "\n",
    "    pretty_format = \"({}) {}-{}\".format(area_code,first_3,last_4)\n",
    "    new_numbers.append(pretty_format)\n",
    "\n",
    "print(new_numbers)"
   ]
  },
  {
   "cell_type": "code",
   "execution_count": 5,
   "metadata": {},
   "outputs": [
    {
     "name": "stdout",
     "output_type": "stream",
     "text": [
      "['(123) 456-7890', '(123) 456-7890', '(123) 456-7890', '(123) 456-7890']\n"
     ]
    }
   ],
   "source": [
    "import re\n",
    "\n",
    "class PhoneFormatter:\n",
    "    def __init__(self):\n",
    "    self.r = re.compile(r\"\\d\")\n",
    "\n",
    "    def pretty_format(self, phone_number):\n",
    "    phone_numbers = self.r.findall(phone_number)\n",
    "    area_code = \"\".join(phone_numbers[-10:-7])\n",
    "    first_3 = \"\".join(phone_numbers[-7:-4])\n",
    "    last_4 = \"\".join(phone_numbers[-4:len(phone_numbers)])\n",
    "    return \"({}) {}-{}\".format(area_code,\n",
    "                               first_3,\n",
    "                               last_4)\n",
    "phone_numbers = [\n",
    "  \"(123) 456-7890\",\n",
    "  \"1234567890\",\n",
    "  \"123.456.7890\",\n",
    "  \"+1 123 456-7890\"\n",
    "]\n",
    "\n",
    "P = PhoneFormatter ()\n",
    "print(list(map(P.pretty_format, phone_numbers)))"
   ]
  },
  {
   "cell_type": "code",
   "execution_count": 11,
   "metadata": {},
   "outputs": [],
   "source": [
    "from datetime import date\n",
    "\n",
    "def days_between(start, stop):\n",
    "    today = date(*start)\n",
    "    stop = date(*stop)\n",
    "    while today < stop:\n",
    "        datestr = today.strftime(\"%m-%d-%Y\")\n",
    "        yield \"http://jtwolohan.com/arch-rival-blog/\"+ datestr\n",
    "        today = date.fromordinal(today.toordinal()+1)"
   ]
  },
  {
   "cell_type": "code",
   "execution_count": 22,
   "metadata": {},
   "outputs": [
    {
     "data": {
      "text/plain": [
       "['http://jtwolohan.com/arch-rival-blog/02-25-2020',\n",
       " 'http://jtwolohan.com/arch-rival-blog/02-26-2020',\n",
       " 'http://jtwolohan.com/arch-rival-blog/02-27-2020',\n",
       " 'http://jtwolohan.com/arch-rival-blog/02-28-2020',\n",
       " 'http://jtwolohan.com/arch-rival-blog/02-29-2020']"
      ]
     },
     "execution_count": 22,
     "metadata": {},
     "output_type": "execute_result"
    }
   ],
   "source": [
    "list(days_between((2020,2,25),(2020,3,1)))"
   ]
  },
  {
   "cell_type": "code",
   "execution_count": 27,
   "metadata": {},
   "outputs": [
    {
     "data": {
      "text/plain": [
       "datetime.date(2020, 3, 1)"
      ]
     },
     "execution_count": 27,
     "metadata": {},
     "output_type": "execute_result"
    }
   ],
   "source": [
    "a = date(2020,2,29)\n",
    "date.fromordinal(a.toordinal()+1)"
   ]
  },
  {
   "cell_type": "code",
   "execution_count": 36,
   "metadata": {},
   "outputs": [
    {
     "data": {
      "text/plain": [
       "'2020'"
      ]
     },
     "execution_count": 36,
     "metadata": {},
     "output_type": "execute_result"
    }
   ],
   "source": [
    "a.strftime(\"%Y\")"
   ]
  },
  {
   "cell_type": "code",
   "execution_count": 39,
   "metadata": {},
   "outputs": [
    {
     "data": {
      "text/plain": [
       "'20'"
      ]
     },
     "execution_count": 39,
     "metadata": {},
     "output_type": "execute_result"
    }
   ],
   "source": [
    "a.strftime(\"%y\")"
   ]
  },
  {
   "cell_type": "code",
   "execution_count": null,
   "metadata": {},
   "outputs": [],
   "source": []
  }
 ],
 "metadata": {
  "kernelspec": {
   "display_name": "Python 3",
   "language": "python",
   "name": "python3"
  },
  "language_info": {
   "codemirror_mode": {
    "name": "ipython",
    "version": 3
   },
   "file_extension": ".py",
   "mimetype": "text/x-python",
   "name": "python",
   "nbconvert_exporter": "python",
   "pygments_lexer": "ipython3",
   "version": "3.7.4"
  }
 },
 "nbformat": 4,
 "nbformat_minor": 2
}
