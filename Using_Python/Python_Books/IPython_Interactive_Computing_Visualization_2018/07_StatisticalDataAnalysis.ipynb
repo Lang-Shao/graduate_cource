{
 "cells": [
  {
   "cell_type": "markdown",
   "metadata": {},
   "source": [
    "# Exploring a dataset with pandas and Matplotlib"
   ]
  },
  {
   "cell_type": "code",
   "execution_count": 2,
   "metadata": {},
   "outputs": [
    {
     "data": {
      "text/html": [
       "<div>\n",
       "<style scoped>\n",
       "    .dataframe tbody tr th:only-of-type {\n",
       "        vertical-align: middle;\n",
       "    }\n",
       "\n",
       "    .dataframe tbody tr th {\n",
       "        vertical-align: top;\n",
       "    }\n",
       "\n",
       "    .dataframe thead th {\n",
       "        text-align: right;\n",
       "    }\n",
       "</style>\n",
       "<table border=\"1\" class=\"dataframe\">\n",
       "  <thead>\n",
       "    <tr style=\"text-align: right;\">\n",
       "      <th></th>\n",
       "      <th>year</th>\n",
       "      <th>tournament</th>\n",
       "      <th>start date</th>\n",
       "      <th>type</th>\n",
       "      <th>surface</th>\n",
       "      <th>draw</th>\n",
       "      <th>atp points</th>\n",
       "      <th>atp ranking</th>\n",
       "      <th>tournament prize money</th>\n",
       "      <th>round</th>\n",
       "      <th>...</th>\n",
       "      <th>player2 2nd serve return points total</th>\n",
       "      <th>player2 break points converted won</th>\n",
       "      <th>player2 break points converted total</th>\n",
       "      <th>player2 return games played</th>\n",
       "      <th>player2 total service points won</th>\n",
       "      <th>player2 total service points total</th>\n",
       "      <th>player2 total return points won</th>\n",
       "      <th>player2 total return points total</th>\n",
       "      <th>player2 total points won</th>\n",
       "      <th>player2 total points total</th>\n",
       "    </tr>\n",
       "  </thead>\n",
       "  <tbody>\n",
       "    <tr>\n",
       "      <td>0</td>\n",
       "      <td>1998</td>\n",
       "      <td>Basel, Switzerland</td>\n",
       "      <td>1998-10-05</td>\n",
       "      <td>WS</td>\n",
       "      <td>Indoor: Hard</td>\n",
       "      <td>Draw: 32</td>\n",
       "      <td>1</td>\n",
       "      <td>396.0</td>\n",
       "      <td>$9,800</td>\n",
       "      <td>R32</td>\n",
       "      <td>...</td>\n",
       "      <td>22.0</td>\n",
       "      <td>4.0</td>\n",
       "      <td>8.0</td>\n",
       "      <td>8.0</td>\n",
       "      <td>36.0</td>\n",
       "      <td>50.0</td>\n",
       "      <td>26.0</td>\n",
       "      <td>53.0</td>\n",
       "      <td>62.0</td>\n",
       "      <td>103.0</td>\n",
       "    </tr>\n",
       "    <tr>\n",
       "      <td>1</td>\n",
       "      <td>1998</td>\n",
       "      <td>Toulouse, France</td>\n",
       "      <td>1998-09-28</td>\n",
       "      <td>WS</td>\n",
       "      <td>Indoor: Hard</td>\n",
       "      <td>Draw: 32</td>\n",
       "      <td>59</td>\n",
       "      <td>878.0</td>\n",
       "      <td>$10,800</td>\n",
       "      <td>R32</td>\n",
       "      <td>...</td>\n",
       "      <td>19.0</td>\n",
       "      <td>0.0</td>\n",
       "      <td>1.0</td>\n",
       "      <td>8.0</td>\n",
       "      <td>33.0</td>\n",
       "      <td>65.0</td>\n",
       "      <td>8.0</td>\n",
       "      <td>41.0</td>\n",
       "      <td>41.0</td>\n",
       "      <td>106.0</td>\n",
       "    </tr>\n",
       "    <tr>\n",
       "      <td>2</td>\n",
       "      <td>1998</td>\n",
       "      <td>Toulouse, France</td>\n",
       "      <td>1998-09-28</td>\n",
       "      <td>WS</td>\n",
       "      <td>Indoor: Hard</td>\n",
       "      <td>Draw: 32</td>\n",
       "      <td>59</td>\n",
       "      <td>878.0</td>\n",
       "      <td>$10,800</td>\n",
       "      <td>R16</td>\n",
       "      <td>...</td>\n",
       "      <td>30.0</td>\n",
       "      <td>0.0</td>\n",
       "      <td>4.0</td>\n",
       "      <td>10.0</td>\n",
       "      <td>46.0</td>\n",
       "      <td>75.0</td>\n",
       "      <td>23.0</td>\n",
       "      <td>73.0</td>\n",
       "      <td>69.0</td>\n",
       "      <td>148.0</td>\n",
       "    </tr>\n",
       "  </tbody>\n",
       "</table>\n",
       "<p>3 rows × 70 columns</p>\n",
       "</div>"
      ],
      "text/plain": [
       "   year          tournament start date type       surface      draw  \\\n",
       "0  1998  Basel, Switzerland 1998-10-05   WS  Indoor: Hard  Draw: 32   \n",
       "1  1998    Toulouse, France 1998-09-28   WS  Indoor: Hard  Draw: 32   \n",
       "2  1998    Toulouse, France 1998-09-28   WS  Indoor: Hard  Draw: 32   \n",
       "\n",
       "  atp points  atp ranking tournament prize money round  ...  \\\n",
       "0          1        396.0                 $9,800   R32  ...   \n",
       "1         59        878.0                $10,800   R32  ...   \n",
       "2         59        878.0                $10,800   R16  ...   \n",
       "\n",
       "  player2 2nd serve return points total player2 break points converted won  \\\n",
       "0                                  22.0                                4.0   \n",
       "1                                  19.0                                0.0   \n",
       "2                                  30.0                                0.0   \n",
       "\n",
       "  player2 break points converted total player2 return games played  \\\n",
       "0                                  8.0                         8.0   \n",
       "1                                  1.0                         8.0   \n",
       "2                                  4.0                        10.0   \n",
       "\n",
       "  player2 total service points won player2 total service points total  \\\n",
       "0                             36.0                               50.0   \n",
       "1                             33.0                               65.0   \n",
       "2                             46.0                               75.0   \n",
       "\n",
       "   player2 total return points won player2 total return points total  \\\n",
       "0                             26.0                              53.0   \n",
       "1                              8.0                              41.0   \n",
       "2                             23.0                              73.0   \n",
       "\n",
       "  player2 total points won player2 total points total  \n",
       "0                     62.0                      103.0  \n",
       "1                     41.0                      106.0  \n",
       "2                     69.0                      148.0  \n",
       "\n",
       "[3 rows x 70 columns]"
      ]
     },
     "execution_count": 2,
     "metadata": {},
     "output_type": "execute_result"
    }
   ],
   "source": [
    "from datetime import datetime\n",
    "import numpy as np\n",
    "import pandas as pd\n",
    "import matplotlib.pyplot as plt\n",
    "%matplotlib inline\n",
    "\n",
    "player = 'Roger Federer'\n",
    "df = pd.read_csv('https://github.com/ipython-books/cookbook-2nd-data/blob/master/federer.csv?raw=true',\n",
    "                 parse_dates=['start date'],dayfirst=True)\n",
    "df.head(3)\n"
   ]
  },
  {
   "cell_type": "code",
   "execution_count": 6,
   "metadata": {},
   "outputs": [],
   "source": [
    "df['win'] = df['winner'] == player"
   ]
  },
  {
   "cell_type": "code",
   "execution_count": 8,
   "metadata": {},
   "outputs": [
    {
     "data": {
      "text/plain": [
       "0.8244274809160306"
      ]
     },
     "execution_count": 8,
     "metadata": {},
     "output_type": "execute_result"
    }
   ],
   "source": [
    "df['win'].mean()"
   ]
  },
  {
   "cell_type": "code",
   "execution_count": 16,
   "metadata": {},
   "outputs": [],
   "source": [
    "df['dblfaults'] = (df['player1 double faults'] /\n",
    "df['player1 total points total'])"
   ]
  },
  {
   "cell_type": "code",
   "execution_count": 9,
   "metadata": {},
   "outputs": [],
   "source": [
    "date = df['start date']"
   ]
  },
  {
   "cell_type": "code",
   "execution_count": 14,
   "metadata": {},
   "outputs": [
    {
     "data": {
      "text/plain": [
       "year\n",
       "1998    0.333333\n",
       "1999    0.557692\n",
       "2000    0.545455\n",
       "2001    0.712329\n",
       "2002    0.741176\n",
       "2003    0.828283\n",
       "2004    0.927711\n",
       "2005    0.954023\n",
       "2006    0.950495\n",
       "2007    0.896552\n",
       "2008    0.826087\n",
       "2009    0.851852\n",
       "2010    0.853933\n",
       "2011    0.857143\n",
       "2012    0.861702\n",
       "Name: win, dtype: float64"
      ]
     },
     "execution_count": 14,
     "metadata": {},
     "output_type": "execute_result"
    }
   ],
   "source": [
    "df.groupby('year')['win'].mean()"
   ]
  },
  {
   "cell_type": "code",
   "execution_count": 20,
   "metadata": {},
   "outputs": [],
   "source": [
    "gb = df.groupby('year')"
   ]
  },
  {
   "cell_type": "code",
   "execution_count": 25,
   "metadata": {},
   "outputs": [
    {
     "data": {
      "text/plain": [
       "<pandas.core.groupby.generic.DataFrameGroupBy object at 0x7fcf88153ed0>"
      ]
     },
     "execution_count": 25,
     "metadata": {},
     "output_type": "execute_result"
    }
   ],
   "source": [
    "gb"
   ]
  },
  {
   "cell_type": "markdown",
   "metadata": {},
   "source": [
    "# A simple z-test"
   ]
  },
  {
   "cell_type": "code",
   "execution_count": null,
   "metadata": {},
   "outputs": [],
   "source": []
  }
 ],
 "metadata": {
  "kernelspec": {
   "display_name": "Python 3",
   "language": "python",
   "name": "python3"
  },
  "language_info": {
   "codemirror_mode": {
    "name": "ipython",
    "version": 3
   },
   "file_extension": ".py",
   "mimetype": "text/x-python",
   "name": "python",
   "nbconvert_exporter": "python",
   "pygments_lexer": "ipython3",
   "version": "3.7.4"
  }
 },
 "nbformat": 4,
 "nbformat_minor": 2
}
