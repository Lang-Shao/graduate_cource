{
 "cells": [
  {
   "cell_type": "code",
   "execution_count": 36,
   "metadata": {},
   "outputs": [
    {
     "name": "stdout",
     "output_type": "stream",
     "text": [
      "['/home/lang/Software/miniconda3/lib/python3.7/site-packages/rpy2'] ver= 2.9.4\n"
     ]
    }
   ],
   "source": [
    "import rpy2\n",
    "print(rpy2.__path__,'ver=',rpy2.__version__)\n",
    "from rpy2.robjects import r\n",
    "import matplotlib.pyplot as plt\n",
    "import numpy as np\n",
    "#from rpy2.robjects import numpy2ri\n",
    "#r(\"library(baseline)\")\n",
    "#numpy2ri.activate()"
   ]
  },
  {
   "cell_type": "markdown",
   "metadata": {},
   "source": [
    "# R and python have separate namespaces\n",
    "\n",
    "- The assignment operator in R is the two-character sequence '<-' or '='. \n",
    "\n",
    "- Use '<-' for R and use '=' for python to distinguish"
   ]
  },
  {
   "cell_type": "code",
   "execution_count": 60,
   "metadata": {},
   "outputs": [
    {
     "data": {
      "text/html": [
       "\n",
       "    <span>FloatVector with 4 elements.</span>\n",
       "    <table>\n",
       "      <tbody>\n",
       "      <tr>\n",
       "      \n",
       "      <td>\n",
       "        1.000000\n",
       "      </td>\n",
       "      \n",
       "      <td>\n",
       "        2.000000\n",
       "      </td>\n",
       "      \n",
       "      <td>\n",
       "        3.000000\n",
       "      </td>\n",
       "      \n",
       "      <td>\n",
       "        8.000000\n",
       "      </td>\n",
       "      \n",
       "      </tr>\n",
       "      </tbody>\n",
       "    </table>\n",
       "    "
      ],
      "text/plain": [
       "R object with classes: ('numeric',) mapped to:\n",
       "<FloatVector - Python:0x7fee8f95fc80 / R:0x55acb6d05b68>\n",
       "[1.000000, 2.000000, 3.000000, 8.000000]"
      ]
     },
     "execution_count": 60,
     "metadata": {},
     "output_type": "execute_result"
    }
   ],
   "source": [
    "r(\"y <- c(1,2,3,8)\")"
   ]
  },
  {
   "cell_type": "code",
   "execution_count": 61,
   "metadata": {},
   "outputs": [
    {
     "data": {
      "text/html": [
       "\n",
       "    <span>FloatVector with 21 elements.</span>\n",
       "    <table>\n",
       "      <tbody>\n",
       "      <tr>\n",
       "      \n",
       "      <td>\n",
       "        -1.000000\n",
       "      </td>\n",
       "      \n",
       "      <td>\n",
       "        -0.900000\n",
       "      </td>\n",
       "      \n",
       "      <td>\n",
       "        -0.800000\n",
       "      </td>\n",
       "      \n",
       "      <td>\n",
       "        -0.700000\n",
       "      </td>\n",
       "      \n",
       "      <td>\n",
       "        ...\n",
       "      </td>\n",
       "      \n",
       "      <td>\n",
       "        0.700000\n",
       "      </td>\n",
       "      \n",
       "      <td>\n",
       "        0.800000\n",
       "      </td>\n",
       "      \n",
       "      <td>\n",
       "        0.900000\n",
       "      </td>\n",
       "      \n",
       "      <td>\n",
       "        1.000000\n",
       "      </td>\n",
       "      \n",
       "      </tr>\n",
       "      </tbody>\n",
       "    </table>\n",
       "    "
      ],
      "text/plain": [
       "R object with classes: ('numeric',) mapped to:\n",
       "<FloatVector - Python:0x7fee8f961960 / R:0x55acb4ac0c90>\n",
       "[-1.000000, -0.900000, -0.800000, -0.700000, ..., 0.700000, 0.800000, 0.900000, 1.000000]"
      ]
     },
     "execution_count": 61,
     "metadata": {},
     "output_type": "execute_result"
    }
   ],
   "source": [
    "r(\"a <- seq.int(-1, 1, 0.1)\")"
   ]
  },
  {
   "cell_type": "code",
   "execution_count": 64,
   "metadata": {},
   "outputs": [
    {
     "data": {
      "text/plain": [
       "-1.0"
      ]
     },
     "execution_count": 64,
     "metadata": {},
     "output_type": "execute_result"
    }
   ],
   "source": [
    "a = r(\"a\")\n",
    "a[0]"
   ]
  },
  {
   "cell_type": "markdown",
   "metadata": {},
   "source": [
    "# standard normal distribution\n",
    "\n",
    "- pdf\n",
    "\n",
    "> dnorm(z,mean=0, sd=1)\n",
    "\n",
    "- cdf:\n",
    "\n",
    "> pnorm(z,mean=0, sd=1)"
   ]
  },
  {
   "cell_type": "code",
   "execution_count": 63,
   "metadata": {},
   "outputs": [
    {
     "name": "stdout",
     "output_type": "stream",
     "text": [
      "<class 'rpy2.robjects.vectors.FloatVector'> <class 'rpy2.robjects.vectors.FloatVector'>\n",
      "<class 'numpy.ndarray'> <class 'numpy.ndarray'>\n"
     ]
    },
    {
     "data": {
      "text/plain": [
       "<matplotlib.legend.Legend at 0x7fee8f8eb4d0>"
      ]
     },
     "execution_count": 63,
     "metadata": {},
     "output_type": "execute_result"
    },
    {
     "data": {
      "image/png": "[encoded data removed]",
      "text/plain": [
       "<Figure size 432x288 with 1 Axes>"
      ]
     },
     "metadata": {
      "needs_background": "light"
     },
     "output_type": "display_data"
    }
   ],
   "source": [
    "x = r(\"x <- seq.int(-5, 5, 0.1)\")\n",
    "rpdf = r(\"dnorm(x)\")\n",
    "rcdf = r(\"pnorm(x)\")\n",
    "print(type(rpdf),type(rcdf))\n",
    "pdf = np.array(rpdf)\n",
    "cdf = np.array(rcdf)\n",
    "print(type(pdf),type(cdf))\n",
    "plt.plot(x,pdf,label='pdf')\n",
    "plt.plot(x,cdf,label='cdf')\n",
    "plt.legend()"
   ]
  },
  {
   "cell_type": "markdown",
   "metadata": {},
   "source": [
    "# lognormal distribution\n",
    "\n",
    "- pdf\n",
    "\n",
    "> dlnorm(z, meanlog = 0, sdlog = 1)\n",
    "\n",
    "-cdf\n",
    "\n",
    "> plnorm(z, meanlog = 0, sdlog = 1)"
   ]
  },
  {
   "cell_type": "code",
   "execution_count": 71,
   "metadata": {},
   "outputs": [
    {
     "name": "stdout",
     "output_type": "stream",
     "text": [
      "<class 'rpy2.robjects.vectors.FloatVector'> <class 'rpy2.robjects.vectors.FloatVector'>\n",
      "<class 'numpy.ndarray'> <class 'numpy.ndarray'>\n"
     ]
    },
    {
     "data": {
      "text/plain": [
       "<matplotlib.legend.Legend at 0x7fee8f726cd0>"
      ]
     },
     "execution_count": 71,
     "metadata": {},
     "output_type": "execute_result"
    },
    {
     "data": {
      "image/png": "[encoded data removed]",
      "text/plain": [
       "<Figure size 432x288 with 1 Axes>"
      ]
     },
     "metadata": {
      "needs_background": "light"
     },
     "output_type": "display_data"
    }
   ],
   "source": [
    "x = r(\"x <- seq.int(0, 5, 0.01)\")\n",
    "rpdf = r(\"dlnorm(x)\")\n",
    "rcdf = r(\"plnorm(x)\")\n",
    "print(type(rpdf),type(rcdf))\n",
    "pdf = np.array(rpdf)\n",
    "cdf = np.array(rcdf)\n",
    "print(type(pdf),type(cdf))\n",
    "plt.plot(x,pdf,label='pdf')\n",
    "plt.plot(x,cdf,label='cdf')\n",
    "plt.xscale('log')\n",
    "plt.legend()"
   ]
  },
  {
   "cell_type": "code",
   "execution_count": null,
   "metadata": {},
   "outputs": [],
   "source": []
  }
 ],
 "metadata": {
  "kernelspec": {
   "display_name": "Python 3",
   "language": "python",
   "name": "python3"
  },
  "language_info": {
   "codemirror_mode": {
    "name": "ipython",
    "version": 3
   },
   "file_extension": ".py",
   "mimetype": "text/x-python",
   "name": "python",
   "nbconvert_exporter": "python",
   "pygments_lexer": "ipython3",
   "version": "3.7.4"
  }
 },
 "nbformat": 4,
 "nbformat_minor": 2
}
