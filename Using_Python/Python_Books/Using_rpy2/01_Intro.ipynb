{
 "cells": [
  {
   "cell_type": "code",
   "execution_count": 1,
   "metadata": {},
   "outputs": [
    {
     "name": "stdout",
     "output_type": "stream",
     "text": [
      "['/home/lang/Software/miniconda3/lib/python3.7/site-packages/rpy2'] ver= 2.9.4\n"
     ]
    }
   ],
   "source": [
    "import rpy2\n",
    "print(rpy2.__path__,'ver=',rpy2.__version__)\n",
    "from rpy2.robjects import r\n",
    "import matplotlib.pyplot as plt\n",
    "import numpy as np\n",
    "#from rpy2.robjects import numpy2ri\n",
    "#r(\"library(baseline)\")\n",
    "#numpy2ri.activate()"
   ]
  },
  {
   "cell_type": "markdown",
   "metadata": {},
   "source": [
    "# R and python have separate namespaces\n",
    "\n",
    "- The assignment operator in R is the two-character sequence '<-' or '='. \n",
    "\n",
    "- Use '<-' for R and use '=' for python to distinguish"
   ]
  },
  {
   "cell_type": "code",
   "execution_count": 2,
   "metadata": {},
   "outputs": [
    {
     "data": {
      "text/html": [
       "\n",
       "    <span>FloatVector with 4 elements.</span>\n",
       "    <table>\n",
       "      <tbody>\n",
       "      <tr>\n",
       "      \n",
       "      <td>\n",
       "        1.000000\n",
       "      </td>\n",
       "      \n",
       "      <td>\n",
       "        2.000000\n",
       "      </td>\n",
       "      \n",
       "      <td>\n",
       "        3.000000\n",
       "      </td>\n",
       "      \n",
       "      <td>\n",
       "        8.000000\n",
       "      </td>\n",
       "      \n",
       "      </tr>\n",
       "      </tbody>\n",
       "    </table>\n",
       "    "
      ],
      "text/plain": [
       "R object with classes: ('numeric',) mapped to:\n",
       "<FloatVector - Python:0x7f6ce5979050 / R:0x55c85c5316e8>\n",
       "[1.000000, 2.000000, 3.000000, 8.000000]"
      ]
     },
     "execution_count": 2,
     "metadata": {},
     "output_type": "execute_result"
    }
   ],
   "source": [
    "r(\"y <- c(1,2,3,8)\")"
   ]
  },
  {
   "cell_type": "code",
   "execution_count": 3,
   "metadata": {},
   "outputs": [
    {
     "data": {
      "text/html": [
       "\n",
       "    <span>FloatVector with 21 elements.</span>\n",
       "    <table>\n",
       "      <tbody>\n",
       "      <tr>\n",
       "      \n",
       "      <td>\n",
       "        -1.000000\n",
       "      </td>\n",
       "      \n",
       "      <td>\n",
       "        -0.900000\n",
       "      </td>\n",
       "      \n",
       "      <td>\n",
       "        -0.800000\n",
       "      </td>\n",
       "      \n",
       "      <td>\n",
       "        -0.700000\n",
       "      </td>\n",
       "      \n",
       "      <td>\n",
       "        ...\n",
       "      </td>\n",
       "      \n",
       "      <td>\n",
       "        0.700000\n",
       "      </td>\n",
       "      \n",
       "      <td>\n",
       "        0.800000\n",
       "      </td>\n",
       "      \n",
       "      <td>\n",
       "        0.900000\n",
       "      </td>\n",
       "      \n",
       "      <td>\n",
       "        1.000000\n",
       "      </td>\n",
       "      \n",
       "      </tr>\n",
       "      </tbody>\n",
       "    </table>\n",
       "    "
      ],
      "text/plain": [
       "R object with classes: ('numeric',) mapped to:\n",
       "<FloatVector - Python:0x7f6ce5968960 / R:0x55c85af09fe0>\n",
       "[-1.000000, -0.900000, -0.800000, -0.700000, ..., 0.700000, 0.800000, 0.900000, 1.000000]"
      ]
     },
     "execution_count": 3,
     "metadata": {},
     "output_type": "execute_result"
    }
   ],
   "source": [
    "r(\"a <- seq.int(-1, 1, 0.1)\")"
   ]
  },
  {
   "cell_type": "code",
   "execution_count": 4,
   "metadata": {},
   "outputs": [
    {
     "data": {
      "text/plain": [
       "-1.0"
      ]
     },
     "execution_count": 4,
     "metadata": {},
     "output_type": "execute_result"
    }
   ],
   "source": [
    "a = r(\"a\")\n",
    "a[0]"
   ]
  },
  {
   "cell_type": "markdown",
   "metadata": {},
   "source": [
    "# standard normal distribution\n",
    "\n",
    "- pdf\n",
    "\n",
    "> dnorm(z,mean=0, sd=1)\n",
    "\n",
    "- cdf:\n",
    "\n",
    "> pnorm(z,mean=0, sd=1)\n",
    "\n",
    "- quantile\n",
    "\n",
    "> qnorm(z,mean=0, sd=1)"
   ]
  },
  {
   "cell_type": "code",
   "execution_count": 18,
   "metadata": {},
   "outputs": [
    {
     "name": "stdout",
     "output_type": "stream",
     "text": [
      "<class 'rpy2.robjects.vectors.FloatVector'> <class 'rpy2.robjects.vectors.FloatVector'>\n",
      "<class 'numpy.ndarray'> <class 'numpy.ndarray'>\n",
      "[1] 0\n",
      "\n"
     ]
    },
    {
     "data": {
      "image/png": "[encoded data removed]",
      "text/plain": [
       "<Figure size 432x288 with 1 Axes>"
      ]
     },
     "metadata": {
      "needs_background": "light"
     },
     "output_type": "display_data"
    }
   ],
   "source": [
    "x = r(\"x <- seq.int(-5, 5, 0.1)\")\n",
    "rpdf = r(\"dnorm(x)\")\n",
    "rcdf = r(\"pnorm(x)\")\n",
    "print(type(rpdf),type(rcdf))\n",
    "pdf = np.array(rpdf)\n",
    "cdf = np.array(rcdf)\n",
    "print(type(pdf),type(cdf))\n",
    "plt.plot(x,pdf,label='pdf')\n",
    "plt.plot(x,cdf,label='cdf')\n",
    "plt.legend()\n",
    "print(r(\"qnorm(0.5)\"))"
   ]
  },
  {
   "cell_type": "markdown",
   "metadata": {},
   "source": [
    "# lognormal distribution\n",
    "\n",
    "- pdf\n",
    "\n",
    "> dlnorm(z, meanlog = 0, sdlog = 1)\n",
    "\n",
    "-cdf\n",
    "\n",
    "> plnorm(z, meanlog = 0, sdlog = 1)"
   ]
  },
  {
   "cell_type": "code",
   "execution_count": 6,
   "metadata": {},
   "outputs": [
    {
     "name": "stdout",
     "output_type": "stream",
     "text": [
      "<class 'rpy2.robjects.vectors.FloatVector'> <class 'rpy2.robjects.vectors.FloatVector'>\n",
      "<class 'numpy.ndarray'> <class 'numpy.ndarray'>\n"
     ]
    },
    {
     "data": {
      "text/plain": [
       "<matplotlib.legend.Legend at 0x7f6ce555e5d0>"
      ]
     },
     "execution_count": 6,
     "metadata": {},
     "output_type": "execute_result"
    },
    {
     "data": {
      "image/png": "[encoded data removed]",
      "text/plain": [
       "<Figure size 432x288 with 1 Axes>"
      ]
     },
     "metadata": {
      "needs_background": "light"
     },
     "output_type": "display_data"
    }
   ],
   "source": [
    "x = r(\"x <- seq.int(0, 5, 0.01)\")\n",
    "rpdf = r(\"dlnorm(x)\")\n",
    "rcdf = r(\"plnorm(x)\")\n",
    "print(type(rpdf),type(rcdf))\n",
    "pdf = np.array(rpdf)\n",
    "cdf = np.array(rcdf)\n",
    "print(type(pdf),type(cdf))\n",
    "plt.plot(x,pdf,label='pdf')\n",
    "plt.plot(x,cdf,label='cdf')\n",
    "#plt.xscale('log')\n",
    "plt.legend()"
   ]
  },
  {
   "cell_type": "code",
   "execution_count": 31,
   "metadata": {},
   "outputs": [
    {
     "data": {
      "text/html": [
       "\n",
       "    <span>FloatVector with 1 elements.</span>\n",
       "    <table>\n",
       "      <tbody>\n",
       "      <tr>\n",
       "      \n",
       "      <td>\n",
       "        45.000000\n",
       "      </td>\n",
       "      \n",
       "      </tr>\n",
       "      </tbody>\n",
       "    </table>\n",
       "    "
      ],
      "text/plain": [
       "R object with classes: ('numeric',) mapped to:\n",
       "<FloatVector - Python:0x7f6ce55114b0 / R:0x55c85cfd42b8>\n",
       "[45.000000]"
      ]
     },
     "execution_count": 31,
     "metadata": {},
     "output_type": "execute_result"
    }
   ],
   "source": [
    "r(\"choose(10,2)\")"
   ]
  },
  {
   "cell_type": "code",
   "execution_count": 30,
   "metadata": {},
   "outputs": [
    {
     "data": {
      "text/html": [
       "\n",
       "    <span>FloatVector with 5 elements.</span>\n",
       "    <table>\n",
       "      <tbody>\n",
       "      <tr>\n",
       "      \n",
       "      <td>\n",
       "        8.000000\n",
       "      </td>\n",
       "      \n",
       "      <td>\n",
       "        6.000000\n",
       "      </td>\n",
       "      \n",
       "      <td>\n",
       "        4.000000\n",
       "      </td>\n",
       "      \n",
       "      <td>\n",
       "        9.000000\n",
       "      </td>\n",
       "      \n",
       "      <td>\n",
       "        2.000000\n",
       "      </td>\n",
       "      \n",
       "      </tr>\n",
       "      </tbody>\n",
       "    </table>\n",
       "    "
      ],
      "text/plain": [
       "R object with classes: ('numeric',) mapped to:\n",
       "<FloatVector - Python:0x7f6ce54ac050 / R:0x55c85a8c8628>\n",
       "[8.000000, 6.000000, 4.000000, 9.000000, 2.000000]"
      ]
     },
     "execution_count": 30,
     "metadata": {},
     "output_type": "execute_result"
    }
   ],
   "source": [
    "r(\"y <- c(1,2,3,4,5,6,7,8,9)\")\n",
    "r(\"sample(y,5)\")"
   ]
  },
  {
   "cell_type": "code",
   "execution_count": null,
   "metadata": {},
   "outputs": [],
   "source": []
  }
 ],
 "metadata": {
  "kernelspec": {
   "display_name": "Python 3",
   "language": "python",
   "name": "python3"
  },
  "language_info": {
   "codemirror_mode": {
    "name": "ipython",
    "version": 3
   },
   "file_extension": ".py",
   "mimetype": "text/x-python",
   "name": "python",
   "nbconvert_exporter": "python",
   "pygments_lexer": "ipython3",
   "version": "3.7.4"
  }
 },
 "nbformat": 4,
 "nbformat_minor": 2
}
