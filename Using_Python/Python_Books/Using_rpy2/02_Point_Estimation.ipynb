{
 "cells": [
  {
   "cell_type": "code",
   "execution_count": 1,
   "metadata": {},
   "outputs": [
    {
     "name": "stdout",
     "output_type": "stream",
     "text": [
      "['/home/lang/Software/miniconda3/lib/python3.7/site-packages/rpy2'] ver= 2.9.4\n"
     ]
    }
   ],
   "source": [
    "import rpy2\n",
    "print(rpy2.__path__,'ver=',rpy2.__version__)\n",
    "from rpy2.robjects import r\n",
    "import matplotlib.pyplot as plt\n",
    "import numpy as np"
   ]
  },
  {
   "cell_type": "markdown",
   "metadata": {},
   "source": [
    "The arithmetic mean is a least squares estimate of the expectation μ of y.\n",
    "The corresponding least squares estimator is unbiased."
   ]
  },
  {
   "cell_type": "code",
   "execution_count": 13,
   "metadata": {},
   "outputs": [
    {
     "name": "stdout",
     "output_type": "stream",
     "text": [
      "[1] 25\n",
      " [1] 1\n",
      " [1] 25\n",
      " [1]  1 25\n",
      " [1] 11.2\n",
      " [1] 10\n",
      "\n"
     ]
    }
   ],
   "source": [
    "r(\"y <- c(5,7,1,7,8,9,13,9,10,10,18,10,15,10,10,11,8,11,12,13,15,22,10,25,11)\")\n",
    "print(r(\"length(y)\"),r(\"min(y)\"),r(\"max(y)\"),r(\"range(y)\"),r(\"mean(y)\"),r(\"median(y)\"))"
   ]
  },
  {
   "cell_type": "code",
   "execution_count": 12,
   "metadata": {},
   "outputs": [
    {
     "data": {
      "text/html": [
       "\n",
       "    <span>FloatVector with 25 elements.</span>\n",
       "    <table>\n",
       "      <tbody>\n",
       "      <tr>\n",
       "      \n",
       "      <td>\n",
       "        1.000000\n",
       "      </td>\n",
       "      \n",
       "      <td>\n",
       "        5.000000\n",
       "      </td>\n",
       "      \n",
       "      <td>\n",
       "        7.000000\n",
       "      </td>\n",
       "      \n",
       "      <td>\n",
       "        7.000000\n",
       "      </td>\n",
       "      \n",
       "      <td>\n",
       "        ...\n",
       "      </td>\n",
       "      \n",
       "      <td>\n",
       "        15.000000\n",
       "      </td>\n",
       "      \n",
       "      <td>\n",
       "        18.000000\n",
       "      </td>\n",
       "      \n",
       "      <td>\n",
       "        22.000000\n",
       "      </td>\n",
       "      \n",
       "      <td>\n",
       "        25.000000\n",
       "      </td>\n",
       "      \n",
       "      </tr>\n",
       "      </tbody>\n",
       "    </table>\n",
       "    "
      ],
      "text/plain": [
       "R object with classes: ('numeric',) mapped to:\n",
       "<FloatVector - Python:0x7fae20f44be0 / R:0x5589893a68d0>\n",
       "[1.000000, 5.000000, 7.000000, 7.000000, ..., 15.000000, 18.000000, 22.000000, 25.000000]"
      ]
     },
     "execution_count": 12,
     "metadata": {},
     "output_type": "execute_result"
    }
   ],
   "source": [
    "r(\"sortedy <- sort(y)\")"
   ]
  },
  {
   "cell_type": "code",
   "execution_count": 15,
   "metadata": {},
   "outputs": [
    {
     "data": {
      "text/html": [
       "\n",
       "    <span>FloatVector with 6 elements.</span>\n",
       "    <table>\n",
       "      <tbody>\n",
       "      <tr>\n",
       "      \n",
       "      <td>\n",
       "        1.000000\n",
       "      </td>\n",
       "      \n",
       "      <td>\n",
       "        9.000000\n",
       "      </td>\n",
       "      \n",
       "      <td>\n",
       "        10.000000\n",
       "      </td>\n",
       "      \n",
       "      <td>\n",
       "        11.200000\n",
       "      </td>\n",
       "      \n",
       "      <td>\n",
       "        13.000000\n",
       "      </td>\n",
       "      \n",
       "      <td>\n",
       "        25.000000\n",
       "      </td>\n",
       "      \n",
       "      </tr>\n",
       "      </tbody>\n",
       "    </table>\n",
       "    "
      ],
      "text/plain": [
       "R object with classes: ('summaryDefault', 'table') mapped to:\n",
       "<FloatVector - Python:0x7fae20f76410 / R:0x558986c44598>\n",
       "[1.000000, 9.000000, 10.000000, 11.200000, 13.000000, 25.000000]"
      ]
     },
     "execution_count": 15,
     "metadata": {},
     "output_type": "execute_result"
    }
   ],
   "source": [
    "r(\"summary(y)\") #Min. 1st_Qu. Median Mean 3rd_Qu. Max."
   ]
  },
  {
   "cell_type": "code",
   "execution_count": null,
   "metadata": {},
   "outputs": [],
   "source": []
  }
 ],
 "metadata": {
  "kernelspec": {
   "display_name": "Python 3",
   "language": "python",
   "name": "python3"
  },
  "language_info": {
   "codemirror_mode": {
    "name": "ipython",
    "version": 3
   },
   "file_extension": ".py",
   "mimetype": "text/x-python",
   "name": "python",
   "nbconvert_exporter": "python",
   "pygments_lexer": "ipython3",
   "version": "3.7.4"
  }
 },
 "nbformat": 4,
 "nbformat_minor": 2
}
