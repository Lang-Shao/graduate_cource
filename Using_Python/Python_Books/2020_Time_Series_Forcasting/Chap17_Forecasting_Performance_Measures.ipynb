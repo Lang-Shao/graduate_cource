{
 "cells": [
  {
   "cell_type": "code",
   "execution_count": 1,
   "metadata": {},
   "outputs": [
    {
     "name": "stdout",
     "output_type": "stream",
     "text": [
      "RMSE: 0.148324\n"
     ]
    }
   ],
   "source": [
    "# calculate root mean squared error\n",
    "from sklearn.metrics import mean_squared_error\n",
    "from math import sqrt\n",
    "expected = [0.0, 0.5, 0.0, 0.5, 0.0]\n",
    "predictions = [0.2, 0.4, 0.1, 0.6, 0.2]\n",
    "mse = mean_squared_error(expected, predictions)\n",
    "rmse = sqrt(mse)\n",
    "print('RMSE: %f' % rmse)"
   ]
  },
  {
   "cell_type": "code",
   "execution_count": null,
   "metadata": {},
   "outputs": [],
   "source": []
  }
 ],
 "metadata": {
  "kernelspec": {
   "display_name": "Python 3",
   "language": "python",
   "name": "python3"
  },
  "language_info": {
   "codemirror_mode": {
    "name": "ipython",
    "version": 3
   },
   "file_extension": ".py",
   "mimetype": "text/x-python",
   "name": "python",
   "nbconvert_exporter": "python",
   "pygments_lexer": "ipython3",
   "version": "3.7.7"
  }
 },
 "nbformat": 4,
 "nbformat_minor": 4
}
