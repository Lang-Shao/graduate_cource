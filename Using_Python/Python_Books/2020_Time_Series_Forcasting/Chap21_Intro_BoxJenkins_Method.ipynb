{
 "cells": [
  {
   "cell_type": "markdown",
   "metadata": {},
   "source": [
    "The Autoregressive Integrated Moving Average Model, or ARIMA for short is a standard\n",
    "statistical model for time series forecast and analysis. Along with its development, the authors\n",
    "Box and Jenkins also suggest a process for identifying, estimating, and checking models for a\n",
    "specic time series dataset. This process is now referred to as the Box-Jenkins Method."
   ]
  },
  {
   "cell_type": "markdown",
   "metadata": {},
   "source": [
    "The Box-Jenkins method was proposed by George Box and Gwilym Jenkins in their seminal\n",
    "1970 textbook Time Series Analysis: Forecasting and Control1. The approach starts with the\n",
    "assumption that the process that generated the time series can be approximated using an ARMA\n",
    "model if it is stationary or an ARIMA model if it is non-stationary. The 2016 5th edition of the\n",
    "textbook (Part Two, page 177) refers to the process as a stochastic model building and that it\n",
    "is an iterative approach that consists of the following 3 steps:\n",
    "    \n",
    "1. Identication. Use the data and all related information to help select a sub-class of\n",
    "model that may best summarize the data.\n",
    "\n",
    "2. Estimation. Use the data to train the parameters of the model (i.e. the coefficients).\n",
    "\n",
    "3. Diagnostic Checking. Evaluate the fitted model in the context of the available data\n",
    "and check for areas where the model may be improved.\n",
    "It is an iterative process, so that as new information is gained during diagnostics, you can\n",
    "circle back to step 1 and incorporate that into new model classes."
   ]
  },
  {
   "cell_type": "code",
   "execution_count": null,
   "metadata": {},
   "outputs": [],
   "source": []
  }
 ],
 "metadata": {
  "kernelspec": {
   "display_name": "Python 3",
   "language": "python",
   "name": "python3"
  },
  "language_info": {
   "codemirror_mode": {
    "name": "ipython",
    "version": 3
   },
   "file_extension": ".py",
   "mimetype": "text/x-python",
   "name": "python",
   "nbconvert_exporter": "python",
   "pygments_lexer": "ipython3",
   "version": "3.7.7"
  }
 },
 "nbformat": 4,
 "nbformat_minor": 4
}
