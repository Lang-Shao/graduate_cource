{
 "cells": [
  {
   "cell_type": "markdown",
   "metadata": {},
   "source": [
    "To view HTML source, right-click on the page and press “View source,” or simply press Ctrl+U in Google Chrome."
   ]
  },
  {
   "cell_type": "markdown",
   "metadata": {},
   "source": [
    "Additionally, you can open up Chrome's \"Developer Tools\". To do so, either select the Chrome Menu at the top right of your browser window, then select \"Tools\", \"Developer Tools\", or press Ctrl+Shift+I. Alternatively, you can also right-click on any page\n",
    "element and select \"Inspect Element\"."
   ]
  },
  {
   "cell_type": "markdown",
   "metadata": {},
   "source": [
    "Next, note that any HTML element in the Elements tab can be right-clicked. “Copy, Copy selector” and “Copy XPath” are particularly useful, which we’re going to use quite often later on. You’ll even see that you can edit the HTML code in real time (the web page will update itself to reflect your edits), though don’t feel too much like a CSI: Miami style hacker: these changes are of course only local. They don’t do anything on the web server itself and will be gone once you refresh the page, though it can be a fun way to experiment with HTML. In any case, your web browser is going to become your best friend when working on web scraping projects."
   ]
  },
  {
   "cell_type": "code",
   "execution_count": 155,
   "metadata": {},
   "outputs": [
    {
     "name": "stdout",
     "output_type": "stream",
     "text": [
      "Number of bursts with a redshift =  466\n"
     ]
    }
   ],
   "source": [
    "import requests\n",
    "from bs4 import BeautifulSoup\n",
    "url = 'http://www.mpe.mpg.de/~jcg/grbgen.html'\n",
    "r = requests.get(url)\n",
    "html_contents = r.text\n",
    "html_soup = BeautifulSoup(html_contents)\n",
    "dataFound=html_soup.find_all('td')\n",
    "\n",
    "burstName = []\n",
    "xRayPosition = []\n",
    "redshift = []\n",
    "\n",
    "i=0\n",
    "burstNumber = 0\n",
    "while(True):\n",
    "    bn = dataFound[10+10*i].contents[0].text\n",
    "    if(len(bn)<6):\n",
    "        break\n",
    "    zString = dataFound[19+10*i].contents[0]\n",
    "    try:\n",
    "        zFloat = float(zString)\n",
    "        burstNumber += 1\n",
    "        burstName.append(bn)\n",
    "        position = dataFound[11+10*i].text\n",
    "        xRayPosition.append(position)\n",
    "        redshift.append(zFloat)\n",
    "    except:\n",
    "        pass\n",
    "    i += 1\n",
    "print('Number of bursts with a redshift = ',burstNumber)"
   ]
  },
  {
   "cell_type": "code",
   "execution_count": null,
   "metadata": {},
   "outputs": [],
   "source": []
  }
 ],
 "metadata": {
  "kernelspec": {
   "display_name": "Python 3",
   "language": "python",
   "name": "python3"
  },
  "language_info": {
   "codemirror_mode": {
    "name": "ipython",
    "version": 3
   },
   "file_extension": ".py",
   "mimetype": "text/x-python",
   "name": "python",
   "nbconvert_exporter": "python",
   "pygments_lexer": "ipython3",
   "version": "3.7.3"
  }
 },
 "nbformat": 4,
 "nbformat_minor": 2
}
