{
 "cells": [
  {
   "cell_type": "code",
   "execution_count": null,
   "metadata": {},
   "outputs": [],
   "source": [
    "print(col1_name + ',' + col2_name + ',' + col3_name + ',' + col4_name)\n",
    "print(first_val + ',' + second_val + ',' + third_val + ',' + fourth_val)\n",
    "\n",
    "\n",
    "DELIMITER = '\\t'\n",
    "print(DELIMITER.join([col1_name, col2_name, col3_name, col4_name]))\n",
    "print(DELIMITER.join([first_val, second_val, third_val, fourth_val]))\n",
    "\n",
    "\n",
    "\"\"\"\n",
    ">>> us_capitals_by_state = {  # <1>\n",
    "    'Alabama': 'Montgomery',\n",
    "    'Alaska': 'Juneau',\n",
    "    ...\n",
    "}\n",
    ">>> capitals = us_capitals_by_state.values()  # <2>\n",
    "dict_values(['Montgomery', 'Juneau'])\n",
    ">>> capitals.sort()  # <3>\n",
    "Traceback (most recent call last):\n",
    "  File \"<stdin>\", line 1, in <module>\n",
    "AttributeError: 'dict_values' object has no attribute 'sort'\n",
    ">>> sorted(capitals)  # <4>\n",
    "['Albany', 'Annapolis', ...]\n",
    "\"\"\"\n",
    "\n",
    "\n",
    "def get_united_states_capitals():  # <1>\n",
    "    us_capitals_by_state = {'Alabama': ...}\n",
    "    capitals = us_capitals_by_state.values()\n",
    "    return sorted(capitals)\n",
    "\n",
    "\n",
    "US_CAPITALS_BY_STATE = {'Alabama': 'Montgomery', ...}  # <1>\n",
    "US_CAPITALS = sorted(US_CAPITALS_BY_STATE.values())  # <2>"
   ]
  },
  {
   "cell_type": "code",
   "execution_count": 1,
   "metadata": {},
   "outputs": [],
   "source": [
    "alist=[1,2,3,4,19,2]\n",
    "alist.sort()"
   ]
  },
  {
   "cell_type": "code",
   "execution_count": 2,
   "metadata": {},
   "outputs": [
    {
     "data": {
      "text/plain": [
       "[1, 2, 2, 3, 4, 19]"
      ]
     },
     "execution_count": 2,
     "metadata": {},
     "output_type": "execute_result"
    }
   ],
   "source": [
    "alist"
   ]
  },
  {
   "cell_type": "code",
   "execution_count": 3,
   "metadata": {},
   "outputs": [],
   "source": [
    "blist=[1,2,3,4,19,2]"
   ]
  },
  {
   "cell_type": "code",
   "execution_count": 4,
   "metadata": {},
   "outputs": [
    {
     "data": {
      "text/plain": [
       "[1, 2, 2, 3, 4, 19]"
      ]
     },
     "execution_count": 4,
     "metadata": {},
     "output_type": "execute_result"
    }
   ],
   "source": [
    "sorted(blist)"
   ]
  },
  {
   "cell_type": "code",
   "execution_count": 5,
   "metadata": {},
   "outputs": [
    {
     "data": {
      "text/plain": [
       "[1, 2, 3, 4, 19, 2]"
      ]
     },
     "execution_count": 5,
     "metadata": {},
     "output_type": "execute_result"
    }
   ],
   "source": [
    "blist"
   ]
  },
  {
   "cell_type": "code",
   "execution_count": 6,
   "metadata": {},
   "outputs": [],
   "source": [
    "import numpy as np"
   ]
  },
  {
   "cell_type": "code",
   "execution_count": 9,
   "metadata": {},
   "outputs": [],
   "source": [
    "alist_arr=np.array(alist)\n",
    "blist_arr=np.array(blist)"
   ]
  },
  {
   "cell_type": "code",
   "execution_count": 10,
   "metadata": {},
   "outputs": [
    {
     "data": {
      "text/plain": [
       "array([ 1,  2,  3,  4, 19,  2])"
      ]
     },
     "execution_count": 10,
     "metadata": {},
     "output_type": "execute_result"
    }
   ],
   "source": [
    "blist_arr"
   ]
  },
  {
   "cell_type": "code",
   "execution_count": 11,
   "metadata": {},
   "outputs": [
    {
     "data": {
      "text/plain": [
       "[1, 2, 2, 3, 4, 19]"
      ]
     },
     "execution_count": 11,
     "metadata": {},
     "output_type": "execute_result"
    }
   ],
   "source": [
    "sorted(blist_arr)"
   ]
  }
 ],
 "metadata": {
  "kernelspec": {
   "display_name": "Python 3",
   "language": "python",
   "name": "python3"
  },
  "language_info": {
   "codemirror_mode": {
    "name": "ipython",
    "version": 3
   },
   "file_extension": ".py",
   "mimetype": "text/x-python",
   "name": "python",
   "nbconvert_exporter": "python",
   "pygments_lexer": "ipython3",
   "version": "3.7.4"
  }
 },
 "nbformat": 4,
 "nbformat_minor": 2
}
