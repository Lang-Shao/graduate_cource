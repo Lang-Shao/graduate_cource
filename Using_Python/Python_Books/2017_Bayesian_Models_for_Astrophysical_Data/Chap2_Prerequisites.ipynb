{
 "cells": [
  {
   "cell_type": "markdown",
   "metadata": {},
   "source": [
    "Chap. 2 Prerequisites\n"
   ]
  },
  {
   "cell_type": "code",
   "execution_count": 1,
   "metadata": {},
   "outputs": [
    {
     "name": "stdout",
     "output_type": "stream",
     "text": [
      "                            OLS Regression Results                            \n",
      "==============================================================================\n",
      "Dep. Variable:                      y   R-squared:                       0.763\n",
      "Model:                            OLS   Adj. R-squared:                  0.711\n",
      "Method:                 Least Squares   F-statistic:                     14.51\n",
      "Date:                Fri, 24 May 2019   Prob (F-statistic):            0.00153\n",
      "Time:                        16:55:16   Log-Likelihood:                -28.579\n",
      "No. Observations:                  12   AIC:                             63.16\n",
      "Df Residuals:                       9   BIC:                             64.61\n",
      "Df Model:                           2                                         \n",
      "Covariance Type:            nonrobust                                         \n",
      "==============================================================================\n",
      "                 coef    std err          t      P>|t|      [0.025      0.975]\n",
      "------------------------------------------------------------------------------\n",
      "Intercept     38.8333      5.090      7.630      0.000      27.319      50.347\n",
      "x1           -14.5000      3.024     -4.795      0.001     -21.340      -7.660\n",
      "x2            -9.8750      1.852     -5.333      0.000     -14.064      -5.686\n",
      "==============================================================================\n",
      "Omnibus:                        0.687   Durbin-Watson:                   2.112\n",
      "Prob(Omnibus):                  0.709   Jarque-Bera (JB):                0.467\n",
      "Skew:                          -0.426   Prob(JB):                        0.792\n",
      "Kurtosis:                       2.545   Cond. No.                         16.5\n",
      "==============================================================================\n",
      "\n",
      "Warnings:\n",
      "[1] Standard Errors assume that the covariance matrix of the errors is correctly specified.\n"
     ]
    },
    {
     "name": "stderr",
     "output_type": "stream",
     "text": [
      "/usr/local/lib/python3.6/dist-packages/scipy/stats/stats.py:1416: UserWarning: kurtosistest only valid for n>=20 ... continuing anyway, n=12\n",
      "  \"anyway, n=%i\" % int(n))\n"
     ]
    }
   ],
   "source": [
    "#Code 2.3 Example of linear regression in Python.\n",
    "#==================================================\n",
    "import numpy as np\n",
    "import statsmodels.formula.api as smf\n",
    "\n",
    "\n",
    "# Data\n",
    "y   = np.array([13, 15, 9, 17, 8, 5, 19, 23, 10, 7, 10, 6])                   # continuous response variable\n",
    "x1 = np.array([1, 1, 1, 1, 1, 1, 0, 0, 0, 0, 0, 0])                                 # binary predictor\n",
    "x2 = np.array([1, 1, 1, 1, 2, 2, 2, 2, 3, 3, 3, 3])                                 # categorical predictor\n",
    " \n",
    "\n",
    "mydata = {}                                                                                      # create data dictionary\n",
    "mydata['x1'] = x1\n",
    "mydata['x2'] = x2\n",
    "mydata['y']   = y\n",
    " \n",
    "\n",
    "# Fit  using ordinary least squares\n",
    "results = smf.ols(formula = 'y ~ x1 + x2',  data = mydata).fit()\n",
    "\n",
    "\n",
    "# Output\n",
    "print(str(results.summary()))"
   ]
  },
  {
   "cell_type": "code",
   "execution_count": null,
   "metadata": {},
   "outputs": [],
   "source": []
  }
 ],
 "metadata": {
  "kernelspec": {
   "display_name": "Python 3",
   "language": "python",
   "name": "python3"
  },
  "language_info": {
   "codemirror_mode": {
    "name": "ipython",
    "version": 3
   },
   "file_extension": ".py",
   "mimetype": "text/x-python",
   "name": "python",
   "nbconvert_exporter": "python",
   "pygments_lexer": "ipython3",
   "version": "3.6.7"
  }
 },
 "nbformat": 4,
 "nbformat_minor": 2
}
