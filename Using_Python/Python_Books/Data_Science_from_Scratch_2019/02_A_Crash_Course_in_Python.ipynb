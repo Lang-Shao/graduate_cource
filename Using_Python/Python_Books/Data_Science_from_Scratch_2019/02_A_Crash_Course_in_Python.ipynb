{
 "cells": [
  {
   "cell_type": "code",
   "execution_count": 3,
   "metadata": {},
   "outputs": [
    {
     "data": {
      "text/plain": [
       "'Joel Grus'"
      ]
     },
     "execution_count": 3,
     "metadata": {},
     "output_type": "execute_result"
    }
   ],
   "source": [
    "first_name = \"Joel\"\n",
    "last_name = \"Grus\"\n",
    "\n",
    "full_name1 = first_name + \" \" + last_name  # string addition\n",
    "\n",
    "full_name2 = \"{0} {1}\".format(first_name, last_name) # string.format\n",
    "\n",
    "full_name3 = f\"{first_name} {last_name}\"  # f-string\n",
    "\n",
    "full_name3"
   ]
  },
  {
   "cell_type": "code",
   "execution_count": 22,
   "metadata": {},
   "outputs": [
    {
     "name": "stdout",
     "output_type": "stream",
     "text": [
      "[1, 2, 3, 4, 5, 6]\n",
      "[1, 2, 3, [4, 5, 6]]\n",
      "[1, 2, 3, 4, 5, 6]\n",
      "[1, 2, 3, 4]\n",
      "[1, 2, 3, [4, 5, 6]]\n",
      "[1, 2, 3, 4, 5, 6]\n"
     ]
    }
   ],
   "source": [
    "# modify list\n",
    "\n",
    "# concatenate a list with another\n",
    "x = [1, 2, 3]\n",
    "x.extend([4, 5, 6])\n",
    "print(x)\n",
    "\n",
    "# concatenate a list of list with another\n",
    "x = [1, 2, 3]\n",
    "x.extend([[4, 5, 6]])\n",
    "print(x)\n",
    "\n",
    "# using * to unpacking it to one list to concatenate with another\n",
    "x = [1, 2, 3]\n",
    "x.extend(*[[4, 5, 6]])\n",
    "print(x)\n",
    "\n",
    "# append one item at a time\n",
    "x = [1, 2, 3]\n",
    "x.append(4)\n",
    "print(x)\n",
    "\n",
    "# append one list at a time\n",
    "x = [1, 2, 3]\n",
    "x.append([4,5,6])\n",
    "print(x)\n",
    "\n",
    "# do not mofify list\n",
    "x = [1, 2, 3]\n",
    "y = x + [4, 5, 6]\n",
    "print(y)"
   ]
  },
  {
   "cell_type": "code",
   "execution_count": 23,
   "metadata": {},
   "outputs": [
    {
     "name": "stdout",
     "output_type": "stream",
     "text": [
      "i: 0\n",
      "i: 1\n",
      "i: 2\n",
      "i: 3\n",
      "i: 4\n",
      "i: 5\n",
      "i: 6\n",
      "i: 7\n",
      "i: 8\n",
      "i: 9\n"
     ]
    }
   ],
   "source": [
    "#One way to create generators is with functions and the yield operator:\n",
    "def generate_range(n):\n",
    "    i = 0\n",
    "    while i < n:\n",
    "        yield i # every call to yield produces a value of the generator\n",
    "        i += 1\n",
    "for i in generate_range(10):\n",
    "    print(f\"i: {i}\")\n"
   ]
  },
  {
   "cell_type": "code",
   "execution_count": 54,
   "metadata": {},
   "outputs": [],
   "source": [
    "#A second way to create generators is by using for comprehensions wrapped in parentheses:\n",
    "evens_below_20 = (i for i in generate_range(20) if i % 2 == 0)\n",
    "\n",
    "#Such a “generator comprehension” doesn’t do any work until you iterate over it (using for or next).\n",
    "#We can use this to build up elaborate data-processing pipelines:\n",
    "# None of these computations *does* anything until we iterate\n",
    "data = evens_below_20\n",
    "evens = (x for x in data if x % 2 == 0)\n",
    "even_squares = (x ** 2 for x in evens)\n",
    "even_squares_ending_in_six = (x for x in even_squares if x % 10 == 6)\n",
    "# and so on"
   ]
  },
  {
   "cell_type": "code",
   "execution_count": 55,
   "metadata": {},
   "outputs": [
    {
     "name": "stdout",
     "output_type": "stream",
     "text": [
      "[0, 2, 4, 6, 8, 10, 12, 14, 16, 18]\n",
      "[]\n",
      "[]\n",
      "[]\n"
     ]
    }
   ],
   "source": [
    "# can use only one of the following at a time\n",
    "print([a for a in data])\n",
    "print([a for a in evens])\n",
    "print([a for a in even_squares])\n",
    "print([a for a in even_squares_ending_in_six])"
   ]
  },
  {
   "cell_type": "code",
   "execution_count": null,
   "metadata": {},
   "outputs": [],
   "source": []
  }
 ],
 "metadata": {
  "kernelspec": {
   "display_name": "Python 3",
   "language": "python",
   "name": "python3"
  },
  "language_info": {
   "codemirror_mode": {
    "name": "ipython",
    "version": 3
   },
   "file_extension": ".py",
   "mimetype": "text/x-python",
   "name": "python",
   "nbconvert_exporter": "python",
   "pygments_lexer": "ipython3",
   "version": "3.7.3"
  }
 },
 "nbformat": 4,
 "nbformat_minor": 2
}
