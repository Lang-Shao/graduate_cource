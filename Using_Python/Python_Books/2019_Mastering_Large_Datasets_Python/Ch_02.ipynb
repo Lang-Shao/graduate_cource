{
 "cells": [
  {
   "cell_type": "code",
   "execution_count": 6,
   "metadata": {},
   "outputs": [
    {
     "name": "stdout",
     "output_type": "stream",
     "text": [
      "['(123) 456-7890', '(123) 456-7890', '(123) 456-7890', '(123) 456-7890']\n"
     ]
    }
   ],
   "source": [
    "import re\n",
    "\n",
    "phone_numbers = [\n",
    "    \"(123) 456-7890\",\n",
    "    \"1234567890\",\n",
    "    \"123.456.7890\",\n",
    "    \"+1 123 456-7890\"\n",
    "]\n",
    "\n",
    "new_numbers = []\n",
    "\n",
    "R = re.compile(r\"\\d\")\n",
    "\n",
    "for number in phone_numbers:\n",
    "    digits = R.findall(number)\n",
    "\n",
    "\n",
    "    area_code = \"\".join(digits[-10:-7])\n",
    "    first_3 = \"\".join(digits[-7:-4])\n",
    "    last_4 = \"\".join(digits[-4:len(digits)])\n",
    "\n",
    "    pretty_format = \"({}) {}-{}\".format(area_code,first_3,last_4)\n",
    "    new_numbers.append(pretty_format)\n",
    "\n",
    "print(new_numbers)"
   ]
  },
  {
   "cell_type": "code",
   "execution_count": 5,
   "metadata": {},
   "outputs": [
    {
     "name": "stdout",
     "output_type": "stream",
     "text": [
      "['(123) 456-7890', '(123) 456-7890', '(123) 456-7890', '(123) 456-7890']\n"
     ]
    }
   ],
   "source": [
    "import re\n",
    "\n",
    "class PhoneFormatter:\n",
    "    def __init__(self):\n",
    "    self.r = re.compile(r\"\\d\")\n",
    "\n",
    "    def pretty_format(self, phone_number):\n",
    "    phone_numbers = self.r.findall(phone_number)\n",
    "    area_code = \"\".join(phone_numbers[-10:-7])\n",
    "    first_3 = \"\".join(phone_numbers[-7:-4])\n",
    "    last_4 = \"\".join(phone_numbers[-4:len(phone_numbers)])\n",
    "    return \"({}) {}-{}\".format(area_code,\n",
    "                               first_3,\n",
    "                               last_4)\n",
    "phone_numbers = [\n",
    "  \"(123) 456-7890\",\n",
    "  \"1234567890\",\n",
    "  \"123.456.7890\",\n",
    "  \"+1 123 456-7890\"\n",
    "]\n",
    "\n",
    "P = PhoneFormatter ()\n",
    "print(list(map(P.pretty_format, phone_numbers)))"
   ]
  },
  {
   "cell_type": "markdown",
   "metadata": {},
   "source": [
    "The last line of our function uses the ordinal date representation, which is the date as the number of days since January 1, year 1. By incrementing this value and turning it into a date class, we can increase our date by one. Because our date class is calendar\n",
    "aware, it will automatically progress through the weeks, months, and years. It will even account for leap years."
   ]
  },
  {
   "cell_type": "code",
   "execution_count": 1,
   "metadata": {},
   "outputs": [],
   "source": [
    "from datetime import date\n",
    "\n",
    "def days_between(start, stop):\n",
    "    today = date(*start)\n",
    "    stop = date(*stop)\n",
    "    while today < stop:\n",
    "        datestr = today.strftime(\"%m-%d-%Y\")\n",
    "        yield \"http://jtwolohan.com/arch-rival-blog/\"+ datestr\n",
    "        today = date.fromordinal(today.toordinal()+1)"
   ]
  },
  {
   "cell_type": "markdown",
   "metadata": {},
   "source": [
    "https://www.geeksforgeeks.org/python-yield-keyword/\n",
    "\n",
    "yield is a keyword in Python that is used to return from a function without destroying the states of its local variable and when the function is called, the execution starts from the last yield statement. Any function that contains a yield keyword is termed as generator. Hence, yield is what makes a generator. \n",
    "\n",
    "https://www.askpython.com/python/python-yield-examples\n",
    "\n",
    "* Python yield keyword is used to create a generator function.\n",
    "* The yield keyword can be used only inside a function body.\n",
    "* When a function contains yield expression, it automatically becomes a generator function.\n",
    "* The generator function returns an Iterator known as a generator.\n",
    "* The generator controls the execution of the generator function.\n",
    "* When generator next() is called for the first time, the generator function starts its execution.\n",
    "* When the next() method is called for the generator, it executes the generator function to get the next value. The function is executed from where it has left off and doesn’t execute the complete function code.\n",
    "* The generator internally maintains the current state of the function and its variables, so that the next value is retrieved properly.\n",
    "* Generally, we use for-loop to extract all the values from the generator function and then process them one by one.\n",
    "* The generator function is beneficial when the function returns a huge amount of data. We can use the yield expression to get only a limited set of data, then process it and then get the next set of data."
   ]
  },
  {
   "cell_type": "code",
   "execution_count": 22,
   "metadata": {},
   "outputs": [
    {
     "name": "stdout",
     "output_type": "stream",
     "text": [
      "0\n",
      "1\n",
      "2\n"
     ]
    }
   ],
   "source": [
    "def simple_generator_function():\n",
    "    for num in range(3):\n",
    "        yield num\n",
    "for value in simple_generator_function():\n",
    "    print(value)"
   ]
  },
  {
   "cell_type": "code",
   "execution_count": 23,
   "metadata": {},
   "outputs": [
    {
     "data": {
      "text/plain": [
       "generator"
      ]
     },
     "execution_count": 23,
     "metadata": {},
     "output_type": "execute_result"
    }
   ],
   "source": [
    "type(simple_generator_function())"
   ]
  },
  {
   "cell_type": "code",
   "execution_count": 21,
   "metadata": {},
   "outputs": [
    {
     "data": {
      "text/plain": [
       "0"
      ]
     },
     "execution_count": 21,
     "metadata": {},
     "output_type": "execute_result"
    }
   ],
   "source": [
    "our_generator = simple_generator_function()\n",
    "next(our_generator)"
   ]
  },
  {
   "cell_type": "markdown",
   "metadata": {},
   "source": [
    "# Python yield send Example\n",
    "\n",
    "In the previous examples, the generator function is sending values to the caller. We can also send values to the generator function using the send() function.\n",
    "\n",
    "When send() function is called to start the generator, it must be called with None as the argument, because there is no yield expression that could receive the value. Otherwise, we will get TypeError: can’t send non-None value to a just-started generator."
   ]
  },
  {
   "cell_type": "code",
   "execution_count": 24,
   "metadata": {},
   "outputs": [
    {
     "name": "stdout",
     "output_type": "stream",
     "text": [
      "<class 'generator'>\n",
      "Processing 1\n",
      "Processing 2\n",
      "Processing 3\n",
      "Processing 4\n"
     ]
    }
   ],
   "source": [
    "def processor():\n",
    "    while True:\n",
    "        value = yield\n",
    "        print(f'Processing {value}')\n",
    " \n",
    " \n",
    "data_processor = processor()\n",
    " \n",
    "print(type(data_processor))\n",
    " \n",
    "data_processor.send(None)\n",
    " \n",
    "for x in range(1, 5):\n",
    "    data_processor.send(x)"
   ]
  },
  {
   "cell_type": "code",
   "execution_count": 22,
   "metadata": {},
   "outputs": [
    {
     "data": {
      "text/plain": [
       "['http://jtwolohan.com/arch-rival-blog/02-25-2020',\n",
       " 'http://jtwolohan.com/arch-rival-blog/02-26-2020',\n",
       " 'http://jtwolohan.com/arch-rival-blog/02-27-2020',\n",
       " 'http://jtwolohan.com/arch-rival-blog/02-28-2020',\n",
       " 'http://jtwolohan.com/arch-rival-blog/02-29-2020']"
      ]
     },
     "execution_count": 22,
     "metadata": {},
     "output_type": "execute_result"
    }
   ],
   "source": [
    "list(days_between((2020,2,25),(2020,3,1)))"
   ]
  },
  {
   "cell_type": "code",
   "execution_count": 2,
   "metadata": {},
   "outputs": [
    {
     "data": {
      "text/plain": [
       "datetime.date(2020, 3, 1)"
      ]
     },
     "execution_count": 2,
     "metadata": {},
     "output_type": "execute_result"
    }
   ],
   "source": [
    "a = date(2020,2,29)\n",
    "date.fromordinal(a.toordinal()+1)"
   ]
  },
  {
   "cell_type": "code",
   "execution_count": 36,
   "metadata": {},
   "outputs": [
    {
     "data": {
      "text/plain": [
       "'2020'"
      ]
     },
     "execution_count": 36,
     "metadata": {},
     "output_type": "execute_result"
    }
   ],
   "source": [
    "a.strftime(\"%Y\")"
   ]
  },
  {
   "cell_type": "code",
   "execution_count": 39,
   "metadata": {},
   "outputs": [
    {
     "data": {
      "text/plain": [
       "'20'"
      ]
     },
     "execution_count": 39,
     "metadata": {},
     "output_type": "execute_result"
    }
   ],
   "source": [
    "a.strftime(\"%y\")"
   ]
  },
  {
   "cell_type": "code",
   "execution_count": 7,
   "metadata": {},
   "outputs": [
    {
     "data": {
      "text/plain": [
       "1"
      ]
     },
     "execution_count": 7,
     "metadata": {},
     "output_type": "execute_result"
    }
   ],
   "source": [
    "a = date(1,1,1)\n",
    "a.toordinal()"
   ]
  },
  {
   "cell_type": "code",
   "execution_count": 9,
   "metadata": {},
   "outputs": [
    {
     "data": {
      "text/plain": [
       "datetime.date(2020, 3, 3)"
      ]
     },
     "execution_count": 9,
     "metadata": {},
     "output_type": "execute_result"
    }
   ],
   "source": [
    "from datetime import date\n",
    "date.fromordinal(date(2020,1,18).toordinal()+45)"
   ]
  },
  {
   "cell_type": "code",
   "execution_count": 17,
   "metadata": {},
   "outputs": [
    {
     "data": {
      "text/plain": [
       "4"
      ]
     },
     "execution_count": 17,
     "metadata": {},
     "output_type": "execute_result"
    }
   ],
   "source": [
    "import os\n",
    "os.cpu_count()"
   ]
  },
  {
   "cell_type": "markdown",
   "metadata": {},
   "source": [
    "Using Parallel processing (most of the links are not available, so the test using the webpages shown in the book is not working, we could test another single webpage over and over to check the outcome; instead of using 10 years' data, we could use 1 year which would take about 5 mins in parallel processing)"
   ]
  },
  {
   "cell_type": "code",
   "execution_count": 21,
   "metadata": {},
   "outputs": [
    {
     "name": "stdout",
     "output_type": "stream",
     "text": [
      "Finished in 225.9467 sec\n"
     ]
    }
   ],
   "source": [
    "from datetime import date\n",
    "import time\n",
    "from urllib import request\n",
    "from multiprocessing import Pool\n",
    "\n",
    "def days_between(start,stop):\n",
    "    today = date(*start)\n",
    "    stop = date(*stop)\n",
    "    while today < stop:\n",
    "        datestr = today.strftime(\"%m-%d-%Y\")\n",
    "        #yield \"http://jtwolohan.com/arch-rival-blog/\"+datestr\n",
    "        yield \"https://arxiv.org\"\n",
    "        today = date.fromordinal(today.toordinal()+1)\n",
    "        \n",
    "def get_url(path):\n",
    "    return request.urlopen(path).read()\n",
    "\n",
    "start_time=time.perf_counter()\n",
    "\n",
    "with Pool() as P:\n",
    "    blog_posts = list(P.map(get_url,days_between((2000,1,1),(2001,1,1))))\n",
    "\n",
    "end_time=time.perf_counter()\n",
    "run_time=end_time-start_time\n",
    "print(f\"Finished in {run_time:.4f} sec\")"
   ]
  },
  {
   "cell_type": "markdown",
   "metadata": {},
   "source": [
    "NO parallel processing"
   ]
  },
  {
   "cell_type": "code",
   "execution_count": 22,
   "metadata": {},
   "outputs": [
    {
     "name": "stdout",
     "output_type": "stream",
     "text": [
      "Finished in 1122.1130 sec\n"
     ]
    }
   ],
   "source": [
    "from datetime import date\n",
    "import time\n",
    "from urllib import request\n",
    "\n",
    "def days_between(start,stop):\n",
    "    today = date(*start)\n",
    "    stop = date(*stop)\n",
    "    while today < stop:\n",
    "        datestr = today.strftime(\"%m-%d-%Y\")\n",
    "        #yield \"http://jtwolohan.com/arch-rival-blog/\"+datestr\n",
    "        yield \"https://arxiv.org\"\n",
    "        today = date.fromordinal(today.toordinal()+1)\n",
    "        \n",
    "def get_url(path):\n",
    "    return request.urlopen(path).read()\n",
    "\n",
    "\n",
    "start_time=time.perf_counter()\n",
    "\n",
    "blog_posts = list(map(get_url,days_between((2000,1,1),(2001,1,1))))\n",
    "\n",
    "end_time=time.perf_counter()\n",
    "run_time=end_time-start_time\n",
    "print(f\"Finished in {run_time:.4f} sec\")"
   ]
  },
  {
   "cell_type": "markdown",
   "metadata": {},
   "source": [
    "All that said, even though Python may not complete the problems in order, it still remembers the order in which it was supposed to do them. Indeed, our map returns in the exact order we would expect, even if it doesn't process in that order. To demonstrate that, we can run the following code:"
   ]
  },
  {
   "cell_type": "code",
   "execution_count": 30,
   "metadata": {},
   "outputs": [
    {
     "name": "stdout",
     "output_type": "stream",
     "text": [
      "0\n",
      "1\n",
      "4\n",
      "5\n",
      "6\n",
      "7\n",
      "8\n",
      "9\n",
      "2\n",
      "3\n"
     ]
    }
   ],
   "source": [
    "with Pool() as P:\n",
    "    P.map(print,range(10))"
   ]
  },
  {
   "cell_type": "code",
   "execution_count": 31,
   "metadata": {},
   "outputs": [
    {
     "name": "stdout",
     "output_type": "stream",
     "text": [
      "3\n",
      "2\n",
      "0\n",
      "1\n",
      "5\n",
      "7\n",
      "4\n",
      "6\n",
      "9\n",
      "8\n"
     ]
    }
   ],
   "source": [
    "def print_and_return(x):\n",
    "    print(x); return x\n",
    "with Pool() as P:\n",
    "    returned = P.map(print_and_return, range(10))"
   ]
  },
  {
   "cell_type": "code",
   "execution_count": 32,
   "metadata": {},
   "outputs": [
    {
     "data": {
      "text/plain": [
       "[0, 1, 2, 3, 4, 5, 6, 7, 8, 9]"
      ]
     },
     "execution_count": 32,
     "metadata": {},
     "output_type": "execute_result"
    }
   ],
   "source": [
    "returned"
   ]
  },
  {
   "cell_type": "markdown",
   "metadata": {},
   "source": [
    "The printed output won't be ordered, but the list that's returned will be. The printed output shows the order in which the chunks were worked; the list output shows the data structure that was returned. We can see that even though Python works the problem in the \"wrong\" order, it still orders the results properly."
   ]
  },
  {
   "cell_type": "code",
   "execution_count": 18,
   "metadata": {},
   "outputs": [
    {
     "name": "stdout",
     "output_type": "stream",
     "text": [
      "fizz\n",
      "fizz\n",
      "buzz\n",
      "fizz\n",
      "fizz\n",
      "buzz\n",
      "fizz\n",
      "fizz\n",
      "buzz\n",
      "fizz\n",
      "fizz\n",
      "buzz\n",
      "fizz\n",
      "fizz\n",
      "buzz\n",
      "fizz\n",
      "fizz\n",
      "buzz\n",
      "fizz\n",
      "fizz\n",
      "buzz\n"
     ]
    }
   ],
   "source": [
    "class FizzBuzzer:\n",
    "    def __init__(self):\n",
    "        self.n = 0\n",
    "    def foo(self,_):\n",
    "        self.n += 1\n",
    "        if (self.n % 3) == 0:\n",
    "            x = \"buzz\"\n",
    "        else: x = \"fizz\"\n",
    "        print(x)\n",
    "        return x\n",
    "\n",
    "FB = FizzBuzzer()\n",
    "\n",
    "for i in range(21):\n",
    "    FB.foo(i)"
   ]
  },
  {
   "cell_type": "code",
   "execution_count": 20,
   "metadata": {},
   "outputs": [
    {
     "name": "stdout",
     "output_type": "stream",
     "text": [
      "fizz\n",
      "fizz\n",
      "fizz\n",
      "fizz\n",
      "fizz\n",
      "fizz\n",
      "fizz\n",
      "fizz\n",
      "fizz\n",
      "fizz\n",
      "fizz\n",
      "fizz\n",
      "fizz\n",
      "fizz\n",
      "fizz\n",
      "fizz\n",
      "fizz\n",
      "fizz\n",
      "fizz\n",
      "fizz\n",
      "fizz\n"
     ]
    }
   ],
   "source": [
    "from multiprocessing import Pool\n",
    "FB = FizzBuzzer()\n",
    "with Pool() as P:\n",
    "    P.map(FB.foo, range(21))"
   ]
  },
  {
   "cell_type": "markdown",
   "metadata": {},
   "source": [
    "The following test (with FB.n = 2) does not show the same result (all buzz) expected in the book, I don't know why yet."
   ]
  },
  {
   "cell_type": "code",
   "execution_count": 19,
   "metadata": {},
   "outputs": [
    {
     "name": "stdout",
     "output_type": "stream",
     "text": [
      "buzz\n",
      "buzz\n",
      "buzz\n",
      "buzz\n",
      "fizz\n",
      "fizz\n",
      "buzz\n",
      "buzz\n",
      "fizz\n",
      "fizz\n",
      "fizz\n",
      "buzz\n",
      "buzz\n",
      "fizz\n",
      "buzz\n",
      "buzz\n",
      "fizz\n",
      "fizz\n",
      "buzz\n",
      "fizz\n",
      "fizz\n"
     ]
    }
   ],
   "source": [
    "from multiprocessing import Pool\n",
    "FB = FizzBuzzer()\n",
    "FB.n = 2\n",
    "with Pool() as P:\n",
    "    P.map(FB.foo, range(21))"
   ]
  },
  {
   "cell_type": "markdown",
   "metadata": {},
   "source": [
    "What can we do instead? Often, situations like this simply require us to rethink\n",
    "the problem. A common solution is to take internal state and make it an external\n",
    "variable. For example, we could use the numbers generated by range instead of the\n",
    "internal values stored by FB. We could then also replace the class with a simple function, like this:"
   ]
  },
  {
   "cell_type": "code",
   "execution_count": 17,
   "metadata": {},
   "outputs": [
    {
     "name": "stdout",
     "output_type": "stream",
     "text": [
      "fizz\n",
      "buzz\n",
      "fizz\n",
      "fizz\n",
      "fizz\n",
      "buzz\n",
      "buzz\n",
      "fizz\n",
      "fizz\n",
      "buzz\n",
      "fizz\n",
      "fizz\n",
      "buzz\n",
      "fizz\n",
      "buzz\n",
      "fizz\n",
      "fizz\n",
      "buzz\n",
      "fizz\n",
      "fizz\n",
      "fizz\n",
      "['fizz', 'fizz', 'buzz', 'fizz', 'fizz', 'buzz', 'fizz', 'fizz', 'buzz', 'fizz', 'fizz', 'buzz', 'fizz', 'fizz', 'buzz', 'fizz', 'fizz', 'buzz', 'fizz', 'fizz', 'buzz']\n"
     ]
    }
   ],
   "source": [
    "def foo(n):\n",
    "    if (n % 3) == 0:\n",
    "        x = \"buzz\"\n",
    "    else: x = \"fizz\"\n",
    "    print(x)\n",
    "    return x\n",
    "    \n",
    "with Pool() as P:\n",
    "    print(P.map(foo, range(1,22)))"
   ]
  },
  {
   "cell_type": "markdown",
   "metadata": {},
   "source": [
    "This function does exactly what the .foo method does, but it relies on the value of\n",
    "an external variable n instead of an internal state self.n. We can then apply this to\n",
    "the numbers generated by range with a parallel map and get our results back, just\n",
    "like we expect."
   ]
  },
  {
   "cell_type": "markdown",
   "metadata": {},
   "source": [
    "When you run this, note that the printed values don't return in the correct order.\n",
    "That's because, as we noted in the previous section, the processors are grabbing the\n",
    "first available job off the stack and completing it as fast as they can. Sometimes, a fizz\n",
    "job will go slower than a buzz, and two buzzes will be printed in a row. Other times, a\n",
    "buzz will take longer, and we'll see three or more fizzes in a row. The resulting data,\n",
    "though, will be in the proper order: fizz, fizz, buzz . . . fizz, fizz, buzz . . . fizz, fizz, buzz."
   ]
  },
  {
   "cell_type": "code",
   "execution_count": null,
   "metadata": {},
   "outputs": [],
   "source": []
  }
 ],
 "metadata": {
  "kernelspec": {
   "display_name": "Python 3",
   "language": "python",
   "name": "python3"
  },
  "language_info": {
   "codemirror_mode": {
    "name": "ipython",
    "version": 3
   },
   "file_extension": ".py",
   "mimetype": "text/x-python",
   "name": "python",
   "nbconvert_exporter": "python",
   "pygments_lexer": "ipython3",
   "version": "3.7.4"
  }
 },
 "nbformat": 4,
 "nbformat_minor": 2
}
