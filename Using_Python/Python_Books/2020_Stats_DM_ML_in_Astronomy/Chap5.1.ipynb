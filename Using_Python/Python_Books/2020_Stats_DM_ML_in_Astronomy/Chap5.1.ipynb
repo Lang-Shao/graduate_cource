{
 "cells": [
  {
   "cell_type": "markdown",
   "metadata": {},
   "source": [
    "According to (3.29), p% quantile, $q_p$:\n",
    "\n",
    "$\\frac{p}{100} = \\int_{-\\infty}^{q_p} h(x) {\\rm d}x$  \n",
    "\n",
    "Here, $h(x)$ has been given by (5.5):\n",
    "\n",
    "$p\\% = \\int_t^{\\tau_p}p(\\tau|t) {\\rm d} \\tau = \\int_t^{\\tau_p} \\frac{t}{\\tau^2}{\\rm d} \\tau = -\\frac{t}{\\tau}|_t^{\\tau_p} = 1-\\frac{t}{\\tau_p}$\n",
    "\n",
    "Then, median is:\n",
    "\n",
    "$1-\\frac{t}{\\tau_p} = \\frac{1}{2}$ =>  $\\tau_{50} = 2t$\n",
    "\n",
    "\n",
    "For example, 95% confidence region for $\\tau$:\n",
    "\n",
    "$1-\\frac{t}{\\tau_1} = 2.5\\%$ => $\\tau_1=1.026\\,t$ \n",
    "\n",
    "$1-\\frac{t}{\\tau_2} = 97.5\\%$ => $\\tau_1=39.99\\, t$ \n"
   ]
  },
  {
   "cell_type": "code",
   "execution_count": null,
   "metadata": {},
   "outputs": [],
   "source": []
  }
 ],
 "metadata": {
  "kernelspec": {
   "display_name": "Python 3",
   "language": "python",
   "name": "python3"
  },
  "language_info": {
   "codemirror_mode": {
    "name": "ipython",
    "version": 3
   },
   "file_extension": ".py",
   "mimetype": "text/x-python",
   "name": "python",
   "nbconvert_exporter": "python",
   "pygments_lexer": "ipython3",
   "version": "3.7.7"
  }
 },
 "nbformat": 4,
 "nbformat_minor": 4
}
