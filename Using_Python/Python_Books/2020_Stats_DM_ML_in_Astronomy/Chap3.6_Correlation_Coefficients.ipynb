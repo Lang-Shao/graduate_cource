{
 "cells": [
  {
   "cell_type": "code",
   "execution_count": 55,
   "metadata": {},
   "outputs": [
    {
     "data": {
      "text/plain": [
       "(-0.025248052116698005, 0.4251362881592693)"
      ]
     },
     "execution_count": 55,
     "metadata": {},
     "output_type": "execute_result"
    }
   ],
   "source": [
    "import numpy as np\n",
    "from scipy import stats\n",
    "x, y = np.random.random((2,1000))\n",
    "core_coeff, p_value = stats.pearsonr(x,y); core_coeff, p_value"
   ]
  },
  {
   "cell_type": "code",
   "execution_count": 134,
   "metadata": {},
   "outputs": [
    {
     "data": {
      "text/plain": [
       "(0.061553502991354536, 0.05166632894537455)"
      ]
     },
     "execution_count": 134,
     "metadata": {},
     "output_type": "execute_result"
    }
   ],
   "source": [
    "import numpy as np\n",
    "from scipy import stats\n",
    "from scipy import optimize\n",
    "x, y = np.random.random((2,1000))\n",
    "core_coeff, p_value = stats.pearsonr(x,y); core_coeff, p_value"
   ]
  },
  {
   "cell_type": "code",
   "execution_count": 119,
   "metadata": {},
   "outputs": [
    {
     "name": "stdout",
     "output_type": "stream",
     "text": [
      "0.8332159116204316\n"
     ]
    }
   ],
   "source": [
    "r, N = core_coeff, 1000\n",
    "t = r*((N-2)/(1-r**2))**0.5 \n",
    "if r >= 0:\n",
    "    # probability that t>=t_current if r>=0\n",
    "    print(1-(stats.t(N-2).cdf(t)-0.5)/0.5)\n",
    "else:\n",
    "    # probability that t<=t_current if r<=\n",
    "    print(stats.t(N-2).cdf(t)/0.5)"
   ]
  },
  {
   "cell_type": "code",
   "execution_count": 132,
   "metadata": {},
   "outputs": [
    {
     "name": "stdout",
     "output_type": "stream",
     "text": [
      "t = 2.9345009253812004\n",
      "p = 0.018867726438400068\n"
     ]
    }
   ],
   "source": [
    "r, N = 0.72, 10\n",
    "t = r*((N-2)/(1-r**2))**0.5 \n",
    "print('t =',t)\n",
    "if r >= 0:\n",
    "    # probability that t>=t_current if r>=0\n",
    "    print('p =',1-(stats.t(N-2).cdf(t)-0.5)/0.5)\n",
    "else:\n",
    "    # probability that t<=t_current if r<=\n",
    "    print('p =',stats.t(N-2).cdf(t)/0.5)"
   ]
  },
  {
   "cell_type": "code",
   "execution_count": 145,
   "metadata": {},
   "outputs": [
    {
     "name": "stdout",
     "output_type": "stream",
     "text": [
      "0.44869879264711876\n"
     ]
    }
   ],
   "source": [
    "N = 32 # 5s/ 0.064s\n",
    "f = lambda t: 1-(stats.t(N-2).cdf(t)-0.5)/0.5 - 0.01 # p = 1%\n",
    "t = optimize.newton(f, 1) # t corresponding to p = 1%\n",
    "f1 = lambda r: r*((N-2)/(1-r**2))**0.5 - t\n",
    "r = optimize.newton(f1, 0.5) # r corresponding to p = 1%\n",
    "print(r)"
   ]
  },
  {
   "cell_type": "code",
   "execution_count": 144,
   "metadata": {},
   "outputs": [
    {
     "data": {
      "text/plain": [
       "31.25"
      ]
     },
     "execution_count": 144,
     "metadata": {},
     "output_type": "execute_result"
    }
   ],
   "source": [
    "2 / 0.064"
   ]
  },
  {
   "cell_type": "code",
   "execution_count": 75,
   "metadata": {},
   "outputs": [
    {
     "data": {
      "text/plain": [
       "(0.02225794625794626, 0.4820153484094122)"
      ]
     },
     "execution_count": 75,
     "metadata": {},
     "output_type": "execute_result"
    }
   ],
   "source": [
    "import numpy as np\n",
    "from scipy import stats\n",
    "x, y = np.random.random((2,1000))\n",
    "rho, p_value = stats.spearmanr(x,y); rho, p_value"
   ]
  },
  {
   "cell_type": "code",
   "execution_count": 68,
   "metadata": {},
   "outputs": [
    {
     "data": {
      "text/plain": [
       "(-0.00962962962962963, 0.6484076806685557)"
      ]
     },
     "execution_count": 68,
     "metadata": {},
     "output_type": "execute_result"
    }
   ],
   "source": [
    "import numpy as np\n",
    "from scipy import stats\n",
    "x, y = np.random.random((2,1000))\n",
    "tau, p_value = stats.kendalltau(x,y); tau, p_value"
   ]
  },
  {
   "cell_type": "code",
   "execution_count": null,
   "metadata": {},
   "outputs": [],
   "source": []
  }
 ],
 "metadata": {
  "kernelspec": {
   "display_name": "Python 3",
   "language": "python",
   "name": "python3"
  },
  "language_info": {
   "codemirror_mode": {
    "name": "ipython",
    "version": 3
   },
   "file_extension": ".py",
   "mimetype": "text/x-python",
   "name": "python",
   "nbconvert_exporter": "python",
   "pygments_lexer": "ipython3",
   "version": "3.8.3"
  }
 },
 "nbformat": 4,
 "nbformat_minor": 4
}
