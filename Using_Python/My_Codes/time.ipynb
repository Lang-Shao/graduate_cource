{
 "cells": [
  {
   "cell_type": "code",
   "execution_count": 27,
   "metadata": {},
   "outputs": [],
   "source": [
    "import numpy as np\n",
    "from astropy.time import Time"
   ]
  },
  {
   "cell_type": "code",
   "execution_count": 35,
   "metadata": {},
   "outputs": [],
   "source": [
    "def met2utc_shao(myMET):\n",
    "    UTC0 = Time('2001-01-01',format='iso',scale='utc')\n",
    "    if isinstance(myMET,(list,tuple,np.ndarray)):\n",
    "        myMETsize = len(myMET)\n",
    "        utc_tt_diff = np.zeros(myMETsize)\n",
    "        #from Fermi MET to UTC\n",
    "        # 4 leap seconds after 2007:\n",
    "        #'2008-12-31 23:59:60' MET=252460801.000000\n",
    "        #'2012-06-30 23:59:60' MET=362793602.000000\n",
    "        #'2015-06-30 23:59:60' MET=457401603.000000\n",
    "        #'2016-12-31 23:59:60' MET=504921604.000000\n",
    "        for i in range(myMETsize):\n",
    "            if myMET[i] < 237693816.736: # valid data start at 2008-07-14 02:03:35.737'\n",
    "                print('**** ERROR: One of the MET TIME (array) is not valid!!! ****')\n",
    "            elif myMET[i] <= 252460801.000:\n",
    "                utc_tt_diff[i] = 33.0\n",
    "            elif myMET[i] <= 362793602.000:\n",
    "                utc_tt_diff[i] = 34.0\n",
    "            elif myMET[i] <= 457401603.000:\n",
    "                utc_tt_diff[i] = 35.0\n",
    "            elif myMET[i] <= 504921604.000:\n",
    "                utc_tt_diff[i] = 36.0\n",
    "            else:\n",
    "                utc_tt_diff[i] = 37.0\n",
    "        myTimeGPS = Time(np.array(myMET)+UTC0.gps-utc_tt_diff,format='gps')\n",
    "        return myTimeGPS.iso\n",
    "    elif np.isscalar(myMET):\n",
    "        if myMET <= 237693816.736: # valid data start at 2008-07-14 02:03:35.737'\n",
    "            print('**** ERROR: the scalar MET is not valid!!! ****')\n",
    "        elif myMET <= 252460801.000:\n",
    "            utc_tt_diff = 33.0\n",
    "        elif myMET <= 362793602.000:\n",
    "            utc_tt_diff = 34.0\n",
    "        elif myMET <= 457401603.000:\n",
    "            utc_tt_diff = 35.0\n",
    "        elif myMET <= 504921604.000:\n",
    "            utc_tt_diff = 36.0\n",
    "        else:\n",
    "            utc_tt_diff = 37.0\n",
    "        myTimeGPS = Time(myMET+UTC0.gps-utc_tt_diff,format='gps')\n",
    "        return myTimeGPS.iso\n",
    "    else:\n",
    "        print('Check your input format!')\n",
    "        return None"
   ]
  },
  {
   "cell_type": "code",
   "execution_count": 36,
   "metadata": {},
   "outputs": [
    {
     "data": {
      "text/plain": [
       "'2008-07-14 02:03:35.737'"
      ]
     },
     "execution_count": 36,
     "metadata": {},
     "output_type": "execute_result"
    }
   ],
   "source": [
    "met2utc_shao(237693816.736714) # correct"
   ]
  },
  {
   "cell_type": "code",
   "execution_count": 38,
   "metadata": {},
   "outputs": [
    {
     "data": {
      "text/plain": [
       "'2008-07-14 02:04:12.053'"
      ]
     },
     "execution_count": 38,
     "metadata": {},
     "output_type": "execute_result"
    }
   ],
   "source": [
    "met2utc_shao(237693853.053366)"
   ]
  },
  {
   "cell_type": "code",
   "execution_count": null,
   "metadata": {},
   "outputs": [],
   "source": [
    "# Time in Fermi Data Analysis\n",
    "# https://fermi.gsfc.nasa.gov/ssc/data/analysis/documentation/Cicerone/Cicerone_Data/Time_in_ScienceTools.html\n",
    "# https://heasarc.gsfc.nasa.gov/cgi-bin/Tools/xTime/xTime.pl"
   ]
  }
 ],
 "metadata": {
  "kernelspec": {
   "display_name": "Python 3",
   "language": "python",
   "name": "python3"
  },
  "language_info": {
   "codemirror_mode": {
    "name": "ipython",
    "version": 3
   },
   "file_extension": ".py",
   "mimetype": "text/x-python",
   "name": "python",
   "nbconvert_exporter": "python",
   "pygments_lexer": "ipython3",
   "version": "3.6.8"
  }
 },
 "nbformat": 4,
 "nbformat_minor": 2
}
