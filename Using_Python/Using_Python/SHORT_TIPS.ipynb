{
 "cells": [
  {
   "cell_type": "markdown",
   "metadata": {},
   "source": [
    "# print"
   ]
  },
  {
   "cell_type": "code",
   "execution_count": 8,
   "metadata": {},
   "outputs": [
    {
     "name": "stdout",
     "output_type": "stream",
     "text": [
      "HE--LLO!!!\n"
     ]
    }
   ],
   "source": [
    "print(\"HE\", \"LLO\", sep=\"--\",end=\"!!!\\n\")"
   ]
  },
  {
   "cell_type": "markdown",
   "metadata": {},
   "source": [
    "# string.format()\n",
    "\n",
    "#[align][width][.precision][type]\n",
    "\n",
    "align       ::=  \"<\" | \">\" | \"=\" | \"^\"\n",
    "\n",
    "width       ::=  integer\n",
    "\n",
    "precision   ::=  integer\n",
    "\n",
    "type        ::=  \"b\" | \"c\" | \"d\" | \"e\" | \"E\" | \"f\" | \"F\" | \"g\" | \"G\" | \"n\" | \"o\" | \"s\" | \"x\" | \"X\" | \"%\""
   ]
  },
  {
   "cell_type": "code",
   "execution_count": 11,
   "metadata": {},
   "outputs": [
    {
     "data": {
      "text/plain": [
       "'A|A| 11.00|  11|11  |---121----|5.52e+01|$$$$$$that|that******'"
      ]
     },
     "execution_count": 11,
     "metadata": {},
     "output_type": "execute_result"
    }
   ],
   "source": [
    "a=\"A\"\n",
    "b=11\n",
    "c=55.23456\n",
    "\n",
    "s=\"{0}|{0}|{1:6.2f}|{1:>4}|{1:<4}|{2:-^10}|{3:<7.2e}|{this_string:$>10}|{this_string:*<10}\"\n",
    "s.format(a, b, b*b, c,this_string='that')"
   ]
  },
  {
   "cell_type": "markdown",
   "metadata": {},
   "source": [
    "# f-strings\n",
    "Added by Python 3.6 to format strings in a more concise way"
   ]
  },
  {
   "cell_type": "code",
   "execution_count": 18,
   "metadata": {},
   "outputs": [
    {
     "data": {
      "text/plain": [
       "'Her name is --Seppe--- and she is 20.00 years old.'"
      ]
     },
     "execution_count": 18,
     "metadata": {},
     "output_type": "execute_result"
    }
   ],
   "source": [
    "name=\"Seppe\"\n",
    "age=20\n",
    "f'Her name is {name:-^10} and she is {age:5.2f} years old.'"
   ]
  },
  {
   "cell_type": "code",
   "execution_count": null,
   "metadata": {},
   "outputs": [],
   "source": []
  }
 ],
 "metadata": {
  "kernelspec": {
   "display_name": "Python 3",
   "language": "python",
   "name": "python3"
  },
  "language_info": {
   "codemirror_mode": {
    "name": "ipython",
    "version": 3
   },
   "file_extension": ".py",
   "mimetype": "text/x-python",
   "name": "python",
   "nbconvert_exporter": "python",
   "pygments_lexer": "ipython3",
   "version": "3.7.3"
  }
 },
 "nbformat": 4,
 "nbformat_minor": 2
}
