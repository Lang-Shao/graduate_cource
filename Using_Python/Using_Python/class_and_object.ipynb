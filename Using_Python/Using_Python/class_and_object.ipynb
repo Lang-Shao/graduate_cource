{
 "cells": [
  {
   "cell_type": "code",
   "execution_count": 9,
   "metadata": {},
   "outputs": [],
   "source": [
    "class MyClass:\n",
    "    def __init__(self, arg_1, arg_2, arg_3, arg_4):\n",
    "        self.x, self._y, self._z, self.__z = arg_1, arg_2, arg_3, arg_4\n",
    "    \n",
    "    @property\n",
    "    def z(self):\n",
    "        return self.__z\n",
    "    \n",
    "    @z.setter\n",
    "    def z(self, value):\n",
    "        self.__z = value\n",
    "\n",
    "b = MyClass(2, 4, 8, 10)"
   ]
  },
  {
   "cell_type": "code",
   "execution_count": 15,
   "metadata": {},
   "outputs": [],
   "source": [
    "b.z =16"
   ]
  },
  {
   "cell_type": "code",
   "execution_count": 19,
   "metadata": {},
   "outputs": [],
   "source": [
    "b.t =1"
   ]
  },
  {
   "cell_type": "code",
   "execution_count": 21,
   "metadata": {},
   "outputs": [
    {
     "data": {
      "text/plain": [
       "{'x': 1, '_y': 4, '_z': 8, '_MyClass__z': 16, 't': 1}"
      ]
     },
     "execution_count": 21,
     "metadata": {},
     "output_type": "execute_result"
    }
   ],
   "source": [
    "vars(b)"
   ]
  },
  {
   "cell_type": "code",
   "execution_count": 71,
   "metadata": {},
   "outputs": [
    {
     "name": "stdout",
     "output_type": "stream",
     "text": [
      "The name is: Fruitas\n",
      "The name is: Fruitas\n"
     ]
    }
   ],
   "source": [
    "# https://pythonbasics.org/classmethod/\n",
    "\n",
    "class Fruit:\n",
    "    name = 'Fruitas'\n",
    "    \n",
    "    @classmethod\n",
    "    def printName(cls):\n",
    "        print('The name is:', cls.name)\n",
    "        \n",
    "Fruit.printName()\n",
    "Fruit().printName()"
   ]
  },
  {
   "cell_type": "code",
   "execution_count": 72,
   "metadata": {},
   "outputs": [
    {
     "name": "stdout",
     "output_type": "stream",
     "text": [
      "The name is: Fruitas1\n",
      "The name is: Fruitas1\n"
     ]
    }
   ],
   "source": [
    "# Alternative & unpopular usage\n",
    "class Fruit1:\n",
    "    name = 'Fruitas1'\n",
    "    \n",
    "    def printName(cls):\n",
    "        print('The name is:', cls.name)\n",
    "\n",
    "Fruit1.printAge = classmethod(Fruit1.printName)\n",
    "Fruit1.printAge()\n",
    "Fruit1().printAge()"
   ]
  },
  {
   "cell_type": "code",
   "execution_count": 73,
   "metadata": {},
   "outputs": [
    {
     "name": "stdout",
     "output_type": "stream",
     "text": [
      "The name is: Fruitas\n",
      "The name is: Fruitas\n",
      "The name is: Apple\n",
      "The name is: Apple\n"
     ]
    }
   ],
   "source": [
    "apple = Fruit()\n",
    "apple.name = \"Apple\"\n",
    "Fruit.printName()\n",
    "apple.printName()\n",
    "Fruit.name = \"Apple\"\n",
    "Fruit.printName()\n",
    "apple.printName()"
   ]
  },
  {
   "cell_type": "code",
   "execution_count": 75,
   "metadata": {},
   "outputs": [
    {
     "name": "stdout",
     "output_type": "stream",
     "text": [
      "Hi Kido\n",
      "Helllo...\n",
      "Hi Princess\n",
      "Helllo...\n"
     ]
    }
   ],
   "source": [
    "# https://stackoverflow.com/questions/12179271/meaning-of-classmethod-and-staticmethod-for-beginner\n",
    "# 34:\n",
    "# One would use @classmethod when he/she would want to change the behaviour of the method \n",
    "# based on which subclass is calling the method. \n",
    "# remember we have a reference to the calling class in a class method.\n",
    "# While using static you would want the behaviour to remain unchanged across subclasses\n",
    "\n",
    "class Hero:\n",
    "\n",
    "    @staticmethod\n",
    "    def say_hello():\n",
    "        print(\"Helllo...\")\n",
    "\n",
    "    @classmethod\n",
    "    def say_class_hello(cls):\n",
    "        if(cls.__name__==\"HeroSon\"):\n",
    "            print(\"Hi Kido\")\n",
    "        elif(cls.__name__==\"HeroDaughter\"):\n",
    "            print(\"Hi Princess\")\n",
    "\n",
    "class HeroSon(Hero):\n",
    "    def say_son_hello(self):\n",
    "        print(\"test  hello\")\n",
    "\n",
    "class HeroDaughter(Hero):\n",
    "    def say_daughter_hello(self):\n",
    "        print(\"test  hello daughter\")\n",
    "\n",
    "\n",
    "testson = HeroSon()\n",
    "\n",
    "testson.say_class_hello() #Output: \"Hi Kido\"\n",
    "\n",
    "testson.say_hello() #Outputs: \"Helllo...\"\n",
    "\n",
    "testdaughter = HeroDaughter()\n",
    "\n",
    "testdaughter.say_class_hello() #Outputs: \"Hi Princess\"\n",
    "\n",
    "testdaughter.say_hello() #Outputs: \"Helllo...\""
   ]
  },
  {
   "cell_type": "code",
   "execution_count": 21,
   "metadata": {},
   "outputs": [
    {
     "name": "stdout",
     "output_type": "stream",
     "text": [
      "23\n",
      "102\n",
      "Max\n"
     ]
    }
   ],
   "source": [
    "# https://www.journaldev.com/15911/python-super\n",
    "# Python super() function allows us to refer to the parent class explicitly. \n",
    "# It’s useful in case of inheritance where we want to call super class functions.\n",
    "class Person:\n",
    "    # initializing the variables\n",
    "    name = \"\"\n",
    "    age = 0\n",
    "\n",
    "    # defining constructor\n",
    "    def __init__(self, person_name, person_age):\n",
    "        self.name = person_name\n",
    "        self.age = person_age\n",
    "\n",
    "        # defining class methods\n",
    "\n",
    "    def show_name(self):\n",
    "        print(self.name)\n",
    "\n",
    "    def show_age(self):\n",
    "        print(self.age)\n",
    "\n",
    "\n",
    "# definition of subclass starts here\n",
    "class Student(Person):\n",
    "    studentId = \"\"\n",
    "\n",
    "    def __init__(self, student_name, student_age, student_id):\n",
    "        super().__init__(student_name, student_age)\n",
    "        #Person.__init__(self, student_name, student_age) # the same\n",
    "        self.studentId = student_id\n",
    "\n",
    "    def get_id(self):\n",
    "        return self.studentId  # returns the value of student id\n",
    "\n",
    "\n",
    "# end of subclass definition\n",
    "\n",
    "\n",
    "# Create an object of the superclass\n",
    "person1 = Person(\"Richard\", 23)\n",
    "# call member methods of the objects\n",
    "person1.show_age()\n",
    "# Create an object of the subclass\n",
    "student1 = Student(\"Max\", 22, \"102\")\n",
    "print(student1.get_id())\n",
    "student1.show_name()"
   ]
  },
  {
   "cell_type": "code",
   "execution_count": 20,
   "metadata": {},
   "outputs": [
    {
     "name": "stdout",
     "output_type": "stream",
     "text": [
      "Initializing: class C\n",
      "Initializing: class B\n",
      "Initializing: class A\n",
      "Printing from class C: 1\n",
      "Printing from class B: 2\n",
      "Printing from class A: 3\n"
     ]
    }
   ],
   "source": [
    "# But in the case of multi-level inheritances which class will it refer? \n",
    "# Well, Python super() will always refer the immediate superclass\n",
    "class A:\n",
    "    def __init__(self):\n",
    "        print('Initializing: class A')\n",
    "\n",
    "    def sub_method(self, b):\n",
    "        print('Printing from class A:', b)\n",
    "\n",
    "\n",
    "class B(A):\n",
    "    def __init__(self):\n",
    "        print('Initializing: class B')\n",
    "        super().__init__()\n",
    "\n",
    "    def sub_method(self, b):\n",
    "        print('Printing from class B:', b)\n",
    "        super().sub_method(b + 1)\n",
    "\n",
    "\n",
    "class C(B):\n",
    "    def __init__(self):\n",
    "        print('Initializing: class C')\n",
    "        super().__init__()\n",
    "\n",
    "    def sub_method(self, b):\n",
    "        print('Printing from class C:', b)\n",
    "        super().sub_method(b + 1)\n",
    "\n",
    "\n",
    "if __name__ == '__main__':\n",
    "    c = C()\n",
    "    c.sub_method(1)"
   ]
  },
  {
   "cell_type": "code",
   "execution_count": null,
   "metadata": {},
   "outputs": [],
   "source": []
  }
 ],
 "metadata": {
  "kernelspec": {
   "display_name": "Python 3",
   "language": "python",
   "name": "python3"
  },
  "language_info": {
   "codemirror_mode": {
    "name": "ipython",
    "version": 3
   },
   "file_extension": ".py",
   "mimetype": "text/x-python",
   "name": "python",
   "nbconvert_exporter": "python",
   "pygments_lexer": "ipython3",
   "version": "3.7.4"
  }
 },
 "nbformat": 4,
 "nbformat_minor": 2
}
