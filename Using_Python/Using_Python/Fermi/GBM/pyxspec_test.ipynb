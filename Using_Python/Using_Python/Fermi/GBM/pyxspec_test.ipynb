{
 "cells": [
  {
   "cell_type": "code",
   "execution_count": 5,
   "metadata": {},
   "outputs": [
    {
     "name": "stdout",
     "output_type": "stream",
     "text": [
      "bn190114873 : missing data!\n"
     ]
    }
   ],
   "source": [
    "from GBM_catalog_spectralanalysis_lib import *\n",
    "import matplotlib\n",
    "matplotlib.use('Agg')\n",
    "\n",
    "\n",
    "def inspect_GRB(bnname,resultdir):\n",
    "    grb = GRB(bnname,resultdir)\n",
    "    if grb.dataready:\n",
    "        #currently useful\n",
    "        grb.rawlc(viewt1=-50,viewt2=300,binwidth=0.064)\n",
    "        grb.base(baset1=-50,baset2=300,binwidth=0.064) #MUST RUN\n",
    "        grb.check_gaussian_net_rate()\n",
    "        grb.plot_gaussian_level_over_net_lc()\n",
    "        grb.check_pulse()\n",
    "        grb.countmap()\n",
    "        #remove basedir to save disk space\n",
    "        #grb.removebase()\n",
    "\n",
    "        #currently not useful\n",
    "        #grb.check_snr()\n",
    "        #grb.skymap(catalog_ra, catalog_dec)\n",
    "        #grb.plotbase()\n",
    "        #grb.check_gaussian_total_rate()\n",
    "        #grb.check_poisson_rate()\n",
    "        #grb.plot_time_resolved_net_spectrum()\n",
    "        #grb.check_poisson_time_resolved_net_spectrum()\n",
    "        #grb.netlc()\n",
    "        #grb.rsp()\n",
    "        #grb.multi_binwidth_base()\n",
    "        #grb.check_mb_base_snr(viewt1=-1,viewt2=25)\n",
    "        #grb.check_mb_base_gaussian_net_rate()\n",
    "\n",
    "        timebins = np.arange(0,5,4)\n",
    "        nslice = len(timebins)-1\n",
    "        for i in np.arange(nslice):\n",
    "            grb.phaI(slicet1=timebins[i],slicet2=timebins[i+1]) \n",
    "            grb.specanalyze('slice'+str(i))\n",
    "            \n",
    "    else:\n",
    "        print(bnname, \": missing data!\")\n",
    "                \n",
    "############\n",
    "# RUN MAIN #\n",
    "############\n",
    "if __name__ == '__main__':\n",
    "    #main()\n",
    "    cdir = os.getcwd()\n",
    "    resultdir = cdir+'/results/'\n",
    "    inspect_GRB('bn190114873',resultdir)"
   ]
  },
  {
   "cell_type": "code",
   "execution_count": null,
   "metadata": {},
   "outputs": [],
   "source": []
  }
 ],
 "metadata": {
  "kernelspec": {
   "display_name": "Python 3",
   "language": "python",
   "name": "python3"
  },
  "language_info": {
   "codemirror_mode": {
    "name": "ipython",
    "version": 3
   },
   "file_extension": ".py",
   "mimetype": "text/x-python",
   "name": "python",
   "nbconvert_exporter": "python",
   "pygments_lexer": "ipython3",
   "version": "3.6.8"
  }
 },
 "nbformat": 4,
 "nbformat_minor": 2
}
