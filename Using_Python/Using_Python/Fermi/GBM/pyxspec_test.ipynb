{
 "cells": [
  {
   "cell_type": "code",
   "execution_count": 4,
   "metadata": {},
   "outputs": [
    {
     "ename": "KeyError",
     "evalue": "\"Unable to open object (object 'ch14' doesn't exist)\"",
     "output_type": "error",
     "traceback": [
      "\u001b[0;31m---------------------------------------------------------------------------\u001b[0m",
      "\u001b[0;31mKeyError\u001b[0m                                  Traceback (most recent call last)",
      "\u001b[0;32m<ipython-input-4-05c13598e2d8>\u001b[0m in \u001b[0;36m<module>\u001b[0;34m\u001b[0m\n\u001b[1;32m     47\u001b[0m     \u001b[0mcdir\u001b[0m \u001b[0;34m=\u001b[0m \u001b[0mos\u001b[0m\u001b[0;34m.\u001b[0m\u001b[0mgetcwd\u001b[0m\u001b[0;34m(\u001b[0m\u001b[0;34m)\u001b[0m\u001b[0;34m\u001b[0m\u001b[0;34m\u001b[0m\u001b[0m\n\u001b[1;32m     48\u001b[0m     \u001b[0mresultdir\u001b[0m \u001b[0;34m=\u001b[0m \u001b[0mcdir\u001b[0m\u001b[0;34m+\u001b[0m\u001b[0;34m'/results/'\u001b[0m\u001b[0;34m\u001b[0m\u001b[0;34m\u001b[0m\u001b[0m\n\u001b[0;32m---> 49\u001b[0;31m     \u001b[0minspect_GRB\u001b[0m\u001b[0;34m(\u001b[0m\u001b[0;34m'bn190114873'\u001b[0m\u001b[0;34m,\u001b[0m\u001b[0mresultdir\u001b[0m\u001b[0;34m)\u001b[0m\u001b[0;34m\u001b[0m\u001b[0;34m\u001b[0m\u001b[0m\n\u001b[0m",
      "\u001b[0;32m<ipython-input-4-05c13598e2d8>\u001b[0m in \u001b[0;36minspect_GRB\u001b[0;34m(bnname, resultdir)\u001b[0m\n\u001b[1;32m     10\u001b[0m         \u001b[0mgrb\u001b[0m\u001b[0;34m.\u001b[0m\u001b[0mrawlc\u001b[0m\u001b[0;34m(\u001b[0m\u001b[0mviewt1\u001b[0m\u001b[0;34m=\u001b[0m\u001b[0;34m-\u001b[0m\u001b[0;36m50\u001b[0m\u001b[0;34m,\u001b[0m\u001b[0mviewt2\u001b[0m\u001b[0;34m=\u001b[0m\u001b[0;36m300\u001b[0m\u001b[0;34m,\u001b[0m\u001b[0mbinwidth\u001b[0m\u001b[0;34m=\u001b[0m\u001b[0;36m0.064\u001b[0m\u001b[0;34m)\u001b[0m\u001b[0;34m\u001b[0m\u001b[0;34m\u001b[0m\u001b[0m\n\u001b[1;32m     11\u001b[0m         \u001b[0mgrb\u001b[0m\u001b[0;34m.\u001b[0m\u001b[0mbase\u001b[0m\u001b[0;34m(\u001b[0m\u001b[0mbaset1\u001b[0m\u001b[0;34m=\u001b[0m\u001b[0;34m-\u001b[0m\u001b[0;36m50\u001b[0m\u001b[0;34m,\u001b[0m\u001b[0mbaset2\u001b[0m\u001b[0;34m=\u001b[0m\u001b[0;36m300\u001b[0m\u001b[0;34m,\u001b[0m\u001b[0mbinwidth\u001b[0m\u001b[0;34m=\u001b[0m\u001b[0;36m0.064\u001b[0m\u001b[0;34m)\u001b[0m \u001b[0;31m#MUST RUN\u001b[0m\u001b[0;34m\u001b[0m\u001b[0;34m\u001b[0m\u001b[0m\n\u001b[0;32m---> 12\u001b[0;31m         \u001b[0mgrb\u001b[0m\u001b[0;34m.\u001b[0m\u001b[0mcheck_gaussian_net_rate\u001b[0m\u001b[0;34m(\u001b[0m\u001b[0;34m)\u001b[0m\u001b[0;34m\u001b[0m\u001b[0;34m\u001b[0m\u001b[0m\n\u001b[0m\u001b[1;32m     13\u001b[0m         \u001b[0mgrb\u001b[0m\u001b[0;34m.\u001b[0m\u001b[0mplot_gaussian_level_over_net_lc\u001b[0m\u001b[0;34m(\u001b[0m\u001b[0;34m)\u001b[0m\u001b[0;34m\u001b[0m\u001b[0;34m\u001b[0m\u001b[0m\n\u001b[1;32m     14\u001b[0m         \u001b[0mgrb\u001b[0m\u001b[0;34m.\u001b[0m\u001b[0mcheck_pulse\u001b[0m\u001b[0;34m(\u001b[0m\u001b[0;34m)\u001b[0m\u001b[0;34m\u001b[0m\u001b[0;34m\u001b[0m\u001b[0m\n",
      "\u001b[0;32m~/graduatecource/mygithub/graduate_cource/Using_Python/Using_Python/Fermi/GBM/GBM_catalog_spectralanalysis_lib.py\u001b[0m in \u001b[0;36mcheck_gaussian_net_rate\u001b[0;34m(self, sigma)\u001b[0m\n\u001b[1;32m   1091\u001b[0m                         \u001b[0;32mfor\u001b[0m \u001b[0mi\u001b[0m \u001b[0;32min\u001b[0m \u001b[0mrange\u001b[0m\u001b[0;34m(\u001b[0m\u001b[0;36m14\u001b[0m\u001b[0;34m)\u001b[0m\u001b[0;34m:\u001b[0m\u001b[0;34m\u001b[0m\u001b[0;34m\u001b[0m\u001b[0m\n\u001b[1;32m   1092\u001b[0m \t\t\t\tcNet = np.array([ f['/'+Det[i]+'/ch'+str(ch)][()][2] \n\u001b[0;32m-> 1093\u001b[0;31m \t\t\t\t\t\t\t\t\tfor ch in np.arange(ch1,ch2+1) ])\n\u001b[0m\u001b[1;32m   1094\u001b[0m                                 \u001b[0mtotalNet\u001b[0m \u001b[0;34m=\u001b[0m \u001b[0mnp\u001b[0m\u001b[0;34m.\u001b[0m\u001b[0msum\u001b[0m\u001b[0;34m(\u001b[0m\u001b[0mcNet\u001b[0m\u001b[0;34m,\u001b[0m\u001b[0maxis\u001b[0m\u001b[0;34m=\u001b[0m\u001b[0;36m0\u001b[0m\u001b[0;34m)\u001b[0m\u001b[0;34m\u001b[0m\u001b[0;34m\u001b[0m\u001b[0m\n\u001b[1;32m   1095\u001b[0m                                 \u001b[0;31m#clip the outliers and fit the central median part\u001b[0m\u001b[0;34m\u001b[0m\u001b[0;34m\u001b[0m\u001b[0;34m\u001b[0m\u001b[0m\n",
      "\u001b[0;32m~/graduatecource/mygithub/graduate_cource/Using_Python/Using_Python/Fermi/GBM/GBM_catalog_spectralanalysis_lib.py\u001b[0m in \u001b[0;36m<listcomp>\u001b[0;34m(.0)\u001b[0m\n\u001b[1;32m   1091\u001b[0m                         \u001b[0;32mfor\u001b[0m \u001b[0mi\u001b[0m \u001b[0;32min\u001b[0m \u001b[0mrange\u001b[0m\u001b[0;34m(\u001b[0m\u001b[0;36m14\u001b[0m\u001b[0;34m)\u001b[0m\u001b[0;34m:\u001b[0m\u001b[0;34m\u001b[0m\u001b[0;34m\u001b[0m\u001b[0m\n\u001b[1;32m   1092\u001b[0m \t\t\t\tcNet = np.array([ f['/'+Det[i]+'/ch'+str(ch)][()][2] \n\u001b[0;32m-> 1093\u001b[0;31m \t\t\t\t\t\t\t\t\tfor ch in np.arange(ch1,ch2+1) ])\n\u001b[0m\u001b[1;32m   1094\u001b[0m                                 \u001b[0mtotalNet\u001b[0m \u001b[0;34m=\u001b[0m \u001b[0mnp\u001b[0m\u001b[0;34m.\u001b[0m\u001b[0msum\u001b[0m\u001b[0;34m(\u001b[0m\u001b[0mcNet\u001b[0m\u001b[0;34m,\u001b[0m\u001b[0maxis\u001b[0m\u001b[0;34m=\u001b[0m\u001b[0;36m0\u001b[0m\u001b[0;34m)\u001b[0m\u001b[0;34m\u001b[0m\u001b[0;34m\u001b[0m\u001b[0m\n\u001b[1;32m   1095\u001b[0m                                 \u001b[0;31m#clip the outliers and fit the central median part\u001b[0m\u001b[0;34m\u001b[0m\u001b[0;34m\u001b[0m\u001b[0;34m\u001b[0m\u001b[0m\n",
      "\u001b[0;32mh5py/_objects.pyx\u001b[0m in \u001b[0;36mh5py._objects.with_phil.wrapper\u001b[0;34m()\u001b[0m\n",
      "\u001b[0;32mh5py/_objects.pyx\u001b[0m in \u001b[0;36mh5py._objects.with_phil.wrapper\u001b[0;34m()\u001b[0m\n",
      "\u001b[0;32m~/anaconda3/envs/gbm/lib/python3.6/site-packages/h5py/_hl/group.py\u001b[0m in \u001b[0;36m__getitem__\u001b[0;34m(self, name)\u001b[0m\n\u001b[1;32m    260\u001b[0m                 \u001b[0;32mraise\u001b[0m \u001b[0mValueError\u001b[0m\u001b[0;34m(\u001b[0m\u001b[0;34m\"Invalid HDF5 object reference\"\u001b[0m\u001b[0;34m)\u001b[0m\u001b[0;34m\u001b[0m\u001b[0;34m\u001b[0m\u001b[0m\n\u001b[1;32m    261\u001b[0m         \u001b[0;32melse\u001b[0m\u001b[0;34m:\u001b[0m\u001b[0;34m\u001b[0m\u001b[0;34m\u001b[0m\u001b[0m\n\u001b[0;32m--> 262\u001b[0;31m             \u001b[0moid\u001b[0m \u001b[0;34m=\u001b[0m \u001b[0mh5o\u001b[0m\u001b[0;34m.\u001b[0m\u001b[0mopen\u001b[0m\u001b[0;34m(\u001b[0m\u001b[0mself\u001b[0m\u001b[0;34m.\u001b[0m\u001b[0mid\u001b[0m\u001b[0;34m,\u001b[0m \u001b[0mself\u001b[0m\u001b[0;34m.\u001b[0m\u001b[0m_e\u001b[0m\u001b[0;34m(\u001b[0m\u001b[0mname\u001b[0m\u001b[0;34m)\u001b[0m\u001b[0;34m,\u001b[0m \u001b[0mlapl\u001b[0m\u001b[0;34m=\u001b[0m\u001b[0mself\u001b[0m\u001b[0;34m.\u001b[0m\u001b[0m_lapl\u001b[0m\u001b[0;34m)\u001b[0m\u001b[0;34m\u001b[0m\u001b[0;34m\u001b[0m\u001b[0m\n\u001b[0m\u001b[1;32m    263\u001b[0m \u001b[0;34m\u001b[0m\u001b[0m\n\u001b[1;32m    264\u001b[0m         \u001b[0motype\u001b[0m \u001b[0;34m=\u001b[0m \u001b[0mh5i\u001b[0m\u001b[0;34m.\u001b[0m\u001b[0mget_type\u001b[0m\u001b[0;34m(\u001b[0m\u001b[0moid\u001b[0m\u001b[0;34m)\u001b[0m\u001b[0;34m\u001b[0m\u001b[0;34m\u001b[0m\u001b[0m\n",
      "\u001b[0;32mh5py/_objects.pyx\u001b[0m in \u001b[0;36mh5py._objects.with_phil.wrapper\u001b[0;34m()\u001b[0m\n",
      "\u001b[0;32mh5py/_objects.pyx\u001b[0m in \u001b[0;36mh5py._objects.with_phil.wrapper\u001b[0;34m()\u001b[0m\n",
      "\u001b[0;32mh5py/h5o.pyx\u001b[0m in \u001b[0;36mh5py.h5o.open\u001b[0;34m()\u001b[0m\n",
      "\u001b[0;31mKeyError\u001b[0m: \"Unable to open object (object 'ch14' doesn't exist)\""
     ]
    }
   ],
   "source": [
    "from GBM_catalog_spectralanalysis_lib import *\n",
    "import matplotlib\n",
    "matplotlib.use('Agg')\n",
    "\n",
    "\n",
    "def inspect_GRB(bnname,resultdir):\n",
    "    grb = GRB(bnname,resultdir)\n",
    "    if grb.dataready:\n",
    "        #currently useful\n",
    "        grb.rawlc(viewt1=-50,viewt2=300,binwidth=0.064)\n",
    "        grb.base(baset1=-50,baset2=300,binwidth=0.064) #MUST RUN\n",
    "        grb.check_gaussian_net_rate()\n",
    "        grb.plot_gaussian_level_over_net_lc()\n",
    "        grb.check_pulse()\n",
    "        grb.countmap()\n",
    "        #remove basedir to save disk space\n",
    "        #grb.removebase()\n",
    "\n",
    "        #currently not useful\n",
    "        #grb.check_snr()\n",
    "        #grb.skymap(catalog_ra, catalog_dec)\n",
    "        #grb.plotbase()\n",
    "        #grb.check_gaussian_total_rate()\n",
    "        #grb.check_poisson_rate()\n",
    "        #grb.plot_time_resolved_net_spectrum()\n",
    "        #grb.check_poisson_time_resolved_net_spectrum()\n",
    "        #grb.netlc()\n",
    "        #grb.rsp()\n",
    "        #grb.multi_binwidth_base()\n",
    "        #grb.check_mb_base_snr(viewt1=-1,viewt2=25)\n",
    "        #grb.check_mb_base_gaussian_net_rate()\n",
    "\n",
    "        timebins = np.arange(0,5,4)\n",
    "        nslice = len(timebins)-1\n",
    "        for i in np.arange(nslice):\n",
    "            grb.phaI(slicet1=timebins[i],slicet2=timebins[i+1]) \n",
    "            grb.specanalyze('slice'+str(i))\n",
    "            \n",
    "    else:\n",
    "        print(bnname, \": missing data!\")\n",
    "                \n",
    "############\n",
    "# RUN MAIN #\n",
    "############\n",
    "if __name__ == '__main__':\n",
    "    #main()\n",
    "    cdir = os.getcwd()\n",
    "    resultdir = cdir+'/results/'\n",
    "    inspect_GRB('bn190114873',resultdir)"
   ]
  },
  {
   "cell_type": "code",
   "execution_count": null,
   "metadata": {},
   "outputs": [],
   "source": []
  }
 ],
 "metadata": {
  "kernelspec": {
   "display_name": "Python 3",
   "language": "python",
   "name": "python3"
  },
  "language_info": {
   "codemirror_mode": {
    "name": "ipython",
    "version": 3
   },
   "file_extension": ".py",
   "mimetype": "text/x-python",
   "name": "python",
   "nbconvert_exporter": "python",
   "pygments_lexer": "ipython3",
   "version": "3.6.8"
  }
 },
 "nbformat": 4,
 "nbformat_minor": 2
}
