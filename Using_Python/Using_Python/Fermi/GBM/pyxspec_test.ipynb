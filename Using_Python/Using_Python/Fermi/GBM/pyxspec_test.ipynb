{
 "cells": [
  {
   "cell_type": "code",
   "execution_count": 2,
   "metadata": {},
   "outputs": [],
   "source": [
    "import warnings\n",
    "import os\n",
    "import sys\n",
    "import time\n",
    "import operator\n",
    "import itertools\n",
    "import functools\n",
    "from multiprocessing import Pool\n",
    "from collections import OrderedDict\n",
    "import matplotlib\n",
    "matplotlib.use('Agg')\n",
    "from matplotlib import pyplot as plt\n",
    "from matplotlib import colors\n",
    "from matplotlib import ticker\n",
    "plt.style.use('seaborn')\n",
    "from mpl_toolkits.basemap import Basemap\n",
    "import numpy as np\n",
    "from glob import glob\n",
    "import h5py\n",
    "import pandas as pd\n",
    "import seaborn as sns\n",
    "#sns.set(style='whitegrid')\n",
    "from scipy import stats\n",
    "import astropy.units as u\n",
    "from astropy.io import fits\n",
    "from astropy.time import Time\n",
    "from astropy.stats import bayesian_blocks\n",
    "from astropy.stats import sigma_clip, mad_std\n",
    "from astropy.coordinates import get_body_barycentric, cartesian_to_spherical\n",
    "from astropy.coordinates import get_sun, SkyCoord, cartesian_to_spherical\n",
    "from spherical_geometry.polygon import SphericalPolygon\n",
    "from rpy2.rinterface import RRuntimeWarning\n",
    "warnings.filterwarnings(\"ignore\", category=RRuntimeWarning)\n",
    "import rpy2.robjects as robjects\n",
    "from rpy2.robjects import r\n",
    "import rpy2.robjects.numpy2ri\n",
    "robjects.numpy2ri.activate()\n",
    "robjects.r(\"library(baseline)\")\n",
    "from xspec import *"
   ]
  },
  {
   "cell_type": "code",
   "execution_count": null,
   "metadata": {},
   "outputs": [],
   "source": []
  }
 ],
 "metadata": {
  "kernelspec": {
   "display_name": "Python 3",
   "language": "python",
   "name": "python3"
  },
  "language_info": {
   "codemirror_mode": {
    "name": "ipython",
    "version": 3
   },
   "file_extension": ".py",
   "mimetype": "text/x-python",
   "name": "python",
   "nbconvert_exporter": "python",
   "pygments_lexer": "ipython3",
   "version": "3.6.8"
  }
 },
 "nbformat": 4,
 "nbformat_minor": 2
}
