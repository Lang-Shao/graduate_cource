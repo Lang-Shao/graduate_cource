{
 "cells": [
  {
   "cell_type": "code",
   "execution_count": 34,
   "metadata": {},
   "outputs": [
    {
     "data": {
      "text/plain": [
       "<matplotlib.legend.Legend at 0x7f4fc02f0d68>"
      ]
     },
     "execution_count": 34,
     "metadata": {},
     "output_type": "execute_result"
    },
    {
     "data": {
      "image/png": "[encoded data removed]",
      "text/plain": [
       "<Figure size 432x288 with 1 Axes>"
      ]
     },
     "metadata": {},
     "output_type": "display_data"
    }
   ],
   "source": [
    "# https://en.wikipedia.org/wiki/Sum_of_normally_distributed_random_variables\n",
    "# X ~ N(mu_x, sigma_x)\n",
    "# Y ~ N(mu_y, sigma_y)\n",
    "# Z = X + Y ~ N(mu_x+mu_y, sqrt(sigma_x^2+sigma_y^2+2*rho*simga_x*simga_y)\n",
    "# Z = X - Y ~ N(mu_x-mu_y, sqrt(sigma_x^2+sigma_y^2+2*rho*simga_x*simga_y)\n",
    "# correlation <-> rho = (sgima_z^2-sigma_x^2-sigma_y^2 )/ (2*sigma_x*sigma_y)\n",
    "\n",
    "import numpy as np\n",
    "import matplotlib.pyplot as plt\n",
    "from scipy import stats\n",
    "from scipy import optimize\n",
    "import seaborn as sns\n",
    "sns.set(style='whitegrid')\n",
    "\n",
    "X = stats.norm(1.0, 2)\n",
    "Y = stats.norm(10.0, 4)\n",
    "x = X.rvs(10000)\n",
    "y = Y.rvs(10000)\n",
    "z = x + y\n",
    "plt.hist(x,label='x')\n",
    "plt.hist(y,label='y')\n",
    "plt.hist(z,label='z')\n",
    "plt.legend()"
   ]
  },
  {
   "cell_type": "code",
   "execution_count": 35,
   "metadata": {},
   "outputs": [
    {
     "name": "stdout",
     "output_type": "stream",
     "text": [
      "0.998938126545617\n",
      "9.940065043676654\n",
      "10.939003170222271 10.939003170222271\n"
     ]
    }
   ],
   "source": [
    "print(x.mean())\n",
    "print(y.mean())\n",
    "print(z.mean(),x.mean()+y.mean())"
   ]
  },
  {
   "cell_type": "code",
   "execution_count": 37,
   "metadata": {},
   "outputs": [
    {
     "name": "stdout",
     "output_type": "stream",
     "text": [
      "1.9709566916750232\n",
      "4.087599148005212\n",
      "4.573563639407751 4.537966182689276\n",
      "rho= 0.02012958838746779\n"
     ]
    }
   ],
   "source": [
    "print(x.std())\n",
    "print(y.std())\n",
    "print(z.std(),np.sqrt(x.std()**2+y.std()**2))\n",
    "print('rho=',(z.std()**2-x.std()**2-y.std()**2 )/ (2*x.std()*y.std()))"
   ]
  },
  {
   "cell_type": "code",
   "execution_count": 38,
   "metadata": {
    "scrolled": true
   },
   "outputs": [
    {
     "data": {
      "text/plain": [
       "<matplotlib.legend.Legend at 0x7f4fc02dccf8>"
      ]
     },
     "execution_count": 38,
     "metadata": {},
     "output_type": "execute_result"
    },
    {
     "data": {
      "image/png": "[encoded data removed]",
      "text/plain": [
       "<Figure size 432x288 with 1 Axes>"
      ]
     },
     "metadata": {},
     "output_type": "display_data"
    }
   ],
   "source": [
    "import numpy as np\n",
    "import matplotlib.pyplot as plt\n",
    "from scipy import stats\n",
    "from scipy import optimize\n",
    "import seaborn as sns\n",
    "sns.set(style='whitegrid')\n",
    "\n",
    "X = stats.norm(1.0, 2)\n",
    "Y = stats.norm(10.0, 4)\n",
    "x = X.rvs(10000)\n",
    "y = Y.rvs(10000)\n",
    "z = y - x\n",
    "plt.hist(x,label='x')\n",
    "plt.hist(y,label='y')\n",
    "plt.hist(z,label='z')\n",
    "plt.legend()"
   ]
  },
  {
   "cell_type": "code",
   "execution_count": 39,
   "metadata": {},
   "outputs": [
    {
     "name": "stdout",
     "output_type": "stream",
     "text": [
      "1.0112177770792328\n",
      "10.056947752253617\n",
      "9.045729975174384 9.045729975174384\n"
     ]
    }
   ],
   "source": [
    "print(x.mean())\n",
    "print(y.mean())\n",
    "print(z.mean(),y.mean()-x.mean())"
   ]
  },
  {
   "cell_type": "code",
   "execution_count": 40,
   "metadata": {},
   "outputs": [
    {
     "name": "stdout",
     "output_type": "stream",
     "text": [
      "2.005951579133924\n",
      "3.988859093774833\n",
      "4.437950600497349 4.464844746216834\n",
      "rho= -0.014961840044489153\n"
     ]
    }
   ],
   "source": [
    "print(x.std())\n",
    "print(y.std())\n",
    "print(z.std(),np.sqrt(x.std()**2+y.std()**2))\n",
    "print('rho=',(z.std()**2-x.std()**2-y.std()**2 )/ (2*x.std()*y.std()))"
   ]
  },
  {
   "cell_type": "code",
   "execution_count": 2,
   "metadata": {},
   "outputs": [],
   "source": [
    "# data for 14 GBM detectors by add each dector with detect n3\n",
    "sigma_x = [211.03,200.04,136.13,139.73,143.07,166.88,160.68,126.05,155.83,178.73,172.96,133.80,137.55,136.15]\n",
    "sigma_y = 139.73\n",
    "sigma_z = [260.47,254.05,202.19,279.45,208.67,237.42,232.77,195.46,220.28,245.32,242.07,196.88,199.28,196.84]"
   ]
  },
  {
   "cell_type": "code",
   "execution_count": 5,
   "metadata": {},
   "outputs": [
    {
     "name": "stdout",
     "output_type": "stream",
     "text": [
      "0 0.06420555847616166\n",
      "1 0.08945695295207062\n",
      "2 0.07425687992819104\n",
      "3 0.9998568693754598\n",
      "4 0.08878096941504353\n",
      "5 0.19287233403292015\n",
      "6 0.19685128014854072\n",
      "7 0.07924662208379282\n",
      "8 0.1082894583612195\n",
      "9 0.17444215026214396\n",
      "10 0.18947293488505942\n",
      "11 0.03569829097051044\n",
      "12 0.03298782876244976\n",
      "13 0.017995205537651084\n"
     ]
    }
   ],
   "source": [
    "for i in range(14):\n",
    "    sigma1 = sigma_x[i]\n",
    "    sigma2 = sigma_y\n",
    "    sigma3 = sigma_z[i]\n",
    "    print(i,(sigma3**2-sigma1**2-sigma2**2 )/(2*sigma1*sigma2))"
   ]
  },
  {
   "cell_type": "code",
   "execution_count": null,
   "metadata": {},
   "outputs": [],
   "source": []
  }
 ],
 "metadata": {
  "kernelspec": {
   "display_name": "Python 3",
   "language": "python",
   "name": "python3"
  },
  "language_info": {
   "codemirror_mode": {
    "name": "ipython",
    "version": 3
   },
   "file_extension": ".py",
   "mimetype": "text/x-python",
   "name": "python",
   "nbconvert_exporter": "python",
   "pygments_lexer": "ipython3",
   "version": "3.7.4"
  }
 },
 "nbformat": 4,
 "nbformat_minor": 2
}
