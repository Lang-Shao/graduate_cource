{
 "cells": [
  {
   "cell_type": "code",
   "execution_count": 76,
   "metadata": {},
   "outputs": [
    {
     "name": "stdout",
     "output_type": "stream",
     "text": [
      "202.206.100.34\n"
     ]
    }
   ],
   "source": [
    "# check public ip by dns name\n",
    "import socket\n",
    "print(socket.gethostbyname(\"www.hebtu.edu.cn\"))"
   ]
  },
  {
   "cell_type": "code",
   "execution_count": 77,
   "metadata": {},
   "outputs": [
    {
     "name": "stdout",
     "output_type": "stream",
     "text": [
      "101.24.123.130\n",
      "\n"
     ]
    }
   ],
   "source": [
    "# check public ip of local machine\n",
    "# sudo apt install curl\n",
    "# curl icanhazip.com\n",
    "import subprocess\n",
    "output = str(subprocess.check_output([\"curl\",\"icanhazip.com\"]), encoding=\"utf-8\")\n",
    "print(output)"
   ]
  },
  {
   "cell_type": "code",
   "execution_count": 78,
   "metadata": {},
   "outputs": [
    {
     "data": {
      "text/plain": [
       "'192.168.3.14 \\n'"
      ]
     },
     "execution_count": 78,
     "metadata": {},
     "output_type": "execute_result"
    }
   ],
   "source": [
    "# https://www.linuxtrainingacademy.com/determine-public-ip-address-command-line-curl/\n",
    "# Determine Your Private and Public IP Addresses from the Command Line\n",
    "import subprocess\n",
    "str(subprocess.check_output([\"hostname\",\"-I\"]),encoding=\"utf-8\")"
   ]
  },
  {
   "cell_type": "code",
   "execution_count": 79,
   "metadata": {},
   "outputs": [
    {
     "name": "stdout",
     "output_type": "stream",
     "text": [
      "s\n"
     ]
    }
   ],
   "source": [
    "# check computer name\n",
    "import socket\n",
    "print(socket.gethostname())"
   ]
  },
  {
   "cell_type": "code",
   "execution_count": 80,
   "metadata": {},
   "outputs": [
    {
     "data": {
      "text/plain": [
       "['1: lo: <LOOPBACK,UP,LOWER_UP> mtu 65536 qdisc noqueue state UNKNOWN group default qlen 1000',\n",
       " '    link/loopback 00:00:00:00:00:00 brd 00:00:00:00:00:00',\n",
       " '    inet 127.0.0.1/8 scope host lo',\n",
       " '       valid_lft forever preferred_lft forever',\n",
       " '    inet6 ::1/128 scope host ',\n",
       " '       valid_lft forever preferred_lft forever',\n",
       " '2: wlp2s0: <BROADCAST,MULTICAST,UP,LOWER_UP> mtu 1500 qdisc fq_codel state UP group default qlen 1000',\n",
       " '    link/ether c4:8e:8f:f3:f6:5f brd ff:ff:ff:ff:ff:ff',\n",
       " '    inet 192.168.3.14/24 brd 192.168.3.255 scope global dynamic noprefixroute wlp2s0',\n",
       " '       valid_lft 82680sec preferred_lft 82680sec',\n",
       " '    inet6 fe80::89d4:a6cd:753f:a712/64 scope link noprefixroute ',\n",
       " '       valid_lft forever preferred_lft forever',\n",
       " '']"
      ]
     },
     "execution_count": 80,
     "metadata": {},
     "output_type": "execute_result"
    }
   ],
   "source": [
    "# check local private ip (1)\n",
    "import subprocess\n",
    "output = str(subprocess.check_output([\"ip\",\"addr\"]), encoding=\"utf-8\")\n",
    "output.split('\\n')"
   ]
  },
  {
   "cell_type": "code",
   "execution_count": 81,
   "metadata": {},
   "outputs": [
    {
     "name": "stdout",
     "output_type": "stream",
     "text": [
      "('192.168.3.14', 34331)\n"
     ]
    }
   ],
   "source": [
    "# check local private ip (2)\n",
    "import socket\n",
    "s = socket.socket(socket.AF_INET, socket.SOCK_DGRAM)\n",
    "s.connect((\"8.8.8.8\",80))\n",
    "print(s.getsockname())\n",
    "s.close()"
   ]
  },
  {
   "cell_type": "raw",
   "metadata": {},
   "source": []
  }
 ],
 "metadata": {
  "kernelspec": {
   "display_name": "Python 3",
   "language": "python",
   "name": "python3"
  },
  "language_info": {
   "codemirror_mode": {
    "name": "ipython",
    "version": 3
   },
   "file_extension": ".py",
   "mimetype": "text/x-python",
   "name": "python",
   "nbconvert_exporter": "python",
   "pygments_lexer": "ipython3",
   "version": "3.6.8"
  }
 },
 "nbformat": 4,
 "nbformat_minor": 2
}
