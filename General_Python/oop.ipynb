{
 "cells": [
  {
   "cell_type": "code",
   "execution_count": 71,
   "metadata": {},
   "outputs": [
    {
     "name": "stdout",
     "output_type": "stream",
     "text": [
      "The name is: Fruitas\n",
      "The name is: Fruitas\n"
     ]
    }
   ],
   "source": [
    "# https://pythonbasics.org/classmethod/\n",
    "\n",
    "class Fruit:\n",
    "    name = 'Fruitas'\n",
    "    \n",
    "    @classmethod\n",
    "    def printName(cls):\n",
    "        print('The name is:', cls.name)\n",
    "        \n",
    "Fruit.printName()\n",
    "Fruit().printName()"
   ]
  },
  {
   "cell_type": "code",
   "execution_count": 72,
   "metadata": {},
   "outputs": [
    {
     "name": "stdout",
     "output_type": "stream",
     "text": [
      "The name is: Fruitas1\n",
      "The name is: Fruitas1\n"
     ]
    }
   ],
   "source": [
    "# Alternative & unpopular usage\n",
    "class Fruit1:\n",
    "    name = 'Fruitas1'\n",
    "    \n",
    "    def printName(cls):\n",
    "        print('The name is:', cls.name)\n",
    "\n",
    "Fruit1.printAge = classmethod(Fruit1.printName)\n",
    "Fruit1.printAge()\n",
    "Fruit1().printAge()"
   ]
  },
  {
   "cell_type": "code",
   "execution_count": 73,
   "metadata": {},
   "outputs": [
    {
     "name": "stdout",
     "output_type": "stream",
     "text": [
      "The name is: Fruitas\n",
      "The name is: Fruitas\n",
      "The name is: Apple\n",
      "The name is: Apple\n"
     ]
    }
   ],
   "source": [
    "apple = Fruit()\n",
    "apple.name = \"Apple\"\n",
    "Fruit.printName()\n",
    "apple.printName()\n",
    "Fruit.name = \"Apple\"\n",
    "Fruit.printName()\n",
    "apple.printName()"
   ]
  },
  {
   "cell_type": "code",
   "execution_count": 33,
   "metadata": {},
   "outputs": [
    {
     "name": "stdout",
     "output_type": "stream",
     "text": [
      "Help on class classmethod in module builtins:\n",
      "\n",
      "class classmethod(object)\n",
      " |  classmethod(function) -> method\n",
      " |  \n",
      " |  Convert a function to be a class method.\n",
      " |  \n",
      " |  A class method receives the class as implicit first argument,\n",
      " |  just like an instance method receives the instance.\n",
      " |  To declare a class method, use this idiom:\n",
      " |  \n",
      " |    class C:\n",
      " |        @classmethod\n",
      " |        def f(cls, arg1, arg2, ...):\n",
      " |            ...\n",
      " |  \n",
      " |  It can be called either on the class (e.g. C.f()) or on an instance\n",
      " |  (e.g. C().f()).  The instance is ignored except for its class.\n",
      " |  If a class method is called for a derived class, the derived class\n",
      " |  object is passed as the implied first argument.\n",
      " |  \n",
      " |  Class methods are different than C++ or Java static methods.\n",
      " |  If you want those, see the staticmethod builtin.\n",
      " |  \n",
      " |  Methods defined here:\n",
      " |  \n",
      " |  __get__(self, instance, owner, /)\n",
      " |      Return an attribute of instance, which is of type owner.\n",
      " |  \n",
      " |  __init__(self, /, *args, **kwargs)\n",
      " |      Initialize self.  See help(type(self)) for accurate signature.\n",
      " |  \n",
      " |  __new__(*args, **kwargs) from builtins.type\n",
      " |      Create and return a new object.  See help(type) for accurate signature.\n",
      " |  \n",
      " |  ----------------------------------------------------------------------\n",
      " |  Data descriptors defined here:\n",
      " |  \n",
      " |  __dict__\n",
      " |  \n",
      " |  __func__\n",
      " |  \n",
      " |  __isabstractmethod__\n",
      "\n"
     ]
    }
   ],
   "source": [
    "help(classmethod)"
   ]
  },
  {
   "cell_type": "code",
   "execution_count": 44,
   "metadata": {},
   "outputs": [
    {
     "name": "stdout",
     "output_type": "stream",
     "text": [
      "Help on class staticmethod in module builtins:\n",
      "\n",
      "class staticmethod(object)\n",
      " |  staticmethod(function) -> method\n",
      " |  \n",
      " |  Convert a function to be a static method.\n",
      " |  \n",
      " |  A static method does not receive an implicit first argument.\n",
      " |  To declare a static method, use this idiom:\n",
      " |  \n",
      " |       class C:\n",
      " |           @staticmethod\n",
      " |           def f(arg1, arg2, ...):\n",
      " |               ...\n",
      " |  \n",
      " |  It can be called either on the class (e.g. C.f()) or on an instance\n",
      " |  (e.g. C().f()).  The instance is ignored except for its class.\n",
      " |  \n",
      " |  Static methods in Python are similar to those found in Java or C++.\n",
      " |  For a more advanced concept, see the classmethod builtin.\n",
      " |  \n",
      " |  Methods defined here:\n",
      " |  \n",
      " |  __get__(self, instance, owner, /)\n",
      " |      Return an attribute of instance, which is of type owner.\n",
      " |  \n",
      " |  __init__(self, /, *args, **kwargs)\n",
      " |      Initialize self.  See help(type(self)) for accurate signature.\n",
      " |  \n",
      " |  __new__(*args, **kwargs) from builtins.type\n",
      " |      Create and return a new object.  See help(type) for accurate signature.\n",
      " |  \n",
      " |  ----------------------------------------------------------------------\n",
      " |  Data descriptors defined here:\n",
      " |  \n",
      " |  __dict__\n",
      " |  \n",
      " |  __func__\n",
      " |  \n",
      " |  __isabstractmethod__\n",
      "\n"
     ]
    }
   ],
   "source": [
    "help(staticmethod)"
   ]
  },
  {
   "cell_type": "code",
   "execution_count": 75,
   "metadata": {},
   "outputs": [
    {
     "name": "stdout",
     "output_type": "stream",
     "text": [
      "Hi Kido\n",
      "Helllo...\n",
      "Hi Princess\n",
      "Helllo...\n"
     ]
    }
   ],
   "source": [
    "# https://stackoverflow.com/questions/12179271/meaning-of-classmethod-and-staticmethod-for-beginner\n",
    "# 34:\n",
    "# One would use @classmethod when he/she would want to change the behaviour of the method \n",
    "# based on which subclass is calling the method. \n",
    "# remember we have a reference to the calling class in a class method.\n",
    "# While using static you would want the behaviour to remain unchanged across subclasses\n",
    "\n",
    "class Hero:\n",
    "\n",
    "    @staticmethod\n",
    "    def say_hello():\n",
    "        print(\"Helllo...\")\n",
    "\n",
    "    @classmethod\n",
    "    def say_class_hello(cls):\n",
    "        if(cls.__name__==\"HeroSon\"):\n",
    "            print(\"Hi Kido\")\n",
    "        elif(cls.__name__==\"HeroDaughter\"):\n",
    "            print(\"Hi Princess\")\n",
    "\n",
    "class HeroSon(Hero):\n",
    "    def say_son_hello(self):\n",
    "        print(\"test  hello\")\n",
    "\n",
    "class HeroDaughter(Hero):\n",
    "    def say_daughter_hello(self):\n",
    "        print(\"test  hello daughter\")\n",
    "\n",
    "\n",
    "testson = HeroSon()\n",
    "\n",
    "testson.say_class_hello() #Output: \"Hi Kido\"\n",
    "\n",
    "testson.say_hello() #Outputs: \"Helllo...\"\n",
    "\n",
    "testdaughter = HeroDaughter()\n",
    "\n",
    "testdaughter.say_class_hello() #Outputs: \"Hi Princess\"\n",
    "\n",
    "testdaughter.say_hello() #Outputs: \"Helllo...\""
   ]
  },
  {
   "cell_type": "code",
   "execution_count": null,
   "metadata": {},
   "outputs": [],
   "source": []
  }
 ],
 "metadata": {
  "kernelspec": {
   "display_name": "Python 3",
   "language": "python",
   "name": "python3"
  },
  "language_info": {
   "codemirror_mode": {
    "name": "ipython",
    "version": 3
   },
   "file_extension": ".py",
   "mimetype": "text/x-python",
   "name": "python",
   "nbconvert_exporter": "python",
   "pygments_lexer": "ipython3",
   "version": "3.6.8"
  }
 },
 "nbformat": 4,
 "nbformat_minor": 2
}
