{
 "cells": [
  {
   "cell_type": "code",
   "execution_count": 12,
   "metadata": {},
   "outputs": [],
   "source": [
    "import functools\n",
    "import time\n",
    "import numpy as np\n",
    "\n",
    "def timer(func):\n",
    "    \"\"\"Print the runtime of the decorated function\"\"\"\n",
    "    @functools.wraps(func)\n",
    "    def wrapper_timer(*args,**kwargs):\n",
    "        print(f\"Running {func.__name__!r} ...\")\n",
    "        start_time=time.perf_counter()\n",
    "        value=func(*args,**kwargs)\n",
    "        end_time=time.perf_counter()\n",
    "        run_time=end_time-start_time\n",
    "        print(f\"Finished {func.__name__!r} in {run_time:.4f} sec\")\n",
    "        return value\n",
    "    return wrapper_timer"
   ]
  },
  {
   "cell_type": "code",
   "execution_count": 13,
   "metadata": {},
   "outputs": [
    {
     "name": "stdout",
     "output_type": "stream",
     "text": [
      "Running 'my_mc' ...\n",
      "Numerical solution = 0.5 \n",
      "Monte Carlo estimate = 0.49\n",
      "Finished 'my_mc' in 0.0054 sec\n"
     ]
    }
   ],
   "source": [
    "@timer\n",
    "def my_mc():\n",
    "    N, faces = 1e3, np.arange(6)\n",
    "    numSol = np.sum([(i+j) % 2 ==0 for i in faces for j in faces]) / len(faces)**2\n",
    "    mcEst = np.sum([(np.random.randint(1,7)+np.random.randint(1,7)) % 2 == 0 for i in np.arange(N)]) / N\n",
    "    print(f\"Numerical solution = {numSol} \\nMonte Carlo estimate = {mcEst}\")\n",
    "my_mc()"
   ]
  },
  {
   "cell_type": "code",
   "execution_count": 14,
   "metadata": {},
   "outputs": [
    {
     "name": "stdout",
     "output_type": "stream",
     "text": [
      "Running 'my_mc' ...\n",
      "Numerical solution = 0.5 \n",
      "Monte Carlo estimate = 0.4957\n",
      "Finished 'my_mc' in 0.0364 sec\n"
     ]
    }
   ],
   "source": [
    "@timer\n",
    "def my_mc():\n",
    "    N, faces = 1e4, np.arange(6)\n",
    "    numSol = np.sum([(i+j) % 2 ==0 for i in faces for j in faces]) / len(faces)**2\n",
    "    mcEst = np.sum([(np.random.randint(1,7)+np.random.randint(1,7)) % 2 == 0 for i in np.arange(N)]) / N\n",
    "    print(f\"Numerical solution = {numSol} \\nMonte Carlo estimate = {mcEst}\")\n",
    "my_mc()"
   ]
  },
  {
   "cell_type": "code",
   "execution_count": 15,
   "metadata": {},
   "outputs": [
    {
     "name": "stdout",
     "output_type": "stream",
     "text": [
      "Running 'my_mc' ...\n",
      "Numerical solution = 0.5 \n",
      "Monte Carlo estimate = 0.50226\n",
      "Finished 'my_mc' in 0.2644 sec\n"
     ]
    }
   ],
   "source": [
    "@timer\n",
    "def my_mc():\n",
    "    N, faces = 1e5, np.arange(6)\n",
    "    numSol = np.sum([(i+j) % 2 ==0 for i in faces for j in faces]) / len(faces)**2\n",
    "    mcEst = np.sum([(np.random.randint(1,7)+np.random.randint(1,7)) % 2 == 0 for i in np.arange(N)]) / N\n",
    "    print(f\"Numerical solution = {numSol} \\nMonte Carlo estimate = {mcEst}\")\n",
    "my_mc()"
   ]
  },
  {
   "cell_type": "code",
   "execution_count": 16,
   "metadata": {},
   "outputs": [
    {
     "name": "stdout",
     "output_type": "stream",
     "text": [
      "Running 'my_mc' ...\n",
      "Numerical solution = 0.5 \n",
      "Monte Carlo estimate = 0.500128\n",
      "Finished 'my_mc' in 2.5401 sec\n"
     ]
    }
   ],
   "source": [
    "@timer\n",
    "def my_mc():\n",
    "    N, faces = 1e6, np.arange(6)\n",
    "    numSol = np.sum([(i+j) % 2 ==0 for i in faces for j in faces]) / len(faces)**2\n",
    "    mcEst = np.sum([(np.random.randint(1,7)+np.random.randint(1,7)) % 2 == 0 for i in np.arange(N)]) / N\n",
    "    print(f\"Numerical solution = {numSol} \\nMonte Carlo estimate = {mcEst}\")\n",
    "my_mc()"
   ]
  },
  {
   "cell_type": "code",
   "execution_count": 17,
   "metadata": {},
   "outputs": [
    {
     "name": "stdout",
     "output_type": "stream",
     "text": [
      "Running 'my_mc' ...\n",
      "Numerical solution = 0.5 \n",
      "Monte Carlo estimate = 0.5002886\n",
      "Finished 'my_mc' in 24.6406 sec\n"
     ]
    }
   ],
   "source": [
    "@timer\n",
    "def my_mc():\n",
    "    N, faces = 1e7, np.arange(6)\n",
    "    numSol = np.sum([(i+j) % 2 ==0 for i in faces for j in faces]) / len(faces)**2\n",
    "    mcEst = np.sum([(np.random.randint(1,7)+np.random.randint(1,7)) % 2 == 0 for i in np.arange(N)]) / N\n",
    "    print(f\"Numerical solution = {numSol} \\nMonte Carlo estimate = {mcEst}\")\n",
    "my_mc()"
   ]
  },
  {
   "cell_type": "code",
   "execution_count": null,
   "metadata": {},
   "outputs": [],
   "source": [
    "@timer\n",
    "def my_mc():\n",
    "    N, faces = 1e8, np.arange(6)\n",
    "    numSol = np.sum([(i+j) % 2 ==0 for i in faces for j in faces]) / len(faces)**2\n",
    "    mcEst = np.sum([(np.random.randint(1,7)+np.random.randint(1,7)) % 2 == 0 for i in np.arange(N)]) / N\n",
    "    print(f\"Numerical solution = {numSol} \\nMonte Carlo estimate = {mcEst}\")\n",
    "my_mc()"
   ]
  }
 ],
 "metadata": {
  "kernelspec": {
   "display_name": "Python 3",
   "language": "python",
   "name": "python3"
  },
  "language_info": {
   "codemirror_mode": {
    "name": "ipython",
    "version": 3
   },
   "file_extension": ".py",
   "mimetype": "text/x-python",
   "name": "python",
   "nbconvert_exporter": "python",
   "pygments_lexer": "ipython3",
   "version": "3.7.3"
  }
 },
 "nbformat": 4,
 "nbformat_minor": 2
}
