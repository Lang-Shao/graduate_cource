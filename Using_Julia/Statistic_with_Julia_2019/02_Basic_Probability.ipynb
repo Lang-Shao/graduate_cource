{
 "cells": [
  {
   "cell_type": "code",
   "execution_count": 6,
   "metadata": {},
   "outputs": [
    {
     "name": "stdout",
     "output_type": "stream",
     "text": [
      "Numerical solution = 0.5 \n",
      "Monte Carlo estimate = 0.488\n",
      "  0.114259 seconds (147.93 k allocations: 7.133 MiB)\n"
     ]
    }
   ],
   "source": [
    "@time begin\n",
    "N, faces = 10^3, 1:6\n",
    "numSol = sum([iseven(i+j) for i in faces, j in faces]) / length(faces)^2\n",
    "mcEst = sum([iseven(rand(faces)+rand(faces)) for i in 1:N]) / N\n",
    "println(\"Numerical solution = $numSol \\nMonte Carlo estimate = $mcEst\")\n",
    "end"
   ]
  },
  {
   "cell_type": "code",
   "execution_count": 7,
   "metadata": {},
   "outputs": [
    {
     "name": "stdout",
     "output_type": "stream",
     "text": [
      "Numerical solution = 0.5 \n",
      "Monte Carlo estimate = 0.4996\n",
      "  0.116371 seconds (147.93 k allocations: 7.141 MiB)\n"
     ]
    }
   ],
   "source": [
    "@time begin\n",
    "N, faces = 10^4, 1:6\n",
    "numSol = sum([iseven(i+j) for i in faces, j in faces]) / length(faces)^2\n",
    "mcEst = sum([iseven(rand(faces)+rand(faces)) for i in 1:N]) / N\n",
    "println(\"Numerical solution = $numSol \\nMonte Carlo estimate = $mcEst\")\n",
    "end"
   ]
  },
  {
   "cell_type": "code",
   "execution_count": 8,
   "metadata": {},
   "outputs": [
    {
     "name": "stdout",
     "output_type": "stream",
     "text": [
      "Numerical solution = 0.5 \n",
      "Monte Carlo estimate = 0.49984\n",
      "  0.122233 seconds (147.93 k allocations: 7.228 MiB)\n"
     ]
    }
   ],
   "source": [
    "@time begin\n",
    "N, faces = 10^5, 1:6\n",
    "numSol = sum([iseven(i+j) for i in faces, j in faces]) / length(faces)^2\n",
    "mcEst = sum([iseven(rand(faces)+rand(faces)) for i in 1:N]) / N\n",
    "println(\"Numerical solution = $numSol \\nMonte Carlo estimate = $mcEst\")\n",
    "end"
   ]
  },
  {
   "cell_type": "code",
   "execution_count": 10,
   "metadata": {},
   "outputs": [
    {
     "name": "stdout",
     "output_type": "stream",
     "text": [
      "Numerical solution = 0.5 \n",
      "Monte Carlo estimate = 0.500124\n",
      "  0.214925 seconds (147.93 k allocations: 8.085 MiB)\n"
     ]
    }
   ],
   "source": [
    "@time begin\n",
    "N, faces = 10^6, 1:6\n",
    "numSol = sum([iseven(i+j) for i in faces, j in faces]) / length(faces)^2\n",
    "mcEst = sum([iseven(rand(faces)+rand(faces)) for i in 1:N]) / N\n",
    "println(\"Numerical solution = $numSol \\nMonte Carlo estimate = $mcEst\")\n",
    "end"
   ]
  },
  {
   "cell_type": "code",
   "execution_count": 11,
   "metadata": {},
   "outputs": [
    {
     "name": "stdout",
     "output_type": "stream",
     "text": [
      "Numerical solution = 0.5 \n",
      "Monte Carlo estimate = 0.4999595\n",
      "  1.147636 seconds (147.95 k allocations: 16.674 MiB, 0.34% gc time)\n"
     ]
    }
   ],
   "source": [
    "@time begin\n",
    "N, faces = 10^7, 1:6\n",
    "numSol = sum([iseven(i+j) for i in faces, j in faces]) / length(faces)^2\n",
    "mcEst = sum([iseven(rand(faces)+rand(faces)) for i in 1:N]) / N\n",
    "println(\"Numerical solution = $numSol \\nMonte Carlo estimate = $mcEst\")\n",
    "end"
   ]
  },
  {
   "cell_type": "code",
   "execution_count": 12,
   "metadata": {},
   "outputs": [
    {
     "name": "stdout",
     "output_type": "stream",
     "text": [
      "Numerical solution = 0.5 \n",
      "Monte Carlo estimate = 0.50000221\n",
      " 10.117869 seconds (149.85 k allocations: 102.612 MiB, 0.12% gc time)\n"
     ]
    }
   ],
   "source": [
    "@time begin\n",
    "N, faces = 10^8, 1:6\n",
    "numSol = sum([iseven(i+j) for i in faces, j in faces]) / length(faces)^2\n",
    "mcEst = sum([iseven(rand(faces)+rand(faces)) for i in 1:N]) / N\n",
    "println(\"Numerical solution = $numSol \\nMonte Carlo estimate = $mcEst\")\n",
    "end"
   ]
  },
  {
   "cell_type": "code",
   "execution_count": 5,
   "metadata": {},
   "outputs": [
    {
     "name": "stdout",
     "output_type": "stream",
     "text": [
      "Numerical solution = 0.5 \n",
      "Monte Carlo estimate = 0.500004298\n",
      "101.934168 seconds (147.95 k allocations: 960.808 MiB, 0.06% gc time)\n"
     ]
    }
   ],
   "source": [
    "@time begin\n",
    "N, faces = 10^9, 1:6\n",
    "numSol = sum([iseven(i+j) for i in faces, j in faces]) / length(faces)^2\n",
    "mcEst = sum([iseven(rand(faces)+rand(faces)) for i in 1:N]) / N\n",
    "println(\"Numerical solution = $numSol \\nMonte Carlo estimate = $mcEst\")\n",
    "end"
   ]
  },
  {
   "cell_type": "code",
   "execution_count": null,
   "metadata": {},
   "outputs": [],
   "source": [
    "@time begin\n",
    "N, faces = 10^10, 1:6\n",
    "numSol = sum([iseven(i+j) for i in faces, j in faces]) / length(faces)^2\n",
    "mcEst = sum([iseven(rand(faces)+rand(faces)) for i in 1:N]) / N\n",
    "println(\"Numerical solution = $numSol \\nMonte Carlo estimate = $mcEst\")\n",
    "end"
   ]
  },
  {
   "cell_type": "code",
   "execution_count": null,
   "metadata": {},
   "outputs": [],
   "source": []
  }
 ],
 "metadata": {
  "kernelspec": {
   "display_name": "Julia 1.1.1",
   "language": "julia",
   "name": "julia-1.1"
  },
  "language_info": {
   "file_extension": ".jl",
   "mimetype": "application/julia",
   "name": "julia",
   "version": "1.1.1"
  }
 },
 "nbformat": 4,
 "nbformat_minor": 2
}
