{
 "cells": [
  {
   "cell_type": "code",
   "execution_count": 6,
   "metadata": {},
   "outputs": [
    {
     "name": "stdout",
     "output_type": "stream",
     "text": [
      "Numerical solution = 0.5 \n",
      "Monte Carlo estimate = 0.488\n",
      "  0.114259 seconds (147.93 k allocations: 7.133 MiB)\n"
     ]
    }
   ],
   "source": [
    "@time begin\n",
    "N, faces = 10^3, 1:6\n",
    "numSol = sum([iseven(i+j) for i in faces, j in faces]) / length(faces)^2\n",
    "mcEst = sum([iseven(rand(faces)+rand(faces)) for i in 1:N]) / N\n",
    "println(\"Numerical solution = $numSol \\nMonte Carlo estimate = $mcEst\")\n",
    "end"
   ]
  },
  {
   "cell_type": "code",
   "execution_count": 7,
   "metadata": {},
   "outputs": [
    {
     "name": "stdout",
     "output_type": "stream",
     "text": [
      "Numerical solution = 0.5 \n",
      "Monte Carlo estimate = 0.4996\n",
      "  0.116371 seconds (147.93 k allocations: 7.141 MiB)\n"
     ]
    }
   ],
   "source": [
    "@time begin\n",
    "N, faces = 10^4, 1:6\n",
    "numSol = sum([iseven(i+j) for i in faces, j in faces]) / length(faces)^2\n",
    "mcEst = sum([iseven(rand(faces)+rand(faces)) for i in 1:N]) / N\n",
    "println(\"Numerical solution = $numSol \\nMonte Carlo estimate = $mcEst\")\n",
    "end"
   ]
  },
  {
   "cell_type": "code",
   "execution_count": 8,
   "metadata": {},
   "outputs": [
    {
     "name": "stdout",
     "output_type": "stream",
     "text": [
      "Numerical solution = 0.5 \n",
      "Monte Carlo estimate = 0.49984\n",
      "  0.122233 seconds (147.93 k allocations: 7.228 MiB)\n"
     ]
    }
   ],
   "source": [
    "@time begin\n",
    "N, faces = 10^5, 1:6\n",
    "numSol = sum([iseven(i+j) for i in faces, j in faces]) / length(faces)^2\n",
    "mcEst = sum([iseven(rand(faces)+rand(faces)) for i in 1:N]) / N\n",
    "println(\"Numerical solution = $numSol \\nMonte Carlo estimate = $mcEst\")\n",
    "end"
   ]
  },
  {
   "cell_type": "code",
   "execution_count": 10,
   "metadata": {},
   "outputs": [
    {
     "name": "stdout",
     "output_type": "stream",
     "text": [
      "Numerical solution = 0.5 \n",
      "Monte Carlo estimate = 0.500124\n",
      "  0.214925 seconds (147.93 k allocations: 8.085 MiB)\n"
     ]
    }
   ],
   "source": [
    "@time begin\n",
    "N, faces = 10^6, 1:6\n",
    "numSol = sum([iseven(i+j) for i in faces, j in faces]) / length(faces)^2\n",
    "mcEst = sum([iseven(rand(faces)+rand(faces)) for i in 1:N]) / N\n",
    "println(\"Numerical solution = $numSol \\nMonte Carlo estimate = $mcEst\")\n",
    "end"
   ]
  },
  {
   "cell_type": "code",
   "execution_count": 11,
   "metadata": {},
   "outputs": [
    {
     "name": "stdout",
     "output_type": "stream",
     "text": [
      "Numerical solution = 0.5 \n",
      "Monte Carlo estimate = 0.4999595\n",
      "  1.147636 seconds (147.95 k allocations: 16.674 MiB, 0.34% gc time)\n"
     ]
    }
   ],
   "source": [
    "@time begin\n",
    "N, faces = 10^7, 1:6\n",
    "numSol = sum([iseven(i+j) for i in faces, j in faces]) / length(faces)^2\n",
    "mcEst = sum([iseven(rand(faces)+rand(faces)) for i in 1:N]) / N\n",
    "println(\"Numerical solution = $numSol \\nMonte Carlo estimate = $mcEst\")\n",
    "end"
   ]
  },
  {
   "cell_type": "code",
   "execution_count": 12,
   "metadata": {},
   "outputs": [
    {
     "name": "stdout",
     "output_type": "stream",
     "text": [
      "Numerical solution = 0.5 \n",
      "Monte Carlo estimate = 0.50000221\n",
      " 10.117869 seconds (149.85 k allocations: 102.612 MiB, 0.12% gc time)\n"
     ]
    }
   ],
   "source": [
    "@time begin\n",
    "N, faces = 10^8, 1:6\n",
    "numSol = sum([iseven(i+j) for i in faces, j in faces]) / length(faces)^2\n",
    "mcEst = sum([iseven(rand(faces)+rand(faces)) for i in 1:N]) / N\n",
    "println(\"Numerical solution = $numSol \\nMonte Carlo estimate = $mcEst\")\n",
    "end"
   ]
  },
  {
   "cell_type": "code",
   "execution_count": 5,
   "metadata": {},
   "outputs": [
    {
     "name": "stdout",
     "output_type": "stream",
     "text": [
      "Numerical solution = 0.5 \n",
      "Monte Carlo estimate = 0.500004298\n",
      "101.934168 seconds (147.95 k allocations: 960.808 MiB, 0.06% gc time)\n"
     ]
    }
   ],
   "source": [
    "@time begin\n",
    "N, faces = 10^9, 1:6\n",
    "numSol = sum([iseven(i+j) for i in faces, j in faces]) / length(faces)^2\n",
    "mcEst = sum([iseven(rand(faces)+rand(faces)) for i in 1:N]) / N\n",
    "println(\"Numerical solution = $numSol \\nMonte Carlo estimate = $mcEst\")\n",
    "end"
   ]
  },
  {
   "cell_type": "code",
   "execution_count": null,
   "metadata": {},
   "outputs": [],
   "source": [
    "@time begin\n",
    "N, faces = 10^10, 1:6\n",
    "numSol = sum([iseven(i+j) for i in faces, j in faces]) / length(faces)^2\n",
    "mcEst = sum([iseven(rand(faces)+rand(faces)) for i in 1:N]) / N\n",
    "println(\"Numerical solution = $numSol \\nMonte Carlo estimate = $mcEst\")\n",
    "end"
   ]
  },
  {
   "cell_type": "code",
   "execution_count": 11,
   "metadata": {
    "scrolled": true
   },
   "outputs": [
    {
     "data": {
      "image/png": "[encoded data removed]",
      "text/plain": [
       "Figure(PyObject <Figure size 640x480 with 1 Axes>)"
      ]
     },
     "metadata": {},
     "output_type": "display_data"
    },
    {
     "name": "stdout",
     "output_type": "stream",
     "text": [
      "  7.689549 seconds (10.33 M allocations: 15.694 GiB, 14.75% gc time)\n"
     ]
    },
    {
     "data": {
      "text/plain": [
       "PyObject <matplotlib.legend.Legend object at 0x7fac9c856dd8>"
      ]
     },
     "execution_count": 11,
     "metadata": {},
     "output_type": "execute_result"
    }
   ],
   "source": [
    "@time begin\n",
    "\n",
    "using StatsBase, Combinatorics, PyPlot\n",
    "\n",
    "xGrid = 1:50\n",
    "matchExists(n) = 1 - prod([k/365 for k in 365:-1:365-n+1])\n",
    "analyticSolution1 = [matchExists(n) for n in xGrid]\n",
    "\n",
    "function bdEvent(n)\n",
    "    birthdays = rand(1:365,n)\n",
    "    dayCounts = counts(birthdays, 1:365)\n",
    "    return maximum(dayCounts) > 1\n",
    "end\n",
    "\n",
    "probEst(n) = sum([bdEvent(n) for i in 1:N])/N\n",
    "\n",
    "N = 10^5\n",
    "mcEstimates = [probEst(n) for n in xGrid]\n",
    "\n",
    "plot(xGrid,analyticSolution1,\"b.\", label=\"Analytic solution\")\n",
    "plot(xGrid,mcEstimates,\"rx\",label=\"MC estimate\")\n",
    "xlabel(\"Number of people in group\")\n",
    "ylabel(\"Probability of birthday match\")\n",
    "#legend(loc=\"upper left\")\n",
    "legend()\n",
    "    \n",
    "end"
   ]
  },
  {
   "cell_type": "code",
   "execution_count": 16,
   "metadata": {},
   "outputs": [
    {
     "data": {
      "text/plain": [
       "'d': ASCII/Unicode U+0064 (category Ll: Letter, lowercase)"
      ]
     },
     "execution_count": 16,
     "metadata": {},
     "output_type": "execute_result"
    }
   ],
   "source": [
    "omega = 'a':'z'\n",
    "sample(omega)"
   ]
  },
  {
   "cell_type": "code",
   "execution_count": 18,
   "metadata": {},
   "outputs": [
    {
     "data": {
      "text/plain": [
       "3-element Array{Int64,1}:\n",
       " 256\n",
       " 307\n",
       "   9"
      ]
     },
     "execution_count": 18,
     "metadata": {},
     "output_type": "execute_result"
    }
   ],
   "source": [
    "rand(1:365,3)"
   ]
  },
  {
   "cell_type": "code",
   "execution_count": null,
   "metadata": {},
   "outputs": [],
   "source": []
  }
 ],
 "metadata": {
  "kernelspec": {
   "display_name": "Julia 1.1.1",
   "language": "julia",
   "name": "julia-1.1"
  },
  "language_info": {
   "file_extension": ".jl",
   "mimetype": "application/julia",
   "name": "julia",
   "version": "1.1.1"
  }
 },
 "nbformat": 4,
 "nbformat_minor": 2
}
