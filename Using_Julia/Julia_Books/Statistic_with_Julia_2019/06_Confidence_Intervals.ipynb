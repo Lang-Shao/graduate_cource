{
 "cells": [
  {
   "cell_type": "markdown",
   "metadata": {},
   "source": [
    "First introduced in Chap. 4.2：\n",
    "\n",
    "- Sample mean: $\\bar x = {\\Sigma_{i=1}^n x_i \\over n}$\n",
    "\n",
    "- Sample variance: $s^2$ = $\\Sigma_{i=1}^n(x_i-\\bar x)^2 \\over {n-1}$\n",
    "\n",
    "- Sample standard deviation: $s$ = $\\sqrt {s^2}$\n",
    "\n",
    "- Standard error: $s_{\\rm err}$ = s/$\\sqrt n$\n",
    "\n",
    "A typical formula for the confidence interval of the mean:\n",
    "$\\bar x \\pm K_\\alpha {s\\over \\sqrt n}$\n",
    "\n",
    "For normally distributed data: $K_\\alpha = z_{1-\\alpha/2}$ = quantile(Normal(),1-alpha/2)"
   ]
  },
  {
   "cell_type": "code",
   "execution_count": 14,
   "metadata": {},
   "outputs": [
    {
     "data": {
      "text/plain": [
       "1.6448536269514717"
      ]
     },
     "execution_count": 14,
     "metadata": {},
     "output_type": "execute_result"
    }
   ],
   "source": [
    "using Distributions\n",
    "\n",
    "alpha = 1 - 0.9\n",
    "quantile(Normal(),1-alpha/2)"
   ]
  },
  {
   "cell_type": "code",
   "execution_count": null,
   "metadata": {},
   "outputs": [],
   "source": []
  }
 ],
 "metadata": {
  "kernelspec": {
   "display_name": "Julia 1.1.1",
   "language": "julia",
   "name": "julia-1.1"
  },
  "language_info": {
   "file_extension": ".jl",
   "mimetype": "application/julia",
   "name": "julia",
   "version": "1.1.1"
  }
 },
 "nbformat": 4,
 "nbformat_minor": 2
}
